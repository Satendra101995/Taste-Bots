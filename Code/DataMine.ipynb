{
 "cells": [
  {
   "cell_type": "code",
   "execution_count": 13,
   "metadata": {
    "ExecuteTime": {
     "end_time": "2020-03-29T08:37:42.936863Z",
     "start_time": "2020-03-29T08:37:42.931875Z"
    }
   },
   "outputs": [
    {
     "name": "stderr",
     "output_type": "stream",
     "text": [
      "[nltk_data] Downloading package stopwords to\n",
      "[nltk_data]     C:\\Users\\Asus\\AppData\\Roaming\\nltk_data...\n",
      "[nltk_data]   Package stopwords is already up-to-date!\n"
     ]
    }
   ],
   "source": [
    "import pandas as pd\n",
    "import nltk\n",
    "from nltk.tokenize import word_tokenize\n",
    "nltk.download('stopwords')\n",
    "from nltk.corpus import stopwords\n",
    "from collections import Counter\n"
   ]
  },
  {
   "cell_type": "code",
   "execution_count": 165,
   "metadata": {
    "ExecuteTime": {
     "end_time": "2020-03-29T11:04:21.586484Z",
     "start_time": "2020-03-29T11:04:16.376422Z"
    }
   },
   "outputs": [
    {
     "data": {
      "text/plain": [
       "(51717, 17)"
      ]
     },
     "execution_count": 165,
     "metadata": {},
     "output_type": "execute_result"
    }
   ],
   "source": [
    "df = pd.read_csv('zomato.csv')\n",
    "df.shape"
   ]
  },
  {
   "cell_type": "code",
   "execution_count": 166,
   "metadata": {
    "ExecuteTime": {
     "end_time": "2020-03-29T11:04:24.222432Z",
     "start_time": "2020-03-29T11:04:22.481091Z"
    }
   },
   "outputs": [],
   "source": [
    "df.drop_duplicates(['reviews_list'],inplace=True)\n"
   ]
  },
  {
   "cell_type": "code",
   "execution_count": 185,
   "metadata": {
    "ExecuteTime": {
     "end_time": "2020-03-29T12:03:18.911910Z",
     "start_time": "2020-03-29T12:03:18.803228Z"
    }
   },
   "outputs": [],
   "source": [
    "# Getting reviews of barbeque nation\n",
    "df_bbn = pd.DataFrame()\n",
    "restaurants = [\"Bologna\"]\n",
    "for value in restaurants:\n",
    "   \n",
    "    df_restaurant=df[df.name == value][['reviews_list']].reset_index()\n",
    "    df_restaurant.drop(columns='index',inplace=True)\n",
    "    \n",
    "\n",
    "\n",
    "    df_restaurant.replace(to_replace=r'\\\\n',value=' ',regex=True,inplace=True)\n",
    "    df_restaurant.replace(to_replace=r\"\\(\\'Rated \\d\\.0\\'\\,\",value='',regex=True,inplace=True)\n",
    "    df_restaurant.replace(to_replace=r\"[^a-zA-Z\\'\\,\\.]\",value=' ',regex=True,inplace=True)\n",
    "    df_restaurant.replace(to_replace=r\"\\s+\",value=' ',regex=True,inplace=True)\n",
    "    df_restaurant.replace(to_replace=r\"\\'\\s\\'\",value=' ',regex=True,inplace=True)\n",
    "    df_restaurant.replace(to_replace=r\"\\sx\",value=' ',regex=True,inplace=True)\n",
    "\n",
    "    df_restaurant['reviews_list_list']= df_restaurant.reviews_list.apply(lambda x:x[7:].split('RATED'))\n",
    "\n",
    "    review_list = []\n",
    "    for i in range(0,df_restaurant.shape[0]):\n",
    "        for val in df_restaurant.reviews_list_list[i]:\n",
    "            review_list.append(val)\n",
    "\n",
    "    len(review_list)\n",
    "\n",
    "    df_rest = pd.DataFrame({'restaurant':value,'review':review_list})\n",
    "    df_bbn = pd.concat([df_bbn, df_rest], ignore_index=True)\n",
    "\n"
   ]
  },
  {
   "cell_type": "code",
   "execution_count": 186,
   "metadata": {
    "ExecuteTime": {
     "end_time": "2020-03-29T12:03:19.529258Z",
     "start_time": "2020-03-29T12:03:19.513301Z"
    }
   },
   "outputs": [
    {
     "data": {
      "text/html": [
       "<div>\n",
       "<style scoped>\n",
       "    .dataframe tbody tr th:only-of-type {\n",
       "        vertical-align: middle;\n",
       "    }\n",
       "\n",
       "    .dataframe tbody tr th {\n",
       "        vertical-align: top;\n",
       "    }\n",
       "\n",
       "    .dataframe thead th {\n",
       "        text-align: right;\n",
       "    }\n",
       "</style>\n",
       "<table border=\"1\" class=\"dataframe\">\n",
       "  <thead>\n",
       "    <tr style=\"text-align: right;\">\n",
       "      <th></th>\n",
       "      <th>restaurant</th>\n",
       "      <th>review</th>\n",
       "    </tr>\n",
       "  </thead>\n",
       "  <tbody>\n",
       "    <tr>\n",
       "      <th>0</th>\n",
       "      <td>Bologna</td>\n",
       "      <td>Always wanted to visit this place as it serves...</td>\n",
       "    </tr>\n",
       "    <tr>\n",
       "      <th>1</th>\n",
       "      <td>Bologna</td>\n",
       "      <td>To start of with I guess the menu is too over...</td>\n",
       "    </tr>\n",
       "    <tr>\n",
       "      <th>2</th>\n",
       "      <td>Bologna</td>\n",
       "      <td>A dainty Italian place tucked in the the midd...</td>\n",
       "    </tr>\n",
       "    <tr>\n",
       "      <th>3</th>\n",
       "      <td>Bologna</td>\n",
       "      <td>Such a nice Italian place in Indiranagar. It ...</td>\n",
       "    </tr>\n",
       "    <tr>\n",
       "      <th>4</th>\n",
       "      <td>Bologna</td>\n",
       "      <td>Another amazing Italian place in this city. W...</td>\n",
       "    </tr>\n",
       "  </tbody>\n",
       "</table>\n",
       "</div>"
      ],
      "text/plain": [
       "  restaurant                                             review\n",
       "0    Bologna  Always wanted to visit this place as it serves...\n",
       "1    Bologna   To start of with I guess the menu is too over...\n",
       "2    Bologna   A dainty Italian place tucked in the the midd...\n",
       "3    Bologna   Such a nice Italian place in Indiranagar. It ...\n",
       "4    Bologna   Another amazing Italian place in this city. W..."
      ]
     },
     "execution_count": 186,
     "metadata": {},
     "output_type": "execute_result"
    }
   ],
   "source": [
    "df1 = df_bbn.drop_duplicates(['review'])\n",
    "df1.head()"
   ]
  },
  {
   "cell_type": "code",
   "execution_count": 187,
   "metadata": {
    "ExecuteTime": {
     "end_time": "2020-03-29T12:03:20.108708Z",
     "start_time": "2020-03-29T12:03:20.103756Z"
    }
   },
   "outputs": [
    {
     "data": {
      "text/plain": [
       "(163, 2)"
      ]
     },
     "execution_count": 187,
     "metadata": {},
     "output_type": "execute_result"
    }
   ],
   "source": [
    "df1.shape"
   ]
  },
  {
   "cell_type": "code",
   "execution_count": 188,
   "metadata": {
    "ExecuteTime": {
     "end_time": "2020-03-29T12:03:23.371015Z",
     "start_time": "2020-03-29T12:03:23.291230Z"
    }
   },
   "outputs": [],
   "source": [
    "df_old=pd.read_excel('Restaurant_Review.xlsx').drop(['Unnamed: 0'],axis=1)\n",
    "df_new = pd.concat([df_old,df1])"
   ]
  },
  {
   "cell_type": "code",
   "execution_count": 190,
   "metadata": {
    "ExecuteTime": {
     "end_time": "2020-03-29T12:03:31.984024Z",
     "start_time": "2020-03-29T12:03:31.754607Z"
    }
   },
   "outputs": [],
   "source": [
    "df_new.to_excel('Restaurant_Review.xlsx')"
   ]
  },
  {
   "cell_type": "code",
   "execution_count": null,
   "metadata": {},
   "outputs": [],
   "source": []
  }
 ],
 "metadata": {
  "kernelspec": {
   "display_name": "Python 3",
   "language": "python",
   "name": "python3"
  },
  "language_info": {
   "codemirror_mode": {
    "name": "ipython",
    "version": 3
   },
   "file_extension": ".py",
   "mimetype": "text/x-python",
   "name": "python",
   "nbconvert_exporter": "python",
   "pygments_lexer": "ipython3",
   "version": "3.6.10"
  },
  "toc": {
   "base_numbering": 1,
   "nav_menu": {},
   "number_sections": true,
   "sideBar": true,
   "skip_h1_title": false,
   "title_cell": "Table of Contents",
   "title_sidebar": "Contents",
   "toc_cell": false,
   "toc_position": {},
   "toc_section_display": true,
   "toc_window_display": false
  }
 },
 "nbformat": 4,
 "nbformat_minor": 2
}
