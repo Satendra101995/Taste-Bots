{
 "cells": [
  {
   "cell_type": "code",
   "execution_count": 1,
   "metadata": {
    "ExecuteTime": {
     "end_time": "2020-04-08T06:56:08.888000Z",
     "start_time": "2020-04-08T06:56:08.081770Z"
    }
   },
   "outputs": [],
   "source": [
    "import pandas as pd\n",
    "\n"
   ]
  },
  {
   "cell_type": "code",
   "execution_count": 2,
   "metadata": {
    "ExecuteTime": {
     "end_time": "2020-04-08T06:56:17.776570Z",
     "start_time": "2020-04-08T06:56:17.741659Z"
    }
   },
   "outputs": [],
   "source": [
    "df= pd.read_csv('Pos_review_summary.csv')"
   ]
  },
  {
   "cell_type": "code",
   "execution_count": 3,
   "metadata": {
    "ExecuteTime": {
     "end_time": "2020-03-30T09:00:21.329993Z",
     "start_time": "2020-03-30T09:00:21.321017Z"
    }
   },
   "outputs": [
    {
     "data": {
      "text/plain": [
       "RangeIndex(start=0, stop=591, step=1)"
      ]
     },
     "execution_count": 3,
     "metadata": {},
     "output_type": "execute_result"
    }
   ],
   "source": [
    "df.index"
   ]
  },
  {
   "cell_type": "code",
   "execution_count": 37,
   "metadata": {
    "ExecuteTime": {
     "end_time": "2020-04-08T07:19:08.928879Z",
     "start_time": "2020-04-08T07:19:08.609693Z"
    }
   },
   "outputs": [],
   "source": [
    "df2 = pd.read_csv('Review_CD.csv')"
   ]
  },
  {
   "cell_type": "code",
   "execution_count": 7,
   "metadata": {
    "ExecuteTime": {
     "end_time": "2020-03-30T09:00:23.956064Z",
     "start_time": "2020-03-30T09:00:23.913180Z"
    }
   },
   "outputs": [
    {
     "data": {
      "text/html": [
       "<div>\n",
       "<style scoped>\n",
       "    .dataframe tbody tr th:only-of-type {\n",
       "        vertical-align: middle;\n",
       "    }\n",
       "\n",
       "    .dataframe tbody tr th {\n",
       "        vertical-align: top;\n",
       "    }\n",
       "\n",
       "    .dataframe thead th {\n",
       "        text-align: right;\n",
       "    }\n",
       "</style>\n",
       "<table border=\"1\" class=\"dataframe\">\n",
       "  <thead>\n",
       "    <tr style=\"text-align: right;\">\n",
       "      <th></th>\n",
       "      <th>restaurant</th>\n",
       "      <th>rating</th>\n",
       "      <th>review</th>\n",
       "      <th>review_length</th>\n",
       "      <th>biryani_order</th>\n",
       "      <th>Biryani</th>\n",
       "      <th>Ambience</th>\n",
       "      <th>Service</th>\n",
       "      <th>Quality</th>\n",
       "      <th>Buffet</th>\n",
       "      <th>tsne1</th>\n",
       "      <th>tsne2</th>\n",
       "      <th>label</th>\n",
       "    </tr>\n",
       "  </thead>\n",
       "  <tbody>\n",
       "    <tr>\n",
       "      <th>0</th>\n",
       "      <td>100C</td>\n",
       "      <td>4.625000</td>\n",
       "      <td>16</td>\n",
       "      <td>282.125000</td>\n",
       "      <td>0.295273</td>\n",
       "      <td>0.233111</td>\n",
       "      <td>0.058193</td>\n",
       "      <td>0.114440</td>\n",
       "      <td>0.273331</td>\n",
       "      <td>0.025652</td>\n",
       "      <td>34.604137</td>\n",
       "      <td>5.148355</td>\n",
       "      <td>2</td>\n",
       "    </tr>\n",
       "    <tr>\n",
       "      <th>1</th>\n",
       "      <td>1441 Pizzeria</td>\n",
       "      <td>4.200000</td>\n",
       "      <td>25</td>\n",
       "      <td>553.880000</td>\n",
       "      <td>0.061562</td>\n",
       "      <td>0.025357</td>\n",
       "      <td>0.033657</td>\n",
       "      <td>0.699342</td>\n",
       "      <td>0.066992</td>\n",
       "      <td>0.113090</td>\n",
       "      <td>-39.153248</td>\n",
       "      <td>1.532129</td>\n",
       "      <td>2</td>\n",
       "    </tr>\n",
       "    <tr>\n",
       "      <th>2</th>\n",
       "      <td>1722 Urban Bistro</td>\n",
       "      <td>4.395349</td>\n",
       "      <td>43</td>\n",
       "      <td>611.604651</td>\n",
       "      <td>0.262710</td>\n",
       "      <td>0.016396</td>\n",
       "      <td>0.170299</td>\n",
       "      <td>0.354318</td>\n",
       "      <td>0.124198</td>\n",
       "      <td>0.072079</td>\n",
       "      <td>-5.722256</td>\n",
       "      <td>4.683798</td>\n",
       "      <td>2</td>\n",
       "    </tr>\n",
       "    <tr>\n",
       "      <th>3</th>\n",
       "      <td>1947</td>\n",
       "      <td>4.166667</td>\n",
       "      <td>48</td>\n",
       "      <td>388.958333</td>\n",
       "      <td>0.057836</td>\n",
       "      <td>0.030320</td>\n",
       "      <td>0.097409</td>\n",
       "      <td>0.382053</td>\n",
       "      <td>0.099142</td>\n",
       "      <td>0.333241</td>\n",
       "      <td>-25.234114</td>\n",
       "      <td>-22.952934</td>\n",
       "      <td>0</td>\n",
       "    </tr>\n",
       "    <tr>\n",
       "      <th>4</th>\n",
       "      <td>24th Main</td>\n",
       "      <td>4.300000</td>\n",
       "      <td>10</td>\n",
       "      <td>409.300000</td>\n",
       "      <td>0.028908</td>\n",
       "      <td>0.003965</td>\n",
       "      <td>0.081378</td>\n",
       "      <td>0.289039</td>\n",
       "      <td>0.104700</td>\n",
       "      <td>0.492010</td>\n",
       "      <td>-28.374153</td>\n",
       "      <td>-28.099382</td>\n",
       "      <td>0</td>\n",
       "    </tr>\n",
       "  </tbody>\n",
       "</table>\n",
       "</div>"
      ],
      "text/plain": [
       "          restaurant    rating  review  review_length  biryani_order  \\\n",
       "0               100C  4.625000      16     282.125000       0.295273   \n",
       "1      1441 Pizzeria  4.200000      25     553.880000       0.061562   \n",
       "2  1722 Urban Bistro  4.395349      43     611.604651       0.262710   \n",
       "3               1947  4.166667      48     388.958333       0.057836   \n",
       "4          24th Main  4.300000      10     409.300000       0.028908   \n",
       "\n",
       "    Biryani  Ambience   Service   Quality    Buffet      tsne1      tsne2  \\\n",
       "0  0.233111  0.058193  0.114440  0.273331  0.025652  34.604137   5.148355   \n",
       "1  0.025357  0.033657  0.699342  0.066992  0.113090 -39.153248   1.532129   \n",
       "2  0.016396  0.170299  0.354318  0.124198  0.072079  -5.722256   4.683798   \n",
       "3  0.030320  0.097409  0.382053  0.099142  0.333241 -25.234114 -22.952934   \n",
       "4  0.003965  0.081378  0.289039  0.104700  0.492010 -28.374153 -28.099382   \n",
       "\n",
       "   label  \n",
       "0      2  \n",
       "1      2  \n",
       "2      2  \n",
       "3      0  \n",
       "4      0  "
      ]
     },
     "execution_count": 7,
     "metadata": {},
     "output_type": "execute_result"
    }
   ],
   "source": [
    "df.head()"
   ]
  },
  {
   "cell_type": "code",
   "execution_count": 9,
   "metadata": {
    "ExecuteTime": {
     "end_time": "2020-03-30T09:00:29.159428Z",
     "start_time": "2020-03-30T09:00:29.154458Z"
    }
   },
   "outputs": [],
   "source": [
    "## Topic Recommendations\n",
    "def Topic(Topic):\n",
    "    n = 8\n",
    "    lst = []\n",
    "    try:\n",
    "        for i in range(n):\n",
    "            lst.append(df.sort_values([Topic,'rating'],ascending = False)['restaurant'][:n].get_values()[i])\n",
    "        return lst\n",
    "    except:\n",
    "        print('Please Provide Proper Topic')\n",
    "    \n"
   ]
  },
  {
   "cell_type": "code",
   "execution_count": 10,
   "metadata": {
    "ExecuteTime": {
     "end_time": "2020-03-30T09:00:31.093240Z",
     "start_time": "2020-03-30T09:00:31.089244Z"
    }
   },
   "outputs": [],
   "source": [
    "## Topic Recommendations page 2\n",
    "def Topic2(Topic):\n",
    "    n = 8\n",
    "    s = 16\n",
    "    lst = []\n",
    "    try:\n",
    "        for i in range(n):\n",
    "            lst.append(df.sort_values([Topic,'rating'],ascending = False)['restaurant'][n:s].get_values()[i])\n",
    "        return lst\n",
    "    except:\n",
    "        print('Please Provide Proper Topic')\n",
    "    \n"
   ]
  },
  {
   "cell_type": "code",
   "execution_count": 11,
   "metadata": {
    "ExecuteTime": {
     "end_time": "2020-03-30T09:00:32.726839Z",
     "start_time": "2020-03-30T09:00:32.721854Z"
    }
   },
   "outputs": [],
   "source": [
    "    ## Similar Restaurants\n",
    "\n",
    "    def Similar_Restaurants(name):\n",
    "        n=9\n",
    "        lst = []\n",
    "        try:\n",
    "            for i in range(n):\n",
    "                lst.append(df[df.label == df[df.restaurant==name]['label'].get_values()[0]].sort_values(['review',\n",
    "                            'rating'],ascending = False)['restaurant'][:n].get_values()[i])\n",
    "            if name in lst:\n",
    "                lst.remove(name)\n",
    "            else :\n",
    "                lst =  lst[:n-1]\n",
    "            return lst\n",
    "        except:\n",
    "            print('Please Provide Proper Restaurant Name')\n"
   ]
  },
  {
   "cell_type": "code",
   "execution_count": 12,
   "metadata": {
    "ExecuteTime": {
     "end_time": "2020-03-30T09:00:33.714086Z",
     "start_time": "2020-03-30T09:00:33.708071Z"
    }
   },
   "outputs": [],
   "source": [
    "## Similar Restaurants page 2\n",
    "\n",
    "def Similar_Restaurants2(name):\n",
    "    n=9\n",
    "    s=18\n",
    "    lst = []\n",
    "    try:\n",
    "        for i in range(n):\n",
    "            lst.append(df[df.label == df[df.restaurant==name]['label'].get_values()[0]].sort_values(['review',\n",
    "                        'rating'],ascending = False)['restaurant'][n:s].get_values()[i])\n",
    "        if name in lst:\n",
    "            lst.remove(name)\n",
    "        else :\n",
    "            lst =  lst[:n-1]\n",
    "        return lst\n",
    "    except:\n",
    "        print('Please Provide Proper Restaurant Name')\n",
    "    "
   ]
  },
  {
   "cell_type": "code",
   "execution_count": 15,
   "metadata": {
    "ExecuteTime": {
     "end_time": "2020-03-30T09:00:58.719431Z",
     "start_time": "2020-03-30T09:00:58.672510Z"
    }
   },
   "outputs": [
    {
     "data": {
      "text/plain": [
       "['Flechazo',\n",
       " 'Mast Biryani Fresh Indian Kitchen',\n",
       " 'Delhi Highway',\n",
       " 'RRoyal Rajasthan',\n",
       " 'New Friends',\n",
       " 'Fazzito Kitchen',\n",
       " 'Rajdhani Thali Restaurant',\n",
       " 'Nandhini Deluxe']"
      ]
     },
     "execution_count": 15,
     "metadata": {},
     "output_type": "execute_result"
    }
   ],
   "source": [
    "Similar_Restaurants2(\"AB's Absolute Barbecues\")"
   ]
  },
  {
   "cell_type": "code",
   "execution_count": 54,
   "metadata": {
    "ExecuteTime": {
     "end_time": "2020-03-28T08:44:58.217557Z",
     "start_time": "2020-03-28T08:44:58.213566Z"
    }
   },
   "outputs": [
    {
     "data": {
      "text/plain": [
       "[\"AB's Absolute Barbecues\",\n",
       " 'Cinnamon',\n",
       " 'Barbeque Nation',\n",
       " 'Nagarjuna',\n",
       " 'Mast Kalandar',\n",
       " 'Whooppeezz',\n",
       " 'Pallavi Restaurant',\n",
       " 'Konaseema Grand',\n",
       " 'Burma Burma']"
      ]
     },
     "execution_count": 54,
     "metadata": {},
     "output_type": "execute_result"
    }
   ],
   "source": [
    "lst"
   ]
  },
  {
   "cell_type": "code",
   "execution_count": 28,
   "metadata": {
    "ExecuteTime": {
     "end_time": "2020-03-27T19:06:04.220824Z",
     "start_time": "2020-03-27T19:06:04.189803Z"
    }
   },
   "outputs": [
    {
     "data": {
      "text/plain": [
       "['Chow San',\n",
       " 'Spicy Onion',\n",
       " 'Rayalaseema Spices',\n",
       " 'Axomi Taste of Assam',\n",
       " \"Mamaji's\",\n",
       " 'Biryani Express',\n",
       " 'Sankranti',\n",
       " 'Spice Affair']"
      ]
     },
     "execution_count": 28,
     "metadata": {},
     "output_type": "execute_result"
    }
   ],
   "source": [
    "Topic2('Quality')"
   ]
  },
  {
   "cell_type": "code",
   "execution_count": 23,
   "metadata": {
    "ExecuteTime": {
     "end_time": "2020-04-08T07:07:51.886168Z",
     "start_time": "2020-04-08T07:07:51.877160Z"
    }
   },
   "outputs": [],
   "source": [
    "## Review Extraction\n",
    "def Review(name):\n",
    "    n = 3\n",
    "    lst_tail = []\n",
    "    lst_top = []\n",
    "    try:\n",
    "        for i in range(n):\n",
    "            lst_tail.append(df2[df2.restaurant == name].sort_values('rating',\n",
    "                                                                  ascending = True)['review'][:3].get_values()[i])\n",
    "            lst_top.append(df2[df2.restaurant == name].sort_values('rating',\n",
    "                                                                  ascending = False)['review'][:3].get_values()[i])  \n",
    "        return lst_tail,lst_top\n",
    "    except:\n",
    "        print('Please Provide Proper Restaurant Name')\n",
    "    \n"
   ]
  },
  {
   "cell_type": "code",
   "execution_count": 39,
   "metadata": {
    "ExecuteTime": {
     "end_time": "2020-04-08T08:33:38.205905Z",
     "start_time": "2020-04-08T08:33:38.165015Z"
    }
   },
   "outputs": [],
   "source": [
    "a,b = Review('Jalsa')"
   ]
  },
  {
   "cell_type": "code",
   "execution_count": 40,
   "metadata": {
    "ExecuteTime": {
     "end_time": "2020-04-08T08:33:39.988968Z",
     "start_time": "2020-04-08T08:33:39.981989Z"
    }
   },
   "outputs": [
    {
     "data": {
      "text/plain": [
       "[\"The fact that it's been around for a while and has a high rating on zomato led me into trying this place out Big mistake If only they had spent as much money on the chef and food as they did on the gauzy interiors the Delhi style menu would actually have the Delhi type taste Right now it's shockingly indifferent\",\n",
       " 'Its a restaurant near to Banashankari BDA Me along with few of my office friends visited to have buffet but unfortunately they only provide veg buffet On inquiring they said this place is mostly visited by vegetarians Anyways we ordered ala carte items which took ages to come Food was ok ok Definitely not visiting anymore',\n",
       " 'We entered this place at 10 in the night and we had Zomato Golds The moment we informed this the attitude immediately changed The restaurant was supposed to be open till 11 but the waiter was rushing us to order finish soon The food was decent and quantity was good Order limited rotis as they might be bigger than you ect']"
      ]
     },
     "execution_count": 40,
     "metadata": {},
     "output_type": "execute_result"
    }
   ],
   "source": [
    "a"
   ]
  },
  {
   "cell_type": "code",
   "execution_count": 41,
   "metadata": {
    "ExecuteTime": {
     "end_time": "2020-04-08T08:33:42.638132Z",
     "start_time": "2020-04-08T08:33:42.630152Z"
    }
   },
   "outputs": [
    {
     "data": {
      "text/plain": [
       "[\"Nice place for lunch with office team The ambiance was really good It s a well balanced combination of royals and feeling like we dine in our own kingdom Food was good Service was pretty nice Overall erience was good subirmajumder85 wite com'\",\n",
       " \"This place is close to Bagmane WTC Constellation quick getaway for team lunch dinner The ambience is striking set up in Mughal style tapestry and waiters dressed up accordingly Food quality is simply amazing though a tad costly For me service was the best aspect of my visit Waiters were quick and smart They remembered each person's preference of food and drink even on consecutive orders something other places need to step up on A must visit for group team dining\",\n",
       " 'Yummy and lip smacking chicken platter Their Briyani s with variety of authentic deserts are the highlight bundled with on time service made our day Keep up the good work team']"
      ]
     },
     "execution_count": 41,
     "metadata": {},
     "output_type": "execute_result"
    }
   ],
   "source": [
    "b"
   ]
  },
  {
   "cell_type": "code",
   "execution_count": 117,
   "metadata": {
    "ExecuteTime": {
     "end_time": "2020-04-08T10:52:04.410997Z",
     "start_time": "2020-04-08T10:52:04.348163Z"
    }
   },
   "outputs": [],
   "source": [
    "#Returning Total Reviews and Percentage\n",
    "\n",
    "def Rating(name):\n",
    "    lst_rat = []\n",
    "    lst_per = []\n",
    "    df_test = round(df2[df2.restaurant==name].rating.value_counts()).astype(int).rename_axis('rati').reset_index()\n",
    "    df_test['Percentage'] = round((df_test.rating/sum(df_test.rating))*100)\n",
    "    sum_rating = sum(df_test.rating)\n",
    "    overall = round(sum(df_test.rati*df_test.rating)/sum(df_test.rating),1)\n",
    "    for i in range(5):\n",
    "        try:\n",
    "            lst_per.append(df_test[df_test.rati == i+1].Percentage.get_values()[0])\n",
    "            lst_rat.append(df_test[df_test.rati == i+1].rating.get_values()[0])\n",
    "        except:\n",
    "            lst_per.append(0)\n",
    "            lst_rat.append(0)\n",
    "    return sum_rating,overall,lst_per,lst_rat"
   ]
  },
  {
   "cell_type": "code",
   "execution_count": 126,
   "metadata": {
    "ExecuteTime": {
     "end_time": "2020-04-08T11:12:16.327877Z",
     "start_time": "2020-04-08T11:12:16.280976Z"
    }
   },
   "outputs": [],
   "source": [
    "total_review,Avg_rating,percentages,rati = Rating('Barbeque Nation')"
   ]
  },
  {
   "cell_type": "code",
   "execution_count": 127,
   "metadata": {
    "ExecuteTime": {
     "end_time": "2020-04-08T11:12:18.640155Z",
     "start_time": "2020-04-08T11:12:18.567331Z"
    }
   },
   "outputs": [],
   "source": [
    "def Star(Avg_rating):\n",
    "\tif round(Avg_rating) ==1:\n",
    "\t\treturn [\"fa fa-star checked\",\"fa fa-star\",\"fa fa-star\",\"fa fa-star\",\"fa fa-star\",]\n",
    "\telif round(Avg_rating) ==2:\n",
    "\t\treturn [\"fa fa-star checked\",\"fa fa-star checked\",\"fa fa-star\",\"fa fa-star\",\"fa fa-star\",]\n",
    "\telif round(Avg_rating) ==3:\n",
    "\t\treturn [\"fa fa-star checked\",\"fa fa-star checked\",\"fa fa-star checked\",\"fa fa-star\",\"fa fa-star\",]\n",
    "\telif round(Avg_rating) ==4:\n",
    "\t\treturn [\"fa fa-star checked\",\"fa fa-star checked\",\"fa fa-star checked\",\"fa fa-star checked\",\"fa fa-star\",]\n",
    "\telif round(Avg_rating) ==5:\n",
    "\t\treturn [\"fa fa-star checked\",\"fa fa-star checked\",\"fa fa-star checked\",\"fa fa-star checked\",\"fa fa-star checked\"]"
   ]
  }
 ],
 "metadata": {
  "kernelspec": {
   "display_name": "Python 3",
   "language": "python",
   "name": "python3"
  },
  "language_info": {
   "codemirror_mode": {
    "name": "ipython",
    "version": 3
   },
   "file_extension": ".py",
   "mimetype": "text/x-python",
   "name": "python",
   "nbconvert_exporter": "python",
   "pygments_lexer": "ipython3",
   "version": "3.7.3"
  },
  "toc": {
   "base_numbering": 1,
   "nav_menu": {},
   "number_sections": true,
   "sideBar": true,
   "skip_h1_title": false,
   "title_cell": "Table of Contents",
   "title_sidebar": "Contents",
   "toc_cell": false,
   "toc_position": {},
   "toc_section_display": true,
   "toc_window_display": false
  }
 },
 "nbformat": 4,
 "nbformat_minor": 2
}
