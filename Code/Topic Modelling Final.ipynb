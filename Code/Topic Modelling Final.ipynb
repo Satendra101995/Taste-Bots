{
 "cells": [
  {
   "cell_type": "code",
   "execution_count": 1,
   "metadata": {
    "ExecuteTime": {
     "end_time": "2020-04-08T06:10:02.448975Z",
     "start_time": "2020-04-08T06:09:57.393846Z"
    }
   },
   "outputs": [
    {
     "name": "stderr",
     "output_type": "stream",
     "text": [
      "[nltk_data] Downloading package stopwords to\n",
      "[nltk_data]     C:\\Users\\91907\\AppData\\Roaming\\nltk_data...\n",
      "[nltk_data]   Package stopwords is already up-to-date!\n"
     ]
    }
   ],
   "source": [
    "import pandas as pd\n",
    "import nltk\n",
    "from nltk.tokenize import word_tokenize\n",
    "nltk.download('stopwords')\n",
    "from nltk.corpus import stopwords\n",
    "import re\n",
    "import seaborn as sns\n",
    "import matplotlib.pyplot as plt\n",
    "import numpy as np\n",
    "from pprint import pprint"
   ]
  },
  {
   "cell_type": "code",
   "execution_count": 2,
   "metadata": {
    "ExecuteTime": {
     "end_time": "2020-04-08T06:10:04.643101Z",
     "start_time": "2020-04-08T06:10:03.222464Z"
    }
   },
   "outputs": [],
   "source": [
    "df = pd.read_csv('data_unique.csv',encoding = 'UTF-8')"
   ]
  },
  {
   "cell_type": "code",
   "execution_count": 3,
   "metadata": {
    "ExecuteTime": {
     "end_time": "2020-04-08T06:10:06.544147Z",
     "start_time": "2020-04-08T06:10:06.517108Z"
    }
   },
   "outputs": [],
   "source": [
    "df.review = df.review.astype(str)"
   ]
  },
  {
   "cell_type": "code",
   "execution_count": 4,
   "metadata": {
    "ExecuteTime": {
     "end_time": "2020-04-08T06:10:08.388412Z",
     "start_time": "2020-04-08T06:10:08.367433Z"
    }
   },
   "outputs": [
    {
     "data": {
      "text/html": [
       "<div>\n",
       "<style scoped>\n",
       "    .dataframe tbody tr th:only-of-type {\n",
       "        vertical-align: middle;\n",
       "    }\n",
       "\n",
       "    .dataframe tbody tr th {\n",
       "        vertical-align: top;\n",
       "    }\n",
       "\n",
       "    .dataframe thead th {\n",
       "        text-align: right;\n",
       "    }\n",
       "</style>\n",
       "<table border=\"1\" class=\"dataframe\">\n",
       "  <thead>\n",
       "    <tr style=\"text-align: right;\">\n",
       "      <th></th>\n",
       "      <th>restaurant</th>\n",
       "      <th>restaurant_type</th>\n",
       "      <th>rating</th>\n",
       "      <th>review</th>\n",
       "    </tr>\n",
       "  </thead>\n",
       "  <tbody>\n",
       "    <tr>\n",
       "      <th>0</th>\n",
       "      <td>Jalsa</td>\n",
       "      <td>Casual Dining</td>\n",
       "      <td>4.0</td>\n",
       "      <td>A beautiful place to dine in The interiors tak...</td>\n",
       "    </tr>\n",
       "    <tr>\n",
       "      <th>1</th>\n",
       "      <td>Jalsa</td>\n",
       "      <td>Casual Dining</td>\n",
       "      <td>4.0</td>\n",
       "      <td>I was here for dinner with my family on a week...</td>\n",
       "    </tr>\n",
       "    <tr>\n",
       "      <th>2</th>\n",
       "      <td>Jalsa</td>\n",
       "      <td>Casual Dining</td>\n",
       "      <td>2.0</td>\n",
       "      <td>Its a restaurant near to Banashankari BDA  Me ...</td>\n",
       "    </tr>\n",
       "    <tr>\n",
       "      <th>3</th>\n",
       "      <td>Jalsa</td>\n",
       "      <td>Casual Dining</td>\n",
       "      <td>4.0</td>\n",
       "      <td>We went here on a weekend and one of us had th...</td>\n",
       "    </tr>\n",
       "    <tr>\n",
       "      <th>4</th>\n",
       "      <td>Jalsa</td>\n",
       "      <td>Casual Dining</td>\n",
       "      <td>5.0</td>\n",
       "      <td>The best thing about the place is it   x83   x...</td>\n",
       "    </tr>\n",
       "  </tbody>\n",
       "</table>\n",
       "</div>"
      ],
      "text/plain": [
       "  restaurant restaurant_type  rating  \\\n",
       "0      Jalsa   Casual Dining     4.0   \n",
       "1      Jalsa   Casual Dining     4.0   \n",
       "2      Jalsa   Casual Dining     2.0   \n",
       "3      Jalsa   Casual Dining     4.0   \n",
       "4      Jalsa   Casual Dining     5.0   \n",
       "\n",
       "                                              review  \n",
       "0  A beautiful place to dine in The interiors tak...  \n",
       "1  I was here for dinner with my family on a week...  \n",
       "2  Its a restaurant near to Banashankari BDA  Me ...  \n",
       "3  We went here on a weekend and one of us had th...  \n",
       "4  The best thing about the place is it   x83   x...  "
      ]
     },
     "execution_count": 4,
     "metadata": {},
     "output_type": "execute_result"
    }
   ],
   "source": [
    "df.head()"
   ]
  },
  {
   "cell_type": "code",
   "execution_count": 5,
   "metadata": {
    "ExecuteTime": {
     "end_time": "2020-04-08T06:10:23.535444Z",
     "start_time": "2020-04-08T06:10:23.445918Z"
    }
   },
   "outputs": [],
   "source": [
    "df['review_length'] = df.review.map(len)"
   ]
  },
  {
   "cell_type": "code",
   "execution_count": 6,
   "metadata": {
    "ExecuteTime": {
     "end_time": "2020-04-08T06:10:30.629502Z",
     "start_time": "2020-04-08T06:10:26.849414Z"
    }
   },
   "outputs": [
    {
     "data": {
      "image/png": "[encoded data removed]",
      "text/plain": [
       "<Figure size 1944x216 with 9 Axes>"
      ]
     },
     "metadata": {
      "needs_background": "light"
     },
     "output_type": "display_data"
    }
   ],
   "source": [
    "# check how the review lengths are distributed\n",
    "\n",
    "ax = sns.FacetGrid(data=df, col='rating', xlim=(0, 2000)).map(plt.hist, 'review_length', bins=50)\n",
    "ax.axes[0][0].set(ylabel='number of reviews');"
   ]
  },
  {
   "cell_type": "code",
   "execution_count": 7,
   "metadata": {
    "ExecuteTime": {
     "end_time": "2020-04-08T06:10:30.641453Z",
     "start_time": "2020-04-08T06:10:30.633479Z"
    }
   },
   "outputs": [
    {
     "data": {
      "text/plain": [
       "<function seaborn.categorical.barplot(x=None, y=None, hue=None, data=None, order=None, hue_order=None, estimator=<function mean at 0x000002379CDF3488>, ci=95, n_boot=1000, units=None, orient=None, color=None, palette=None, saturation=0.75, errcolor='.26', errwidth=None, capsize=None, dodge=True, ax=None, **kwargs)>"
      ]
     },
     "execution_count": 7,
     "metadata": {},
     "output_type": "execute_result"
    }
   ],
   "source": [
    "sns.barplot"
   ]
  },
  {
   "cell_type": "code",
   "execution_count": 8,
   "metadata": {
    "ExecuteTime": {
     "end_time": "2020-04-08T06:10:31.961800Z",
     "start_time": "2020-04-08T06:10:31.940769Z"
    }
   },
   "outputs": [],
   "source": [
    "df_casual = df[df.restaurant_type=='Casual Dining']"
   ]
  },
  {
   "cell_type": "code",
   "execution_count": 9,
   "metadata": {
    "ExecuteTime": {
     "end_time": "2020-04-08T06:11:10.732847Z",
     "start_time": "2020-04-08T06:11:09.987061Z"
    }
   },
   "outputs": [],
   "source": [
    "df_casual.to_csv('Review_CD.csv',index = False)"
   ]
  },
  {
   "cell_type": "code",
   "execution_count": 24,
   "metadata": {
    "ExecuteTime": {
     "end_time": "2020-03-24T17:35:10.325562Z",
     "start_time": "2020-03-24T17:35:10.317583Z"
    }
   },
   "outputs": [
    {
     "name": "stdout",
     "output_type": "stream",
     "text": [
      "Postive Reviews:  25,553\n",
      "Negative Reviews:  8,356\n"
     ]
    }
   ],
   "source": [
    "pos_reviews = df_casual.review[df_casual.rating>3].values\n",
    "neg_reviews = df_casual.review[df_casual.rating<3].values\n",
    "print('Postive Reviews:  {:,}'.format(len(pos_reviews)))\n",
    "print('Negative Reviews:  {:,}'.format(len(neg_reviews)))"
   ]
  },
  {
   "cell_type": "code",
   "execution_count": 25,
   "metadata": {
    "ExecuteTime": {
     "end_time": "2020-03-24T17:36:20.190311Z",
     "start_time": "2020-03-24T17:36:20.186351Z"
    }
   },
   "outputs": [],
   "source": [
    "# additional stopwords\n",
    "from sklearn.feature_extraction import text \n",
    "extra_words = ['ve', 'like', 'got', 'Cleveland', 'just', \n",
    "               'don', 'really', 'said', 'told', 'ok',\n",
    "               'came', 'went', 'did', 'didn', 'good']\n",
    "stop_words = text.ENGLISH_STOP_WORDS.union(extra_words)\n",
    "\n"
   ]
  },
  {
   "cell_type": "markdown",
   "metadata": {},
   "source": [
    "#### TFIDF"
   ]
  },
  {
   "cell_type": "code",
   "execution_count": 26,
   "metadata": {
    "ExecuteTime": {
     "end_time": "2020-03-24T17:36:48.576325Z",
     "start_time": "2020-03-24T17:36:47.214992Z"
    }
   },
   "outputs": [
    {
     "name": "stderr",
     "output_type": "stream",
     "text": [
      "C:\\Users\\91907\\Anaconda3\\lib\\site-packages\\sklearn\\feature_extraction\\text.py:301: UserWarning: Your stop_words may be inconsistent with your preprocessing. Tokenizing the stop words generated tokens ['cleveland'] not in stop_words.\n",
      "  'stop_words.' % sorted(inconsistent))\n",
      "C:\\Users\\91907\\Anaconda3\\lib\\site-packages\\sklearn\\feature_extraction\\text.py:301: UserWarning: Your stop_words may be inconsistent with your preprocessing. Tokenizing the stop words generated tokens ['cleveland'] not in stop_words.\n",
      "  'stop_words.' % sorted(inconsistent))\n"
     ]
    }
   ],
   "source": [
    "from sklearn.feature_extraction.text import TfidfVectorizer\n",
    "\n",
    "# Create a vectorizer object to generate term document counts\n",
    "tfidf_pos = TfidfVectorizer(stop_words=stop_words, min_df=10, max_df=0.5, \n",
    "                        ngram_range=(1,1), token_pattern='[a-z][a-z]+')\n",
    "\n",
    "tfidf_neg = TfidfVectorizer(stop_words=stop_words, min_df=10, max_df=0.5, \n",
    "                        ngram_range=(1,1), token_pattern='[a-z][a-z]+')\n",
    "\n",
    "# Get random subset of reviews\n",
    "np.random.seed(38)\n",
    "num_reviews = 20000\n",
    "random_neg = np.random.choice(neg_reviews, size=num_reviews)\n",
    "random_pos = np.random.choice(pos_reviews, size=num_reviews)\n",
    "\n",
    "dicty = {'pizzas':'pizza', 'burgers':'burger', 'ordered':'order',\n",
    "         'prices':'price', 'topping':'toppings'}\n",
    "def replace_words(text, dicty):\n",
    "    '''Returns text with word substitutions made according\n",
    "       to the passed `dicty` dictionary'''\n",
    "    for i,j in dicty.items():\n",
    "        text = text.replace(i,j)\n",
    "    return text\n",
    "\n",
    "random_neg = [replace_words(w, dicty) for w in random_neg]\n",
    "random_pos = [replace_words(w, dicty) for w in random_pos]\n",
    "\n",
    "# Get the vectors\n",
    "neg_vectors = tfidf_neg.fit_transform(random_neg)\n",
    "pos_vectors = tfidf_pos.fit_transform(random_pos)"
   ]
  },
  {
   "cell_type": "code",
   "execution_count": 27,
   "metadata": {
    "ExecuteTime": {
     "end_time": "2020-03-24T17:37:23.065983Z",
     "start_time": "2020-03-24T17:37:20.618592Z"
    }
   },
   "outputs": [],
   "source": [
    "\n",
    "\n",
    "# Store TFIDF vectors in a Pandas DataFrame to investigate further\n",
    "neg_df = pd.DataFrame(neg_vectors.todense(), columns=[tfidf_neg.get_feature_names()])\n",
    "pos_df = pd.DataFrame(pos_vectors.todense(), columns=[tfidf_pos.get_feature_names()])\n",
    "\n",
    "# get mean for each column (word): highest means are most important words\n",
    "col_means_neg = {}\n",
    "for col in neg_df:\n",
    "    col_means_neg[col] = neg_df[col].mean()\n",
    "\n",
    "col_means_pos = {}\n",
    "for col in pos_df:\n",
    "    col_means_pos[col] = pos_df[col].mean()\n",
    "\n"
   ]
  },
  {
   "cell_type": "code",
   "execution_count": 31,
   "metadata": {
    "ExecuteTime": {
     "end_time": "2020-03-24T17:39:01.358944Z",
     "start_time": "2020-03-24T17:39:01.351993Z"
    }
   },
   "outputs": [
    {
     "name": "stdout",
     "output_type": "stream",
     "text": [
      "Top 10 words in POSITIVE reviews:[('chicken',), ('service',), ('nice',), ('taste',), ('ambience',), ('great',), ('biryani',), ('order',), ('try',), ('restaurant',)]\n",
      "Top 10 words in NEGATIVE reviews:[('order',), ('chicken',), ('bad',), ('place',), ('taste',), ('worst',), ('service',), ('biryani',), ('restaurant',), ('quality',)]\n"
     ]
    }
   ],
   "source": [
    "\n",
    "\n",
    "no_top_words = 10\n",
    "\n",
    "print('Top %d words in POSITIVE reviews:' %no_top_words, end='')\n",
    "print(sorted(col_means_pos, key=col_means_pos.get, reverse=True)[:no_top_words])\n",
    "\n",
    "print('Top %d words in NEGATIVE reviews:' %no_top_words, end='')\n",
    "print(sorted(col_means_neg, key=col_means_neg.get, reverse=True)[:no_top_words])\n",
    "\n"
   ]
  },
  {
   "cell_type": "code",
   "execution_count": 32,
   "metadata": {
    "ExecuteTime": {
     "end_time": "2020-03-24T17:45:27.781635Z",
     "start_time": "2020-03-24T17:45:27.666897Z"
    }
   },
   "outputs": [],
   "source": [
    "# delete dataframes to save memory\n",
    "del neg_df\n",
    "del pos_df"
   ]
  },
  {
   "cell_type": "markdown",
   "metadata": {},
   "source": [
    "#### LSA"
   ]
  },
  {
   "cell_type": "code",
   "execution_count": 33,
   "metadata": {
    "ExecuteTime": {
     "end_time": "2020-03-24T17:45:46.455940Z",
     "start_time": "2020-03-24T17:45:44.959351Z"
    }
   },
   "outputs": [],
   "source": [
    "# LSA\n",
    "from gensim import corpora, models, similarities, matutils\n",
    "\n",
    "# Convert sparse matrix of counts to a gensim corpus\n",
    "# Need to transpose it for gensim which wants terms by docs instead of docs by terms\n",
    "tfidf_pos_corpus = matutils.Sparse2Corpus(pos_vectors.transpose())\n",
    "tfidf_neg_corpus = matutils.Sparse2Corpus(neg_vectors.transpose())\n",
    "\n",
    "# Row indices\n",
    "id2word_pos = dict((v,k) for k,v in tfidf_pos.vocabulary_.items())\n",
    "id2word_neg = dict((v,k) for k,v in tfidf_neg.vocabulary_.items())\n",
    "\n",
    "# This is a hack for Python 3!\n",
    "id2word_pos = corpora.Dictionary.from_corpus(tfidf_pos_corpus, id2word=id2word_pos)\n",
    "id2word_neg = corpora.Dictionary.from_corpus(tfidf_neg_corpus, id2word=id2word_neg)"
   ]
  },
  {
   "cell_type": "code",
   "execution_count": 34,
   "metadata": {
    "ExecuteTime": {
     "end_time": "2020-03-24T17:45:56.059454Z",
     "start_time": "2020-03-24T17:45:53.062564Z"
    }
   },
   "outputs": [],
   "source": [
    "# create LSA model\n",
    "num_topics = 20\n",
    "lsi_pos = models.LsiModel(tfidf_pos_corpus, id2word=id2word_pos, num_topics=num_topics)\n",
    "lsi_neg = models.LsiModel(tfidf_neg_corpus, id2word=id2word_neg, num_topics=num_topics)"
   ]
  },
  {
   "cell_type": "code",
   "execution_count": 35,
   "metadata": {
    "ExecuteTime": {
     "end_time": "2020-03-24T17:45:59.457853Z",
     "start_time": "2020-03-24T17:45:59.256123Z"
    }
   },
   "outputs": [
    {
     "data": {
      "image/png": "[encoded data removed]",
      "text/plain": [
       "<Figure size 864x360 with 1 Axes>"
      ]
     },
     "metadata": {},
     "output_type": "display_data"
    }
   ],
   "source": [
    "# elbow plot\n",
    "singular_values_pos = lsi_pos.projection.s.tolist()\n",
    "singular_values_pos_rel = [sv/singular_values_pos[-1] for sv in singular_values_pos]\n",
    "singular_values_neg = lsi_neg.projection.s.tolist()\n",
    "singular_values_neg_rel = [sv/singular_values_neg[-1] for sv in singular_values_neg]\n",
    "\n",
    "plt.style.use('fivethirtyeight')\n",
    "plt.figure(figsize=(12,5))\n",
    "plt.plot(range(len(singular_values_pos)), singular_values_pos_rel, label='Positive Reviews', alpha=1.0)\n",
    "plt.plot(range(len(singular_values_neg)), singular_values_neg_rel, label='Negative Reviews', alpha=0.7)\n",
    "plt.xticks(range(len(singular_values_pos)), range(len(singular_values_pos)))\n",
    "plt.xlabel('Topic #')\n",
    "plt.ylabel('Relative Strength')\n",
    "plt.title('LSI Topic Strengths (Relative)')\n",
    "plt.legend(loc=0, fontsize='medium');"
   ]
  },
  {
   "cell_type": "code",
   "execution_count": 36,
   "metadata": {
    "ExecuteTime": {
     "end_time": "2020-03-24T17:46:08.742311Z",
     "start_time": "2020-03-24T17:46:08.739290Z"
    }
   },
   "outputs": [],
   "source": [
    "topics_to_print = 5"
   ]
  },
  {
   "cell_type": "code",
   "execution_count": 37,
   "metadata": {
    "ExecuteTime": {
     "end_time": "2020-03-24T17:46:14.982128Z",
     "start_time": "2020-03-24T17:46:14.973152Z"
    }
   },
   "outputs": [
    {
     "name": "stdout",
     "output_type": "stream",
     "text": [
      "Top 5 topics for POSITIVE reviews\n",
      "---------------------------------\n",
      "[(0,\n",
      "  '0.281*\"chicken\" + 0.221*\"service\" + 0.203*\"biryani\" + 0.180*\"nice\" + '\n",
      "  '0.178*\"great\" + 0.177*\"taste\" + 0.172*\"ambience\" + 0.159*\"order\" + '\n",
      "  '0.149*\"try\" + 0.143*\"restaurant\"'),\n",
      " (1,\n",
      "  '0.586*\"biryani\" + -0.427*\"nice\" + 0.409*\"chicken\" + -0.195*\"service\" + '\n",
      "  '-0.142*\"ambience\" + -0.135*\"great\" + -0.119*\"staff\" + 0.116*\"mutton\" + '\n",
      "  '-0.114*\"pizza\" + 0.097*\"biriyani\"'),\n",
      " (2,\n",
      "  '0.858*\"nice\" + 0.307*\"biryani\" + -0.152*\"great\" + 0.099*\"chicken\" + '\n",
      "  '-0.094*\"amazing\" + -0.085*\"pizza\" + 0.069*\"taste\" + -0.063*\"service\" + '\n",
      "  '-0.061*\"restaurant\" + -0.061*\"best\"'),\n",
      " (3,\n",
      "  '0.431*\"biryani\" + -0.389*\"chicken\" + 0.362*\"awesome\" + 0.284*\"taste\" + '\n",
      "  '0.254*\"great\" + 0.207*\"service\" + -0.180*\"veg\" + -0.142*\"biriyani\" + '\n",
      "  '0.133*\"quality\" + -0.111*\"nice\"'),\n",
      " (4,\n",
      "  '-0.603*\"awesome\" + 0.438*\"biryani\" + -0.318*\"taste\" + -0.291*\"biriyani\" + '\n",
      "  '-0.173*\"chicken\" + -0.153*\"delivery\" + 0.132*\"pizza\" + -0.101*\"quality\" + '\n",
      "  '0.100*\"veg\" + -0.100*\"quantity\"')]\n"
     ]
    }
   ],
   "source": [
    "# look at top positive topics\n",
    "print('Top %d topics for POSITIVE reviews' %(topics_to_print))\n",
    "print('-'*33)\n",
    "pprint(lsi_pos.show_topics()[0:topics_to_print])"
   ]
  },
  {
   "cell_type": "code",
   "execution_count": 38,
   "metadata": {
    "ExecuteTime": {
     "end_time": "2020-03-24T17:47:46.238126Z",
     "start_time": "2020-03-24T17:47:46.229152Z"
    }
   },
   "outputs": [
    {
     "name": "stdout",
     "output_type": "stream",
     "text": [
      "Top 5 topics for NEGATIVE reviews\n",
      "---------------------------------\n",
      "[(0,\n",
      "  '0.300*\"order\" + 0.294*\"chicken\" + 0.285*\"bad\" + 0.260*\"worst\" + '\n",
      "  '0.246*\"taste\" + 0.237*\"biryani\" + 0.209*\"place\" + 0.183*\"service\" + '\n",
      "  '0.162*\"restaurant\" + 0.158*\"quality\"'),\n",
      " (1,\n",
      "  '0.848*\"bad\" + -0.281*\"biryani\" + -0.244*\"chicken\" + 0.160*\"taste\" + '\n",
      "  '-0.152*\"order\" + -0.137*\"worst\" + 0.136*\"quality\" + -0.069*\"rice\" + '\n",
      "  '0.067*\"service\" + -0.051*\"delivered\"'),\n",
      " (2,\n",
      "  '0.900*\"worst\" + -0.246*\"chicken\" + -0.194*\"biryani\" + 0.081*\"service\" + '\n",
      "  '-0.081*\"quantity\" + -0.075*\"rice\" + -0.062*\"pieces\" + 0.058*\"experience\" + '\n",
      "  '-0.053*\"mutton\" + -0.052*\"order\"'),\n",
      " (3,\n",
      "  '0.525*\"biryani\" + 0.329*\"chicken\" + -0.250*\"place\" + 0.230*\"bad\" + '\n",
      "  '0.227*\"worst\" + 0.211*\"taste\" + -0.209*\"service\" + -0.183*\"order\" + '\n",
      "  '-0.150*\"restaurant\" + -0.148*\"delivery\"'),\n",
      " (4,\n",
      "  '0.718*\"taste\" + 0.391*\"quantity\" + -0.317*\"bad\" + -0.237*\"order\" + '\n",
      "  '0.194*\"quality\" + -0.135*\"chicken\" + -0.124*\"biryani\" + -0.118*\"delivered\" '\n",
      "  '+ -0.091*\"delivery\" + 0.089*\"poor\"')]\n"
     ]
    }
   ],
   "source": [
    "\n",
    "\n",
    "# look at top negative topics\n",
    "print('Top %d topics for NEGATIVE reviews' %(topics_to_print))\n",
    "print('-'*33)\n",
    "pprint(lsi_neg.show_topics()[0:topics_to_print])\n",
    "\n"
   ]
  },
  {
   "cell_type": "markdown",
   "metadata": {},
   "source": [
    "#### NMF"
   ]
  },
  {
   "cell_type": "code",
   "execution_count": 39,
   "metadata": {
    "ExecuteTime": {
     "end_time": "2020-03-24T17:48:18.665619Z",
     "start_time": "2020-03-24T17:48:16.290578Z"
    }
   },
   "outputs": [],
   "source": [
    "# negative values in LSA topics are annoying\n",
    "# let's see if we can fix that with NMF\n",
    "from sklearn.decomposition import NMF\n",
    "\n",
    "# change num_topics\n",
    "num_topics = 6\n",
    "\n",
    "nmf_pos = NMF(n_components=num_topics)\n",
    "W_pos = nmf_pos.fit_transform(pos_vectors)\n",
    "H_pos = nmf_pos.components_\n",
    "\n",
    "nmf_neg = NMF(n_components=num_topics)\n",
    "W_neg = nmf_neg.fit_transform(neg_vectors)\n",
    "H_neg = nmf_neg.components_"
   ]
  },
  {
   "cell_type": "code",
   "execution_count": 40,
   "metadata": {
    "ExecuteTime": {
     "end_time": "2020-03-24T17:48:25.886621Z",
     "start_time": "2020-03-24T17:48:25.872658Z"
    },
    "scrolled": true
   },
   "outputs": [
    {
     "name": "stdout",
     "output_type": "stream",
     "text": [
      "Top topics + words for POSITIVE reviews\n",
      "---------------------------------------\n",
      "Topic 0:   3.366*chicken, 1.093*order, 1.087*biriyani, 0.807*rice, 0.674*tasty, 0.567*spicy\n",
      "Topic 1:   3.172*biryani, 0.398*taste, 0.368*mutton, 0.289*quantity, 0.281*hyderabadi, 0.248*dum\n",
      "Topic 2:   3.666*nice, 0.197*taste, 0.144*ambience, 0.140*tasty, 0.119*service, 0.097*family\n",
      "Topic 3:   1.598*service, 1.370*great, 1.161*ambience, 0.835*staff, 0.813*restaurant, 0.813*visit\n",
      "Topic 4:   3.076*awesome, 0.723*taste, 0.241*delivery, 0.182*quantity, 0.170*biriyani, 0.161*quality\n",
      "Topic 5:   2.332*veg, 1.287*non, 0.543*starters, 0.397*buffet, 0.339*main, 0.324*course\n",
      "\n",
      "Top topics + words for NEGATIVE reviews\n",
      "---------------------------------------\n",
      "Topic 0:   2.330*place, 1.609*service, 0.821*average, 0.806*restaurant, 0.770*ambience, 0.763*quality\n",
      "Topic 1:   3.793*bad, 0.411*quality, 0.302*experience, 0.182*service, 0.085*packaging, 0.077*pieces\n",
      "Topic 2:   3.775*worst, 0.280*experience, 0.243*service, 0.166*restaurant, 0.150*waste, 0.146*life\n",
      "Topic 3:   2.520*chicken, 2.478*biryani, 0.814*rice, 0.557*pieces, 0.466*mutton, 0.402*biriyani\n",
      "Topic 4:   3.357*taste, 1.381*quantity, 0.538*quality, 0.291*poor, 0.134*spicy, 0.120*price\n",
      "Topic 5:   2.634*order, 1.296*delivered, 1.269*delivery, 0.647*restaurant, 0.610*late, 0.549*time\n"
     ]
    }
   ],
   "source": [
    "\n",
    "\n",
    "def display_topics(model, feature_names, num_topics, no_top_words):\n",
    "    for topic_idx, topic in enumerate(model.components_):\n",
    "        if topic_idx < num_topics:\n",
    "            print(\"{:11}\".format(\"Topic %d:\" %(topic_idx)), end='')\n",
    "            print(\", \".join(['{:04.3f}*'.format(topic[i])+feature_names[i] \\\n",
    "                             for i in topic.argsort()[:-no_top_words-1:-1]]))\n",
    "\n",
    "no_topics = num_topics\n",
    "no_top_words = 6\n",
    "\n",
    "print('Top topics + words for POSITIVE reviews')\n",
    "print('-'*39)\n",
    "display_topics(nmf_pos, tfidf_pos.get_feature_names(), no_topics, no_top_words)\n",
    "\n",
    "print('\\nTop topics + words for NEGATIVE reviews')\n",
    "print('-'*39)\n",
    "display_topics(nmf_neg, tfidf_neg.get_feature_names(), no_topics, no_top_words)\n",
    "\n"
   ]
  },
  {
   "cell_type": "markdown",
   "metadata": {},
   "source": [
    "##### Review Similarity in NMF space"
   ]
  },
  {
   "cell_type": "code",
   "execution_count": 61,
   "metadata": {
    "ExecuteTime": {
     "end_time": "2020-03-24T18:00:45.765154Z",
     "start_time": "2020-03-24T18:00:45.759170Z"
    }
   },
   "outputs": [
    {
     "name": "stdout",
     "output_type": "stream",
     "text": [
      "10357\n",
      "Loved the place  A casual dining area  Indoor  has an option of seating outdoor as well where it gives a sight of in house swimming pool  Live Bar  didn   x83   x83   x82   x82   x83   x82   x82   x92t tried drinks  looks fascinating  Food we tried was definitely good  All of that staffs here an asset \n",
      "10667\n",
      "Worst food ever  The packing was horrible  Paneer was stale  Naan were made of rubber   it was already cold at the time of delivery  Got curd instead of raita  cucumber instead of salad Horrible Experience  \n"
     ]
    }
   ],
   "source": [
    "\n",
    "\n",
    "# look at a random positive review\n",
    "review_num_p = np.random.randint(0, high=len(random_pos))\n",
    "print(review_num_p)\n",
    "print(random_pos[review_num_p])\n",
    "\n",
    "\n",
    "# look at a random negative review\n",
    "review_num_n = np.random.randint(0, high=len(random_neg))\n",
    "print(review_num_n)\n",
    "print(random_neg[review_num_n])\n"
   ]
  },
  {
   "cell_type": "code",
   "execution_count": 62,
   "metadata": {
    "ExecuteTime": {
     "end_time": "2020-03-24T18:00:51.401484Z",
     "start_time": "2020-03-24T18:00:47.035943Z"
    }
   },
   "outputs": [],
   "source": [
    "# compute cosine similarities of this review with all other reviews in the new space\n",
    "import sklearn.metrics.pairwise as smp\n",
    "\n",
    "cosines_pos = {}\n",
    "for ind_p, review_p in enumerate(W_pos):\n",
    "    similarity_p = smp.cosine_similarity(W_pos[review_num_p].reshape(1,-1), review_p.reshape(1,-1))\n",
    "    cosines_pos[ind_p] = similarity_p[0][0]\n",
    "\n",
    "cosines_neg = {}\n",
    "for ind_n, review_n in enumerate(W_neg):\n",
    "    similarity_n = smp.cosine_similarity(W_pos[review_num_n].reshape(1,-1), review_n.reshape(1,-1))\n",
    "    cosines_neg[ind_n] = similarity_n[0][0]"
   ]
  },
  {
   "cell_type": "code",
   "execution_count": 63,
   "metadata": {
    "ExecuteTime": {
     "end_time": "2020-03-24T18:00:51.426418Z",
     "start_time": "2020-03-24T18:00:51.402482Z"
    }
   },
   "outputs": [
    {
     "name": "stdout",
     "output_type": "stream",
     "text": [
      "--------------------------------------------------\n",
      ">> Similarity 1.000\n",
      "Loved the place  A casual dining area  Indoor  has an option of seating outdoor as well where it gives a sight of in house swimming pool  Live Bar  didn   x83   x83   x82   x82   x83   x82   x82   x92t tried drinks  looks fascinating  Food we tried was definitely good  All of that staffs here an asset \n",
      "--------------------------------------------------\n",
      ">> Similarity 1.000\n",
      "The ambience is the biggest USP of this place  Beautiful rooftop sitting space  well ventilated although not air conditioned and the ambient lighting is beautiful  However  when it comes to table service and the overall service  it does not farw anywhere over the average  Food is good but not the best  Must try is Tandoori Supreme main course platter and the Chocolate Mud Pot dessert  The place does not serve food till 1 although it stays open and the last order we could place was at 11 30 which was a bummer  However  overall it definitely deserve a thumbs up with a 4 star rating \n",
      "--------------------------------------------------\n",
      ">> Similarity 1.000\n",
      "The ambience is the biggest USP of this place  Beautiful rooftop sitting space  well ventilated although not air conditioned and the ambient lighting is beautiful  However  when it comes to table service and the overall service  it does not farw anywhere over the average  Food is good but not the best  Must try is Tandoori Supreme main course platter and the Chocolate Mud Pot dessert  The place does not serve food till 1 although it stays open and the last order we could place was at 11 30 which was a bummer  However  overall it definitely deserve a thumbs up with a 4 star rating \n",
      "--------------------------------------------------\n",
      "\n",
      "\n",
      "--------------------------------------------------\n",
      ">> Similarity 0.989\n",
      "Had order for delivery  All items looked delicious  But rotis we order were burnt  Paneer chilly looked yumm but the paneer was stale and hard as brick  Sahi panner didn   x83   x83   x82   x82   x83   x82   x82   x92t had any taste  nor sweet nor salty  After the turn off with this kind of food don   x83   x83   x82   x82   x83   x82   x82   x92t remember how zeera rice tasted like                   '  \n",
      "--------------------------------------------------\n",
      ">> Similarity 0.982\n",
      "Cheater  In order egg ghee roast for rs160  Only 2 egg cut into 4 pieces  Quantity nt gud  Better check different restaurant\n",
      "--------------------------------------------------\n",
      ">> Similarity 0.982\n",
      "Cheater  In order egg ghee roast for rs160  Only 2 egg cut into 4 pieces  Quantity nt gud  Better check different restaurant\n",
      "--------------------------------------------------\n"
     ]
    }
   ],
   "source": [
    "# get top 3 matching reviews\n",
    "for n in sorted(cosines_pos, key=cosines_pos.get, reverse=True)[1:4]:\n",
    "    print('-'*50)\n",
    "    print('>> Similarity {:.3f}'.format(cosines_pos[n]))\n",
    "    print(random_pos[n])\n",
    "print('-'*50)\n",
    "print('\\n')\n",
    "\n",
    "\n",
    "# get top 3 matching reviews\n",
    "for n in sorted(cosines_neg, key=cosines_neg.get, reverse=True)[1:4]:\n",
    "    print('-'*50)\n",
    "    print('>> Similarity {:.3f}'.format(cosines_neg[n]))\n",
    "    print(random_neg[n])\n",
    "print('-'*50)"
   ]
  },
  {
   "cell_type": "markdown",
   "metadata": {
    "ExecuteTime": {
     "end_time": "2020-03-24T17:59:02.377971Z",
     "start_time": "2020-03-24T17:59:02.372953Z"
    }
   },
   "source": [
    "#### Count Vectorizer"
   ]
  },
  {
   "cell_type": "code",
   "execution_count": 64,
   "metadata": {
    "ExecuteTime": {
     "end_time": "2020-03-24T18:01:37.109276Z",
     "start_time": "2020-03-24T18:01:36.181474Z"
    }
   },
   "outputs": [
    {
     "name": "stderr",
     "output_type": "stream",
     "text": [
      "C:\\Users\\91907\\Anaconda3\\lib\\site-packages\\sklearn\\feature_extraction\\text.py:301: UserWarning: Your stop_words may be inconsistent with your preprocessing. Tokenizing the stop words generated tokens ['cleveland'] not in stop_words.\n",
      "  'stop_words.' % sorted(inconsistent))\n",
      "C:\\Users\\91907\\Anaconda3\\lib\\site-packages\\sklearn\\feature_extraction\\text.py:301: UserWarning: Your stop_words may be inconsistent with your preprocessing. Tokenizing the stop words generated tokens ['cleveland'] not in stop_words.\n",
      "  'stop_words.' % sorted(inconsistent))\n"
     ]
    }
   ],
   "source": [
    "from sklearn.feature_extraction.text import CountVectorizer\n",
    "\n",
    "# Create a vectorizer object to generate term document counts\n",
    "cv_pos = CountVectorizer(stop_words=stop_words, min_df=10, max_df=0.5, \n",
    "                        ngram_range=(1,1), token_pattern='[a-z][a-z]+')\n",
    "\n",
    "cv_neg = CountVectorizer(stop_words=stop_words, min_df=10, max_df=0.5, \n",
    "                        ngram_range=(1,1), token_pattern='[a-z][a-z]+')\n",
    "\n",
    "# Get random subset of reviews\n",
    "np.random.seed(38)\n",
    "num_reviews = 15000\n",
    "cv_random_neg = np.random.choice(neg_reviews, size=num_reviews)\n",
    "cv_random_pos = np.random.choice(pos_reviews, size=num_reviews)\n",
    "\n",
    "# replace words from defined dictionary 'dicty'\n",
    "cv_random_neg = [replace_words(w, dicty) for w in cv_random_neg]\n",
    "cv_random_pos = [replace_words(w, dicty) for w in cv_random_pos]\n",
    "\n",
    "# Get the cv vectors\n",
    "cv_neg_vectors = cv_neg.fit_transform(cv_random_neg).transpose()\n",
    "cv_pos_vectors = cv_pos.fit_transform(cv_random_pos).transpose()"
   ]
  },
  {
   "cell_type": "code",
   "execution_count": 65,
   "metadata": {
    "ExecuteTime": {
     "end_time": "2020-03-24T18:01:44.236968Z",
     "start_time": "2020-03-24T18:01:44.231981Z"
    }
   },
   "outputs": [],
   "source": [
    "# Convert sparse matrix of counts to a gensim corpus\n",
    "corpus_neg = matutils.Sparse2Corpus(cv_neg_vectors)\n",
    "corpus_pos = matutils.Sparse2Corpus(cv_pos_vectors)\n",
    "\n",
    "# save a mapping (dict) of row id to word (token) for later use by gensim \n",
    "id2word_cv_pos = dict((v, k) for k, v in cv_pos.vocabulary_.items())\n",
    "id2word_cv_neg = dict((v, k) for k, v in cv_neg.vocabulary_.items())"
   ]
  },
  {
   "cell_type": "markdown",
   "metadata": {},
   "source": [
    "#### LDA"
   ]
  },
  {
   "cell_type": "code",
   "execution_count": 66,
   "metadata": {
    "ExecuteTime": {
     "end_time": "2020-03-24T18:03:17.901084Z",
     "start_time": "2020-03-24T18:01:59.640129Z"
    }
   },
   "outputs": [],
   "source": [
    "# create lda multicore model\n",
    "lda_pos = models.ldamulticore.LdaMulticore(corpus=corpus_pos, num_topics=5, \n",
    "                                           id2word=id2word_cv_pos, passes=10, workers=15)\n",
    "lda_neg = models.ldamulticore.LdaMulticore(corpus=corpus_neg, num_topics=5, \n",
    "                                           id2word=id2word_cv_neg, passes=10, workers=15)"
   ]
  },
  {
   "cell_type": "code",
   "execution_count": 67,
   "metadata": {
    "ExecuteTime": {
     "end_time": "2020-03-24T18:03:17.914050Z",
     "start_time": "2020-03-24T18:03:17.903086Z"
    }
   },
   "outputs": [
    {
     "name": "stdout",
     "output_type": "stream",
     "text": [
      "Top topics + words for POSITIVE reviews\n",
      "---------------------------------------\n",
      "[(0,\n",
      "  '0.021*\"chicken\" + 0.014*\"order\" + 0.013*\"taste\" + 0.012*\"ambience\" + '\n",
      "  '0.011*\"try\" + 0.011*\"service\" + 0.010*\"visit\"'),\n",
      " (1,\n",
      "  '0.016*\"service\" + 0.014*\"amazing\" + 0.013*\"pizza\" + 0.013*\"try\" + '\n",
      "  '0.011*\"best\" + 0.010*\"great\" + 0.010*\"ambience\"'),\n",
      " (2,\n",
      "  '0.037*\"chicken\" + 0.024*\"biryani\" + 0.017*\"order\" + 0.013*\"taste\" + '\n",
      "  '0.012*\"try\" + 0.009*\"biriyani\" + 0.009*\"mutton\"'),\n",
      " (3,\n",
      "  '0.026*\"service\" + 0.021*\"ambience\" + 0.019*\"nice\" + 0.017*\"great\" + '\n",
      "  '0.017*\"staff\" + 0.013*\"restaurant\" + 0.011*\"taste\"'),\n",
      " (4,\n",
      "  '0.014*\"service\" + 0.012*\"restaurant\" + 0.012*\"best\" + 0.011*\"chicken\" + '\n",
      "  '0.010*\"veg\" + 0.010*\"ambience\" + 0.008*\"price\"')]\n",
      "\n",
      "Top topics + words for NEGATIVE reviews\n",
      "---------------------------------------\n",
      "[(0,\n",
      "  '0.048*\"order\" + 0.023*\"delivery\" + 0.014*\"restaurant\" + 0.013*\"service\" + '\n",
      "  '0.012*\"delivered\" + 0.011*\"time\" + 0.008*\"quantity\"'),\n",
      " (1,\n",
      "  '0.052*\"chicken\" + 0.040*\"order\" + 0.034*\"biryani\" + 0.021*\"worst\" + '\n",
      "  '0.021*\"taste\" + 0.017*\"bad\" + 0.015*\"rice\"'),\n",
      " (2,\n",
      "  '0.043*\"place\" + 0.021*\"service\" + 0.012*\"chicken\" + 0.011*\"order\" + '\n",
      "  '0.011*\"restaurant\" + 0.009*\"time\" + 0.008*\"worst\"'),\n",
      " (3,\n",
      "  '0.022*\"bad\" + 0.015*\"place\" + 0.014*\"restaurant\" + 0.013*\"service\" + '\n",
      "  '0.013*\"order\" + 0.012*\"rice\" + 0.012*\"chicken\"'),\n",
      " (4,\n",
      "  '0.024*\"veg\" + 0.017*\"order\" + 0.017*\"place\" + 0.016*\"taste\" + 0.011*\"pizza\" '\n",
      "  '+ 0.010*\"service\" + 0.010*\"non\"')]\n"
     ]
    }
   ],
   "source": [
    "print('Top topics + words for POSITIVE reviews')\n",
    "print('-'*39)\n",
    "pprint(lda_pos.print_topics(num_words=7))\n",
    "\n",
    "print('\\nTop topics + words for NEGATIVE reviews')\n",
    "print('-'*39)\n",
    "pprint(lda_neg.print_topics(num_words=7))"
   ]
  },
  {
   "cell_type": "markdown",
   "metadata": {},
   "source": [
    "#### Continuing with NMF"
   ]
  },
  {
   "cell_type": "code",
   "execution_count": 68,
   "metadata": {
    "ExecuteTime": {
     "end_time": "2020-03-24T18:03:17.926985Z",
     "start_time": "2020-03-24T18:03:17.916040Z"
    }
   },
   "outputs": [
    {
     "name": "stdout",
     "output_type": "stream",
     "text": [
      "Top topics + words for POSITIVE reviews\n",
      "---------------------------------------\n",
      "Topic 0:   3.366*chicken, 1.093*order, 1.087*biriyani, 0.807*rice, 0.674*tasty, 0.567*spicy\n",
      "Topic 1:   3.172*biryani, 0.398*taste, 0.368*mutton, 0.289*quantity, 0.281*hyderabadi, 0.248*dum\n",
      "Topic 2:   3.666*nice, 0.197*taste, 0.144*ambience, 0.140*tasty, 0.119*service, 0.097*family\n",
      "Topic 3:   1.598*service, 1.370*great, 1.161*ambience, 0.835*staff, 0.813*restaurant, 0.813*visit\n",
      "Topic 4:   3.076*awesome, 0.723*taste, 0.241*delivery, 0.182*quantity, 0.170*biriyani, 0.161*quality\n",
      "Topic 5:   2.332*veg, 1.287*non, 0.543*starters, 0.397*buffet, 0.339*main, 0.324*course\n"
     ]
    }
   ],
   "source": [
    "# let's remind ourselves of the POSITIVE topics\n",
    "print('Top topics + words for POSITIVE reviews')\n",
    "print('-'*39)\n",
    "display_topics(nmf_pos, tfidf_pos.get_feature_names(), no_topics, no_top_words)"
   ]
  },
  {
   "cell_type": "code",
   "execution_count": 69,
   "metadata": {
    "ExecuteTime": {
     "end_time": "2020-03-24T18:03:17.939950Z",
     "start_time": "2020-03-24T18:03:17.928982Z"
    }
   },
   "outputs": [
    {
     "name": "stdout",
     "output_type": "stream",
     "text": [
      "Positive Review #8417\n",
      "-------------------------\n",
      "The place is a gold find  Dropped in here for an ad hoc brunch  meticulous preparation goes into every single order placed  English breakfast   Ivy League in Kalyan Nagar \n",
      "-------------------------\n",
      "Topic 0: 0.0074\n",
      "Topic 3: 0.0060\n",
      "Topic 1: 0.0002\n",
      "Topic 2: 0.0000\n",
      "Topic 4: 0.0000\n",
      "Topic 5: 0.0000\n"
     ]
    }
   ],
   "source": [
    "# we can investigate a random positive review and see how it's distributed across those topics\n",
    "review_num = np.random.randint(0, high=len(random_pos))\n",
    "print('Positive Review #%d' %review_num)\n",
    "print('-'*25)\n",
    "print(random_pos[review_num])\n",
    "print('-'*25)\n",
    "topic_dict = {}\n",
    "for ind, w in enumerate(W_pos[review_num]):\n",
    "    topic_dict[ind] = w\n",
    "for k in sorted(topic_dict, key=topic_dict.get, reverse=True):\n",
    "     print('Topic {}: {:.4f}'.format(k, topic_dict[k]))"
   ]
  },
  {
   "cell_type": "code",
   "execution_count": 70,
   "metadata": {
    "ExecuteTime": {
     "end_time": "2020-03-24T18:03:33.580378Z",
     "start_time": "2020-03-24T18:03:33.569898Z"
    }
   },
   "outputs": [
    {
     "name": "stdout",
     "output_type": "stream",
     "text": [
      "Top topics + words for NEGATIVE reviews\n",
      "---------------------------------------\n",
      "Topic 0:   2.330*place, 1.609*service, 0.821*average, 0.806*restaurant, 0.770*ambience, 0.763*quality\n",
      "Topic 1:   3.793*bad, 0.411*quality, 0.302*experience, 0.182*service, 0.085*packaging, 0.077*pieces\n",
      "Topic 2:   3.775*worst, 0.280*experience, 0.243*service, 0.166*restaurant, 0.150*waste, 0.146*life\n",
      "Topic 3:   2.520*chicken, 2.478*biryani, 0.814*rice, 0.557*pieces, 0.466*mutton, 0.402*biriyani\n",
      "Topic 4:   3.357*taste, 1.381*quantity, 0.538*quality, 0.291*poor, 0.134*spicy, 0.120*price\n",
      "Topic 5:   2.634*order, 1.296*delivered, 1.269*delivery, 0.647*restaurant, 0.610*late, 0.549*time\n"
     ]
    }
   ],
   "source": [
    "\n",
    "\n",
    "print('Top topics + words for NEGATIVE reviews')\n",
    "print('-'*39)\n",
    "display_topics(nmf_neg, tfidf_neg.get_feature_names(), no_topics, no_top_words)\n",
    "\n"
   ]
  },
  {
   "cell_type": "code",
   "execution_count": 71,
   "metadata": {
    "ExecuteTime": {
     "end_time": "2020-03-24T18:03:40.901979Z",
     "start_time": "2020-03-24T18:03:40.896026Z"
    }
   },
   "outputs": [
    {
     "name": "stdout",
     "output_type": "stream",
     "text": [
      "Negative Review #2857\n",
      "-------------------------\n",
      "Ordered in from this place coz we thought we'll try a new place for a change  We order a Khymanu unddo and chicken kolhapuri gravy  We found the quantity and quality less for the price  The only reason I'm giving the rating of 2 5 is for the Khymanu unddho which was quite tasty in comparison to the gravy dish  The gravy was only spice and no other taste and had hardly any pieces of chicken  Will not try this place again   \n",
      "-------------------------\n",
      "Topic 3: 0.0418\n",
      "Topic 0: 0.0375\n",
      "Topic 4: 0.0373\n",
      "Topic 5: 0.0061\n",
      "Topic 1: 0.0000\n",
      "Topic 2: 0.0000\n"
     ]
    }
   ],
   "source": [
    "# now investigate a random negative review and see how it's distributed across those topics\n",
    "review_num = np.random.randint(0, high=len(random_neg))\n",
    "print('Negative Review #%d' %review_num)\n",
    "print('-'*25)\n",
    "print(random_neg[review_num])\n",
    "print('-'*25)\n",
    "topic_dict = {}\n",
    "for ind, w in enumerate(W_neg[review_num]):\n",
    "    topic_dict[ind] = w\n",
    "for k in sorted(topic_dict, key=topic_dict.get, reverse=True):\n",
    "     print('Topic {}: {:.4f}'.format(k, topic_dict[k]))"
   ]
  },
  {
   "cell_type": "markdown",
   "metadata": {},
   "source": [
    "#### Topic From all the reviews"
   ]
  },
  {
   "cell_type": "code",
   "execution_count": 76,
   "metadata": {
    "ExecuteTime": {
     "end_time": "2020-03-24T18:10:07.922544Z",
     "start_time": "2020-03-24T18:10:07.919520Z"
    }
   },
   "outputs": [
    {
     "name": "stdout",
     "output_type": "stream",
     "text": [
      "Postive Reviews:  25,553\n",
      "Negative Reviews:  8,356\n"
     ]
    }
   ],
   "source": [
    "print('Postive Reviews:  {:,}'.format(len(pos_reviews)))\n",
    "print('Negative Reviews:  {:,}'.format(len(neg_reviews)))"
   ]
  },
  {
   "cell_type": "code",
   "execution_count": 77,
   "metadata": {
    "ExecuteTime": {
     "end_time": "2020-03-24T18:10:09.710365Z",
     "start_time": "2020-03-24T18:10:08.642169Z"
    },
    "scrolled": true
   },
   "outputs": [
    {
     "name": "stderr",
     "output_type": "stream",
     "text": [
      "C:\\Users\\91907\\Anaconda3\\lib\\site-packages\\sklearn\\feature_extraction\\text.py:301: UserWarning: Your stop_words may be inconsistent with your preprocessing. Tokenizing the stop words generated tokens ['cleveland'] not in stop_words.\n",
      "  'stop_words.' % sorted(inconsistent))\n",
      "C:\\Users\\91907\\Anaconda3\\lib\\site-packages\\sklearn\\feature_extraction\\text.py:301: UserWarning: Your stop_words may be inconsistent with your preprocessing. Tokenizing the stop words generated tokens ['cleveland'] not in stop_words.\n",
      "  'stop_words.' % sorted(inconsistent))\n"
     ]
    }
   ],
   "source": [
    "\n",
    "# Create a vectorizer object to generate term document counts\n",
    "tfidf_pos = TfidfVectorizer(stop_words=stop_words, min_df=10, max_df=0.5, \n",
    "                        ngram_range=(1,1), token_pattern='[a-z][a-z]+')\n",
    "\n",
    "tfidf_neg = TfidfVectorizer(stop_words=stop_words, min_df=10, max_df=0.5, \n",
    "                        ngram_range=(1,1), token_pattern='[a-z][a-z]+')\n",
    "\n",
    "# replace words with defined dictionary 'dicty'\n",
    "pos_reviews = [replace_words(w, dicty) for w in pos_reviews]\n",
    "neg_reviews = [replace_words(w, dicty) for w in neg_reviews]\n",
    "\n",
    "# Get the vectors\n",
    "neg_vectors = tfidf_neg.fit_transform(neg_reviews)\n",
    "pos_vectors = tfidf_pos.fit_transform(pos_reviews)"
   ]
  },
  {
   "cell_type": "code",
   "execution_count": 159,
   "metadata": {
    "ExecuteTime": {
     "end_time": "2020-03-25T21:15:12.667149Z",
     "start_time": "2020-03-25T21:15:12.616279Z"
    }
   },
   "outputs": [
    {
     "data": {
      "text/plain": [
       "array([[2.21188584e-03, 4.31839415e-03, 3.90455847e-03, ...,\n",
       "        1.46066126e-01, 8.76253642e-03, 2.34287733e-03],\n",
       "       [1.54384257e-05, 5.17344919e-03, 0.00000000e+00, ...,\n",
       "        7.10434776e-03, 1.45635968e-02, 0.00000000e+00],\n",
       "       [0.00000000e+00, 0.00000000e+00, 0.00000000e+00, ...,\n",
       "        0.00000000e+00, 0.00000000e+00, 0.00000000e+00],\n",
       "       [5.54477227e-03, 2.28824551e-03, 1.71632424e-03, ...,\n",
       "        1.44645433e-01, 1.14446589e-02, 5.42396947e-03],\n",
       "       [0.00000000e+00, 2.32146088e-03, 2.27005287e-03, ...,\n",
       "        2.95226983e-02, 0.00000000e+00, 0.00000000e+00],\n",
       "       [1.60132496e-04, 8.36286854e-04, 1.21850527e-04, ...,\n",
       "        5.52685596e-04, 0.00000000e+00, 0.00000000e+00]])"
      ]
     },
     "execution_count": 159,
     "metadata": {},
     "output_type": "execute_result"
    }
   ],
   "source": [
    "H_pos"
   ]
  },
  {
   "cell_type": "code",
   "execution_count": 78,
   "metadata": {
    "ExecuteTime": {
     "end_time": "2020-03-24T18:10:12.237723Z",
     "start_time": "2020-03-24T18:10:09.988410Z"
    }
   },
   "outputs": [],
   "source": [
    "# NMF for all reviews\n",
    "from sklearn.decomposition import NMF\n",
    "\n",
    "# change num_topics\n",
    "num_topics = 6\n",
    "\n",
    "nmf_pos = NMF(n_components=num_topics)\n",
    "W_pos = nmf_pos.fit_transform(pos_vectors)\n",
    "H_pos = nmf_pos.components_\n",
    "\n",
    "nmf_neg = NMF(n_components=num_topics)\n",
    "W_neg = nmf_neg.fit_transform(neg_vectors)\n",
    "H_neg = nmf_neg.components_"
   ]
  },
  {
   "cell_type": "code",
   "execution_count": 81,
   "metadata": {
    "ExecuteTime": {
     "end_time": "2020-03-24T19:31:32.453207Z",
     "start_time": "2020-03-24T19:31:32.438247Z"
    }
   },
   "outputs": [
    {
     "name": "stdout",
     "output_type": "stream",
     "text": [
      "Topics for POSITIVE reviews\n",
      "---------------------------------------\n",
      "Topic 0:   3.467*chicken, 1.218*biriyani, 1.136*order, 0.871*rice, 0.720*tasty\n",
      "Topic 1:   3.364*biryani, 0.393*mutton, 0.317*chicken, 0.275*best, 0.264*dum\n",
      "Topic 2:   3.883*nice, 0.155*ambience, 0.143*tasty, 0.114*friends, 0.107*staff\n",
      "Topic 3:   1.842*service, 1.540*great, 1.281*ambience, 0.932*staff, 0.884*visit\n",
      "Topic 4:   2.723*taste, 1.912*awesome, 0.737*quality, 0.668*quantity, 0.521*delivery\n",
      "Topic 5:   2.275*veg, 1.258*non, 0.534*starters, 0.365*buffet, 0.324*main\n",
      "\n",
      "Topics for NEGATIVE reviews\n",
      "---------------------------------------\n",
      "Topic 0:   1.970*place, 1.401*service, 0.696*average, 0.680*ambience, 0.631*restaurant\n",
      "Topic 1:   3.049*bad, 0.332*quality, 0.259*experience, 0.140*service, 0.051*cold\n",
      "Topic 2:   3.093*worst, 0.254*experience, 0.175*service, 0.132*restaurant, 0.131*waste\n",
      "Topic 3:   2.313*chicken, 2.112*biryani, 0.770*rice, 0.518*pieces, 0.437*mutton\n",
      "Topic 4:   2.759*taste, 0.970*quantity, 0.667*quality, 0.263*poor, 0.123*price\n",
      "Topic 5:   2.329*order, 1.166*delivered, 1.156*delivery, 0.557*restaurant, 0.509*time\n"
     ]
    }
   ],
   "source": [
    "\n",
    "\n",
    "no_topics = num_topics\n",
    "no_top_words = 5\n",
    "\n",
    "print('Topics for POSITIVE reviews')\n",
    "print('-'*39)\n",
    "display_topics(nmf_pos, tfidf_pos.get_feature_names(), no_topics, no_top_words)\n",
    "\n",
    "print('\\nTopics for NEGATIVE reviews')\n",
    "print('-'*39)\n",
    "display_topics(nmf_neg, tfidf_neg.get_feature_names(), no_topics, no_top_words)\n",
    "\n"
   ]
  },
  {
   "cell_type": "code",
   "execution_count": 82,
   "metadata": {
    "ExecuteTime": {
     "end_time": "2020-03-24T19:35:26.788249Z",
     "start_time": "2020-03-24T19:35:26.783250Z"
    }
   },
   "outputs": [],
   "source": [
    "# create topic dictionaries to summarize the topic meanings\n",
    "pos_topics = {0:'biryani/order', 1:'Mutton_Biryani', 2:'Ambience', \n",
    "              3:'Service/Staff', 4:'Quality/Quantity', 5:'Buffet'}\n",
    "\n",
    "neg_topics = {0:'Ambience/Service', 1:'Quality/service', 2:'Experience', \n",
    "              3:'BIryani', 4:'Quality/Quantity', 5:'Delivery/Order'}"
   ]
  },
  {
   "cell_type": "code",
   "execution_count": 83,
   "metadata": {
    "ExecuteTime": {
     "end_time": "2020-03-24T19:36:55.530800Z",
     "start_time": "2020-03-24T19:36:55.395164Z"
    }
   },
   "outputs": [],
   "source": [
    "\n",
    "\n",
    "# we create dataframes for positive & negative reviews that we can\n",
    "# later add topic information to\n",
    "df_pos = df_casual[['restaurant', 'rating', 'review', 'review_length']][df_casual.rating>3].reset_index()\n",
    "df_neg = df_casual[['restaurant', 'rating', 'review', 'review_length']][df_casual.rating<3].reset_index()\n",
    "df_pos.drop(labels='index', axis=1, inplace=True)\n",
    "df_neg.drop(labels='index', axis=1, inplace=True)\n",
    "\n"
   ]
  },
  {
   "cell_type": "code",
   "execution_count": 85,
   "metadata": {
    "ExecuteTime": {
     "end_time": "2020-03-24T19:38:01.061671Z",
     "start_time": "2020-03-24T19:38:01.056685Z"
    }
   },
   "outputs": [
    {
     "name": "stdout",
     "output_type": "stream",
     "text": [
      "Topic weights :  [0.         0.         0.         0.01786169 0.02201093 0.00449164]\n",
      "Sum of weights:  0.0443642610604596\n"
     ]
    }
   ],
   "source": [
    "print('Topic weights : ', W_pos[0])\n",
    "print('Sum of weights: ', W_pos[0].sum())"
   ]
  },
  {
   "cell_type": "markdown",
   "metadata": {},
   "source": [
    "##### Normalizing the Topic Scores"
   ]
  },
  {
   "cell_type": "code",
   "execution_count": 87,
   "metadata": {
    "ExecuteTime": {
     "end_time": "2020-03-24T19:38:37.145346Z",
     "start_time": "2020-03-24T19:38:37.127383Z"
    }
   },
   "outputs": [],
   "source": [
    "# add normalized topic weights to each review\n",
    "from sklearn.preprocessing import normalize\n",
    "df_pos = pd.concat([df_pos, pd.DataFrame(normalize(W_pos, norm='l1'))], axis=1)\n",
    "df_neg = pd.concat([df_neg, pd.DataFrame(normalize(W_neg, norm='l1'))], axis=1)"
   ]
  },
  {
   "cell_type": "code",
   "execution_count": 88,
   "metadata": {
    "ExecuteTime": {
     "end_time": "2020-03-24T19:38:45.418764Z",
     "start_time": "2020-03-24T19:38:45.403804Z"
    }
   },
   "outputs": [
    {
     "data": {
      "text/html": [
       "<div>\n",
       "<style scoped>\n",
       "    .dataframe tbody tr th:only-of-type {\n",
       "        vertical-align: middle;\n",
       "    }\n",
       "\n",
       "    .dataframe tbody tr th {\n",
       "        vertical-align: top;\n",
       "    }\n",
       "\n",
       "    .dataframe thead th {\n",
       "        text-align: right;\n",
       "    }\n",
       "</style>\n",
       "<table border=\"1\" class=\"dataframe\">\n",
       "  <thead>\n",
       "    <tr style=\"text-align: right;\">\n",
       "      <th></th>\n",
       "      <th>restaurant</th>\n",
       "      <th>rating</th>\n",
       "      <th>review</th>\n",
       "      <th>review_length</th>\n",
       "      <th>0</th>\n",
       "      <th>1</th>\n",
       "      <th>2</th>\n",
       "      <th>3</th>\n",
       "      <th>4</th>\n",
       "      <th>5</th>\n",
       "    </tr>\n",
       "  </thead>\n",
       "  <tbody>\n",
       "    <tr>\n",
       "      <th>0</th>\n",
       "      <td>Jalsa</td>\n",
       "      <td>2.0</td>\n",
       "      <td>Its a restaurant near to Banashankari BDA  Me ...</td>\n",
       "      <td>329</td>\n",
       "      <td>0.696424</td>\n",
       "      <td>0.000000</td>\n",
       "      <td>0.000000</td>\n",
       "      <td>0.000000</td>\n",
       "      <td>0.000000</td>\n",
       "      <td>0.303576</td>\n",
       "    </tr>\n",
       "    <tr>\n",
       "      <th>1</th>\n",
       "      <td>Spice Elephant</td>\n",
       "      <td>2.0</td>\n",
       "      <td>I had a very bad experience here  I don't know...</td>\n",
       "      <td>739</td>\n",
       "      <td>0.325538</td>\n",
       "      <td>0.392497</td>\n",
       "      <td>0.205325</td>\n",
       "      <td>0.076639</td>\n",
       "      <td>0.000000</td>\n",
       "      <td>0.000000</td>\n",
       "    </tr>\n",
       "    <tr>\n",
       "      <th>2</th>\n",
       "      <td>Spice Elephant</td>\n",
       "      <td>2.0</td>\n",
       "      <td>Spice elephant soup SPL  almost manchow flavou...</td>\n",
       "      <td>424</td>\n",
       "      <td>0.196259</td>\n",
       "      <td>0.325238</td>\n",
       "      <td>0.000000</td>\n",
       "      <td>0.143885</td>\n",
       "      <td>0.297119</td>\n",
       "      <td>0.037499</td>\n",
       "    </tr>\n",
       "    <tr>\n",
       "      <th>3</th>\n",
       "      <td>Szechuan Dragon</td>\n",
       "      <td>1.0</td>\n",
       "      <td>One more place with wrong over rating stars   ...</td>\n",
       "      <td>284</td>\n",
       "      <td>0.386925</td>\n",
       "      <td>0.499827</td>\n",
       "      <td>0.000000</td>\n",
       "      <td>0.028491</td>\n",
       "      <td>0.000000</td>\n",
       "      <td>0.084756</td>\n",
       "    </tr>\n",
       "    <tr>\n",
       "      <th>4</th>\n",
       "      <td>Empire Restaurant</td>\n",
       "      <td>2.0</td>\n",
       "      <td>It is one of the big outlets of Empire  Having...</td>\n",
       "      <td>728</td>\n",
       "      <td>0.543237</td>\n",
       "      <td>0.000000</td>\n",
       "      <td>0.000000</td>\n",
       "      <td>0.191413</td>\n",
       "      <td>0.103019</td>\n",
       "      <td>0.162331</td>\n",
       "    </tr>\n",
       "  </tbody>\n",
       "</table>\n",
       "</div>"
      ],
      "text/plain": [
       "          restaurant  rating  \\\n",
       "0              Jalsa     2.0   \n",
       "1     Spice Elephant     2.0   \n",
       "2     Spice Elephant     2.0   \n",
       "3    Szechuan Dragon     1.0   \n",
       "4  Empire Restaurant     2.0   \n",
       "\n",
       "                                              review  review_length         0  \\\n",
       "0  Its a restaurant near to Banashankari BDA  Me ...            329  0.696424   \n",
       "1  I had a very bad experience here  I don't know...            739  0.325538   \n",
       "2  Spice elephant soup SPL  almost manchow flavou...            424  0.196259   \n",
       "3  One more place with wrong over rating stars   ...            284  0.386925   \n",
       "4  It is one of the big outlets of Empire  Having...            728  0.543237   \n",
       "\n",
       "          1         2         3         4         5  \n",
       "0  0.000000  0.000000  0.000000  0.000000  0.303576  \n",
       "1  0.392497  0.205325  0.076639  0.000000  0.000000  \n",
       "2  0.325238  0.000000  0.143885  0.297119  0.037499  \n",
       "3  0.499827  0.000000  0.028491  0.000000  0.084756  \n",
       "4  0.000000  0.000000  0.191413  0.103019  0.162331  "
      ]
     },
     "execution_count": 88,
     "metadata": {},
     "output_type": "execute_result"
    }
   ],
   "source": [
    "df_neg.head()"
   ]
  },
  {
   "cell_type": "code",
   "execution_count": 89,
   "metadata": {
    "ExecuteTime": {
     "end_time": "2020-03-24T19:39:55.054563Z",
     "start_time": "2020-03-24T19:39:55.021651Z"
    }
   },
   "outputs": [],
   "source": [
    "# group by business_id and apply mean/count functions to columns\n",
    "df_pos_bsns = df_pos.groupby('restaurant').agg({'rating':'mean', 'review':'count',\n",
    "                                                 'review_length':'mean',0:'mean', \n",
    "                                                 1:'mean', 2:'mean', 3:'mean',\n",
    "                                                 4:'mean', 5:'mean'}).reset_index()\n",
    "df_neg_bsns = df_neg.groupby('restaurant').agg({'rating':'mean', 'review':'count',\n",
    "                                                 'review_length':'mean',0:'mean', \n",
    "                                                 1:'mean', 2:'mean', 3:'mean',\n",
    "                                                 4:'mean', 5:'mean'}).reset_index()"
   ]
  },
  {
   "cell_type": "code",
   "execution_count": null,
   "metadata": {
    "ExecuteTime": {
     "start_time": "2020-03-26T05:51:21.453Z"
    }
   },
   "outputs": [],
   "source": [
    "df_pos_bsns.head()"
   ]
  },
  {
   "cell_type": "code",
   "execution_count": 141,
   "metadata": {
    "ExecuteTime": {
     "end_time": "2020-03-25T08:38:50.051014Z",
     "start_time": "2020-03-25T08:38:48.803145Z"
    }
   },
   "outputs": [],
   "source": [
    "# scores = df_pos_bsns[df_pos_bsns.restaurant == '100 C'].iloc[:,-6:].values\n",
    "# print(df_casual[df_casual.restaurant == '100 C']['restaurant'].values[0] + ' - Positive Reviews')\n",
    "# print('-'*36)\n",
    "# for n in pos_topics:\n",
    "#     print('Topic {}: {:18} > {:.4f}'.format(n, pos_topics[n], scores[0][n]))\n",
    "    \n"
   ]
  },
  {
   "cell_type": "code",
   "execution_count": null,
   "metadata": {
    "ExecuteTime": {
     "end_time": "2020-03-26T11:10:27.943721Z",
     "start_time": "2020-03-26T11:10:25.413185Z"
    }
   },
   "outputs": [],
   "source": [
    "df_pos.to_csv('pos_reviews.csv')\n",
    "df_neg.to_csv('neg_reviews.csv')\n",
    "df_pos_bsns.to_csv('pos_reviews_combined.csv')\n",
    "df_neg_bsns.to_csv('neg_reviews_combined.csv')"
   ]
  },
  {
   "cell_type": "markdown",
   "metadata": {
    "ExecuteTime": {
     "end_time": "2020-03-24T19:50:55.069146Z",
     "start_time": "2020-03-24T19:50:55.039197Z"
    }
   },
   "source": [
    "#### KMeans Clustering"
   ]
  },
  {
   "cell_type": "code",
   "execution_count": 137,
   "metadata": {
    "ExecuteTime": {
     "end_time": "2020-03-26T11:12:32.133492Z",
     "start_time": "2020-03-26T11:12:32.015405Z"
    }
   },
   "outputs": [],
   "source": [
    "df11 = pd.read_csv('pos_reviews_combined.csv')\n"
   ]
  },
  {
   "cell_type": "code",
   "execution_count": 200,
   "metadata": {
    "ExecuteTime": {
     "end_time": "2020-03-26T12:25:45.241436Z",
     "start_time": "2020-03-26T12:25:45.220489Z"
    }
   },
   "outputs": [],
   "source": [
    "df11.restaurant.replace(\"  \",\"\",regex = True,inplace = True)"
   ]
  },
  {
   "cell_type": "code",
   "execution_count": 153,
   "metadata": {
    "ExecuteTime": {
     "end_time": "2020-03-26T11:22:39.364564Z",
     "start_time": "2020-03-26T11:22:39.308682Z"
    }
   },
   "outputs": [],
   "source": [
    "df12 = pd.read_csv('neg_reviews_combined.csv')"
   ]
  },
  {
   "cell_type": "code",
   "execution_count": 201,
   "metadata": {
    "ExecuteTime": {
     "end_time": "2020-03-26T12:25:59.280697Z",
     "start_time": "2020-03-26T12:25:59.271723Z"
    }
   },
   "outputs": [],
   "source": [
    "df12.restaurant.replace(\"  \",\"\",regex = True,inplace = True)"
   ]
  },
  {
   "cell_type": "code",
   "execution_count": 139,
   "metadata": {
    "ExecuteTime": {
     "end_time": "2020-03-26T11:13:10.860368Z",
     "start_time": "2020-03-26T11:13:10.835284Z"
    }
   },
   "outputs": [],
   "source": [
    "df11.drop('Unnamed: 0',axis = 1,inplace = True)"
   ]
  },
  {
   "cell_type": "code",
   "execution_count": 154,
   "metadata": {
    "ExecuteTime": {
     "end_time": "2020-03-26T11:22:52.900246Z",
     "start_time": "2020-03-26T11:22:52.890276Z"
    }
   },
   "outputs": [],
   "source": [
    "df12.drop('Unnamed: 0',axis = 1,inplace = True)"
   ]
  },
  {
   "cell_type": "code",
   "execution_count": 163,
   "metadata": {
    "ExecuteTime": {
     "end_time": "2020-03-26T11:29:01.812598Z",
     "start_time": "2020-03-26T11:29:01.793615Z"
    }
   },
   "outputs": [],
   "source": [
    "from sklearn.metrics import silhouette_score\n",
    "from sklearn.manifold import TSNE"
   ]
  },
  {
   "cell_type": "code",
   "execution_count": 145,
   "metadata": {
    "ExecuteTime": {
     "end_time": "2020-03-26T11:17:53.720154Z",
     "start_time": "2020-03-26T11:17:30.979703Z"
    }
   },
   "outputs": [
    {
     "name": "stdout",
     "output_type": "stream",
     "text": [
      "[t-SNE] Computing 121 nearest neighbors...\n",
      "[t-SNE] Indexed 1482 samples in 0.002s...\n",
      "[t-SNE] Computed neighbors for 1482 samples in 0.093s...\n",
      "[t-SNE] Computed conditional probabilities for sample 1000 / 1482\n",
      "[t-SNE] Computed conditional probabilities for sample 1482 / 1482\n",
      "[t-SNE] Mean sigma: 0.074048\n",
      "[t-SNE] KL divergence after 250 iterations with early exaggeration: 66.991325\n",
      "[t-SNE] KL divergence after 1000 iterations: 0.979768\n"
     ]
    }
   ],
   "source": [
    "# tsne = TSNE(n_components=2, verbose=1, perplexity=40, n_iter=1000)\n",
    "# tsne_results = tsne.fit_transform(df11.iloc[:,4:10])"
   ]
  },
  {
   "cell_type": "code",
   "execution_count": 155,
   "metadata": {
    "ExecuteTime": {
     "end_time": "2020-03-26T11:23:46.568290Z",
     "start_time": "2020-03-26T11:23:30.835190Z"
    }
   },
   "outputs": [
    {
     "name": "stdout",
     "output_type": "stream",
     "text": [
      "[t-SNE] Computing 121 nearest neighbors...\n",
      "[t-SNE] Indexed 962 samples in 0.010s...\n",
      "[t-SNE] Computed neighbors for 962 samples in 0.048s...\n",
      "[t-SNE] Computed conditional probabilities for sample 962 / 962\n",
      "[t-SNE] Mean sigma: 0.098023\n",
      "[t-SNE] KL divergence after 250 iterations with early exaggeration: 63.331142\n",
      "[t-SNE] KL divergence after 1000 iterations: 0.860360\n"
     ]
    }
   ],
   "source": [
    "# tsne1 = TSNE(n_components=2, verbose=1, perplexity=40, n_iter=1000)\n",
    "# tsne_results1 = tsne1.fit_transform(df12.iloc[:,4:10])"
   ]
  },
  {
   "cell_type": "code",
   "execution_count": 146,
   "metadata": {
    "ExecuteTime": {
     "end_time": "2020-03-26T11:18:11.985816Z",
     "start_time": "2020-03-26T11:18:11.896553Z"
    }
   },
   "outputs": [],
   "source": [
    "#     df11['tsne1'] = tsne_results[:,0]\n",
    "#     df11['tsne2'] = tsne_results[:,1]"
   ]
  },
  {
   "cell_type": "code",
   "execution_count": 156,
   "metadata": {
    "ExecuteTime": {
     "end_time": "2020-03-26T11:24:11.045886Z",
     "start_time": "2020-03-26T11:24:11.040890Z"
    }
   },
   "outputs": [],
   "source": [
    "# df12['tsne1'] = tsne_results1[:,0]\n",
    "# df12['tsne2'] = tsne_results1[:,1]"
   ]
  },
  {
   "cell_type": "code",
   "execution_count": 150,
   "metadata": {
    "ExecuteTime": {
     "end_time": "2020-03-26T11:20:27.777138Z",
     "start_time": "2020-03-26T11:20:27.725271Z"
    }
   },
   "outputs": [],
   "source": [
    "df11.columns = ['restaurant', 'rating', 'review', 'review_length','biryani_order','Mutton_Biryani','Ambience','Service_Staff', 'Quality_Quantity', 'Buffet','tsne1', 'tsne2']"
   ]
  },
  {
   "cell_type": "code",
   "execution_count": 158,
   "metadata": {
    "ExecuteTime": {
     "end_time": "2020-03-26T11:26:09.381515Z",
     "start_time": "2020-03-26T11:26:09.376497Z"
    }
   },
   "outputs": [],
   "source": [
    "df12.columns = ['restaurant', 'rating', 'review', 'review_length','Ambience_Service', 'Quality_service', 'Experience','BIryani','Quality_Quantity', 'Delivery_Order','tsne1', 'tsne2']"
   ]
  },
  {
   "cell_type": "code",
   "execution_count": 151,
   "metadata": {
    "ExecuteTime": {
     "end_time": "2020-03-26T11:20:46.691614Z",
     "start_time": "2020-03-26T11:20:46.670667Z"
    }
   },
   "outputs": [
    {
     "data": {
      "text/html": [
       "<div>\n",
       "<style scoped>\n",
       "    .dataframe tbody tr th:only-of-type {\n",
       "        vertical-align: middle;\n",
       "    }\n",
       "\n",
       "    .dataframe tbody tr th {\n",
       "        vertical-align: top;\n",
       "    }\n",
       "\n",
       "    .dataframe thead th {\n",
       "        text-align: right;\n",
       "    }\n",
       "</style>\n",
       "<table border=\"1\" class=\"dataframe\">\n",
       "  <thead>\n",
       "    <tr style=\"text-align: right;\">\n",
       "      <th></th>\n",
       "      <th>restaurant</th>\n",
       "      <th>rating</th>\n",
       "      <th>review</th>\n",
       "      <th>review_length</th>\n",
       "      <th>biryani_order</th>\n",
       "      <th>Mutton_Biryani</th>\n",
       "      <th>Ambience</th>\n",
       "      <th>Service_Staff</th>\n",
       "      <th>Quality_Quantity</th>\n",
       "      <th>Buffet</th>\n",
       "      <th>tsne1</th>\n",
       "      <th>tsne2</th>\n",
       "    </tr>\n",
       "  </thead>\n",
       "  <tbody>\n",
       "    <tr>\n",
       "      <th>0</th>\n",
       "      <td>Biryani Central</td>\n",
       "      <td>4.000</td>\n",
       "      <td>2</td>\n",
       "      <td>214.500</td>\n",
       "      <td>0.179443</td>\n",
       "      <td>0.547793</td>\n",
       "      <td>0.163630</td>\n",
       "      <td>0.009177</td>\n",
       "      <td>0.099957</td>\n",
       "      <td>0.000000</td>\n",
       "      <td>46.860527</td>\n",
       "      <td>1.057189</td>\n",
       "    </tr>\n",
       "    <tr>\n",
       "      <th>1</th>\n",
       "      <td>The Bbq</td>\n",
       "      <td>4.000</td>\n",
       "      <td>2</td>\n",
       "      <td>565.000</td>\n",
       "      <td>0.182969</td>\n",
       "      <td>0.128991</td>\n",
       "      <td>0.000000</td>\n",
       "      <td>0.138047</td>\n",
       "      <td>0.107126</td>\n",
       "      <td>0.442866</td>\n",
       "      <td>-26.102589</td>\n",
       "      <td>-31.013386</td>\n",
       "    </tr>\n",
       "    <tr>\n",
       "      <th>2</th>\n",
       "      <td>Italy</td>\n",
       "      <td>4.500</td>\n",
       "      <td>2</td>\n",
       "      <td>243.000</td>\n",
       "      <td>0.152837</td>\n",
       "      <td>0.013811</td>\n",
       "      <td>0.026576</td>\n",
       "      <td>0.789254</td>\n",
       "      <td>0.017522</td>\n",
       "      <td>0.000000</td>\n",
       "      <td>-43.054707</td>\n",
       "      <td>9.310807</td>\n",
       "    </tr>\n",
       "    <tr>\n",
       "      <th>3</th>\n",
       "      <td>Vibes Restro</td>\n",
       "      <td>5.000</td>\n",
       "      <td>1</td>\n",
       "      <td>150.000</td>\n",
       "      <td>0.024352</td>\n",
       "      <td>0.032702</td>\n",
       "      <td>0.000000</td>\n",
       "      <td>0.554878</td>\n",
       "      <td>0.341050</td>\n",
       "      <td>0.047018</td>\n",
       "      <td>-2.130068</td>\n",
       "      <td>-22.597075</td>\n",
       "    </tr>\n",
       "    <tr>\n",
       "      <th>4</th>\n",
       "      <td>100                                C</td>\n",
       "      <td>4.625</td>\n",
       "      <td>16</td>\n",
       "      <td>282.125</td>\n",
       "      <td>0.295273</td>\n",
       "      <td>0.233111</td>\n",
       "      <td>0.058193</td>\n",
       "      <td>0.114440</td>\n",
       "      <td>0.273331</td>\n",
       "      <td>0.025652</td>\n",
       "      <td>34.604137</td>\n",
       "      <td>5.148355</td>\n",
       "    </tr>\n",
       "  </tbody>\n",
       "</table>\n",
       "</div>"
      ],
      "text/plain": [
       "                             restaurant  rating  review  review_length  \\\n",
       "0                       Biryani Central   4.000       2        214.500   \n",
       "1                               The Bbq   4.000       2        565.000   \n",
       "2                                 Italy   4.500       2        243.000   \n",
       "3                          Vibes Restro   5.000       1        150.000   \n",
       "4  100                                C   4.625      16        282.125   \n",
       "\n",
       "   biryani_order  Mutton_Biryani  Ambience  Service_Staff  Quality_Quantity  \\\n",
       "0       0.179443        0.547793  0.163630       0.009177          0.099957   \n",
       "1       0.182969        0.128991  0.000000       0.138047          0.107126   \n",
       "2       0.152837        0.013811  0.026576       0.789254          0.017522   \n",
       "3       0.024352        0.032702  0.000000       0.554878          0.341050   \n",
       "4       0.295273        0.233111  0.058193       0.114440          0.273331   \n",
       "\n",
       "     Buffet      tsne1      tsne2  \n",
       "0  0.000000  46.860527   1.057189  \n",
       "1  0.442866 -26.102589 -31.013386  \n",
       "2  0.000000 -43.054707   9.310807  \n",
       "3  0.047018  -2.130068 -22.597075  \n",
       "4  0.025652  34.604137   5.148355  "
      ]
     },
     "execution_count": 151,
     "metadata": {},
     "output_type": "execute_result"
    }
   ],
   "source": [
    "df11.head()"
   ]
  },
  {
   "cell_type": "code",
   "execution_count": 159,
   "metadata": {
    "ExecuteTime": {
     "end_time": "2020-03-26T11:26:32.554790Z",
     "start_time": "2020-03-26T11:26:32.526864Z"
    }
   },
   "outputs": [
    {
     "data": {
      "text/html": [
       "<div>\n",
       "<style scoped>\n",
       "    .dataframe tbody tr th:only-of-type {\n",
       "        vertical-align: middle;\n",
       "    }\n",
       "\n",
       "    .dataframe tbody tr th {\n",
       "        vertical-align: top;\n",
       "    }\n",
       "\n",
       "    .dataframe thead th {\n",
       "        text-align: right;\n",
       "    }\n",
       "</style>\n",
       "<table border=\"1\" class=\"dataframe\">\n",
       "  <thead>\n",
       "    <tr style=\"text-align: right;\">\n",
       "      <th></th>\n",
       "      <th>restaurant</th>\n",
       "      <th>rating</th>\n",
       "      <th>review</th>\n",
       "      <th>review_length</th>\n",
       "      <th>Ambience_Service</th>\n",
       "      <th>Quality_service</th>\n",
       "      <th>Experience</th>\n",
       "      <th>BIryani</th>\n",
       "      <th>Quality_Quantity</th>\n",
       "      <th>Delivery_Order</th>\n",
       "      <th>tsne1</th>\n",
       "      <th>tsne2</th>\n",
       "    </tr>\n",
       "  </thead>\n",
       "  <tbody>\n",
       "    <tr>\n",
       "      <th>0</th>\n",
       "      <td>100                                C</td>\n",
       "      <td>1.285714</td>\n",
       "      <td>7</td>\n",
       "      <td>195.000000</td>\n",
       "      <td>0.245130</td>\n",
       "      <td>0.001881</td>\n",
       "      <td>0.076022</td>\n",
       "      <td>0.405248</td>\n",
       "      <td>0.062449</td>\n",
       "      <td>0.209268</td>\n",
       "      <td>5.396239</td>\n",
       "      <td>17.156336</td>\n",
       "    </tr>\n",
       "    <tr>\n",
       "      <th>1</th>\n",
       "      <td>1441 Pizzeria</td>\n",
       "      <td>2.000000</td>\n",
       "      <td>1</td>\n",
       "      <td>618.000000</td>\n",
       "      <td>0.591834</td>\n",
       "      <td>0.089434</td>\n",
       "      <td>0.030491</td>\n",
       "      <td>0.000000</td>\n",
       "      <td>0.266979</td>\n",
       "      <td>0.021262</td>\n",
       "      <td>12.526060</td>\n",
       "      <td>-10.657610</td>\n",
       "    </tr>\n",
       "    <tr>\n",
       "      <th>2</th>\n",
       "      <td>1722 Urban Bistro</td>\n",
       "      <td>1.750000</td>\n",
       "      <td>4</td>\n",
       "      <td>231.750000</td>\n",
       "      <td>0.414430</td>\n",
       "      <td>0.161074</td>\n",
       "      <td>0.000000</td>\n",
       "      <td>0.110921</td>\n",
       "      <td>0.080509</td>\n",
       "      <td>0.233066</td>\n",
       "      <td>-9.851998</td>\n",
       "      <td>-8.069964</td>\n",
       "    </tr>\n",
       "    <tr>\n",
       "      <th>3</th>\n",
       "      <td>1947</td>\n",
       "      <td>1.000000</td>\n",
       "      <td>3</td>\n",
       "      <td>655.333333</td>\n",
       "      <td>0.400095</td>\n",
       "      <td>0.010692</td>\n",
       "      <td>0.081753</td>\n",
       "      <td>0.093934</td>\n",
       "      <td>0.031450</td>\n",
       "      <td>0.382076</td>\n",
       "      <td>-22.236788</td>\n",
       "      <td>3.180169</td>\n",
       "    </tr>\n",
       "    <tr>\n",
       "      <th>4</th>\n",
       "      <td>2 Statez</td>\n",
       "      <td>1.000000</td>\n",
       "      <td>1</td>\n",
       "      <td>399.000000</td>\n",
       "      <td>0.232571</td>\n",
       "      <td>0.020517</td>\n",
       "      <td>0.039196</td>\n",
       "      <td>0.233359</td>\n",
       "      <td>0.000000</td>\n",
       "      <td>0.474357</td>\n",
       "      <td>-23.122963</td>\n",
       "      <td>10.237085</td>\n",
       "    </tr>\n",
       "  </tbody>\n",
       "</table>\n",
       "</div>"
      ],
      "text/plain": [
       "                             restaurant    rating  review  review_length  \\\n",
       "0  100                                C  1.285714       7     195.000000   \n",
       "1                         1441 Pizzeria  2.000000       1     618.000000   \n",
       "2                     1722 Urban Bistro  1.750000       4     231.750000   \n",
       "3                                  1947  1.000000       3     655.333333   \n",
       "4                              2 Statez  1.000000       1     399.000000   \n",
       "\n",
       "   Ambience_Service  Quality_service  Experience   BIryani  Quality_Quantity  \\\n",
       "0          0.245130         0.001881    0.076022  0.405248          0.062449   \n",
       "1          0.591834         0.089434    0.030491  0.000000          0.266979   \n",
       "2          0.414430         0.161074    0.000000  0.110921          0.080509   \n",
       "3          0.400095         0.010692    0.081753  0.093934          0.031450   \n",
       "4          0.232571         0.020517    0.039196  0.233359          0.000000   \n",
       "\n",
       "   Delivery_Order      tsne1      tsne2  \n",
       "0        0.209268   5.396239  17.156336  \n",
       "1        0.021262  12.526060 -10.657610  \n",
       "2        0.233066  -9.851998  -8.069964  \n",
       "3        0.382076 -22.236788   3.180169  \n",
       "4        0.474357 -23.122963  10.237085  "
      ]
     },
     "execution_count": 159,
     "metadata": {},
     "output_type": "execute_result"
    }
   ],
   "source": [
    "df12.head()"
   ]
  },
  {
   "cell_type": "code",
   "execution_count": 160,
   "metadata": {
    "ExecuteTime": {
     "end_time": "2020-03-26T11:26:55.649876Z",
     "start_time": "2020-03-26T11:26:54.534384Z"
    },
    "scrolled": false
   },
   "outputs": [
    {
     "data": {
      "image/png": "[encoded data removed]",
      "text/plain": [
       "<Figure size 864x432 with 1 Axes>"
      ]
     },
     "metadata": {
      "needs_background": "light"
     },
     "output_type": "display_data"
    }
   ],
   "source": [
    "from sklearn.cluster import KMeans\n",
    "import matplotlib.pyplot as plt\n",
    "wcss = []\n",
    "for k in range(1,11):\n",
    "    kmeans = KMeans(n_clusters=k, init=\"k-means++\")\n",
    "    kmeans.fit(df11.iloc[:,4:10])\n",
    "    wcss.append(kmeans.inertia_)\n",
    "plt.figure(figsize=(12,6))    \n",
    "plt.grid()\n",
    "plt.plot(range(1,11),wcss, linewidth=2, color=\"red\", marker =\"8\")\n",
    "plt.xlabel(\"K Value\")\n",
    "plt.xticks(np.arange(1,11,1))\n",
    "plt.ylabel(\"WCSS\")\n",
    "plt.show()\n",
    "\n"
   ]
  },
  {
   "cell_type": "code",
   "execution_count": 191,
   "metadata": {
    "ExecuteTime": {
     "end_time": "2020-03-26T11:35:57.066955Z",
     "start_time": "2020-03-26T11:35:57.000096Z"
    }
   },
   "outputs": [],
   "source": [
    "km_p = KMeans(n_clusters=4,init=\"k-means++\")\n",
    "clusters = km_p.fit_predict(df11.iloc[:,4:10])\n",
    "df11[\"label\"] = clusters"
   ]
  },
  {
   "cell_type": "code",
   "execution_count": 192,
   "metadata": {
    "ExecuteTime": {
     "end_time": "2020-03-26T11:35:58.641289Z",
     "start_time": "2020-03-26T11:35:58.572437Z"
    }
   },
   "outputs": [
    {
     "data": {
      "text/plain": [
       "0.5454304391689138"
      ]
     },
     "execution_count": 192,
     "metadata": {},
     "output_type": "execute_result"
    }
   ],
   "source": [
    "silhouette_score(df11.iloc[:,4:10],labels = km_p.labels_)"
   ]
  },
  {
   "cell_type": "code",
   "execution_count": 165,
   "metadata": {
    "ExecuteTime": {
     "end_time": "2020-03-26T11:30:00.800082Z",
     "start_time": "2020-03-26T11:29:59.872321Z"
    }
   },
   "outputs": [
    {
     "data": {
      "image/png": "[encoded data removed]",
      "text/plain": [
       "<Figure size 864x432 with 1 Axes>"
      ]
     },
     "metadata": {
      "needs_background": "light"
     },
     "output_type": "display_data"
    }
   ],
   "source": [
    "\n",
    "wcss_n = []\n",
    "for k in range(1,11):\n",
    "    kmeans = KMeans(n_clusters=k, init=\"k-means++\")\n",
    "    kmeans.fit(df12.iloc[:,4:10])\n",
    "    wcss_n.append(kmeans.inertia_)\n",
    "plt.figure(figsize=(12,6))    \n",
    "plt.grid()\n",
    "plt.plot(range(1,11),wcss_n, linewidth=2, color=\"red\", marker =\"8\")\n",
    "plt.xlabel(\"K Value\")\n",
    "plt.xticks(np.arange(1,11,1))\n",
    "plt.ylabel(\"WCSS Neg\")\n",
    "plt.show()\n",
    "\n",
    "\n",
    "\n"
   ]
  },
  {
   "cell_type": "code",
   "execution_count": 193,
   "metadata": {
    "ExecuteTime": {
     "end_time": "2020-03-26T11:36:05.766346Z",
     "start_time": "2020-03-26T11:36:05.690549Z"
    }
   },
   "outputs": [],
   "source": [
    "km_n = KMeans(n_clusters=4,init=\"k-means++\")\n",
    "clusters = km_n.fit_predict(df12.iloc[:,4:10])\n",
    "df12[\"label\"] = clusters"
   ]
  },
  {
   "cell_type": "code",
   "execution_count": 194,
   "metadata": {
    "ExecuteTime": {
     "end_time": "2020-03-26T11:36:06.822624Z",
     "start_time": "2020-03-26T11:36:06.791711Z"
    }
   },
   "outputs": [
    {
     "data": {
      "text/plain": [
       "0.5603292052650382"
      ]
     },
     "execution_count": 194,
     "metadata": {},
     "output_type": "execute_result"
    }
   ],
   "source": [
    "silhouette_score(df12.iloc[:,4:10],labels = km_n.labels_)"
   ]
  },
  {
   "cell_type": "code",
   "execution_count": 197,
   "metadata": {
    "ExecuteTime": {
     "end_time": "2020-03-26T11:36:25.155462Z",
     "start_time": "2020-03-26T11:36:24.933973Z"
    }
   },
   "outputs": [
    {
     "data": {
      "text/html": [
       "<div>\n",
       "<style scoped>\n",
       "    .dataframe tbody tr th:only-of-type {\n",
       "        vertical-align: middle;\n",
       "    }\n",
       "\n",
       "    .dataframe tbody tr th {\n",
       "        vertical-align: top;\n",
       "    }\n",
       "\n",
       "    .dataframe thead th {\n",
       "        text-align: right;\n",
       "    }\n",
       "</style>\n",
       "<table border=\"1\" class=\"dataframe\">\n",
       "  <thead>\n",
       "    <tr style=\"text-align: right;\">\n",
       "      <th></th>\n",
       "      <th>restaurant</th>\n",
       "      <th>rating</th>\n",
       "      <th>review</th>\n",
       "      <th>review_length</th>\n",
       "      <th>biryani_order</th>\n",
       "      <th>Mutton_Biryani</th>\n",
       "      <th>Ambience</th>\n",
       "      <th>Service_Staff</th>\n",
       "      <th>Quality_Quantity</th>\n",
       "      <th>Buffet</th>\n",
       "      <th>tsne1</th>\n",
       "      <th>tsne2</th>\n",
       "      <th>label</th>\n",
       "    </tr>\n",
       "  </thead>\n",
       "  <tbody>\n",
       "    <tr>\n",
       "      <th>7</th>\n",
       "      <td>1947</td>\n",
       "      <td>4.166667</td>\n",
       "      <td>48</td>\n",
       "      <td>388.958333</td>\n",
       "      <td>0.057836</td>\n",
       "      <td>0.030320</td>\n",
       "      <td>0.097409</td>\n",
       "      <td>0.382053</td>\n",
       "      <td>0.099142</td>\n",
       "      <td>0.333241</td>\n",
       "      <td>-25.234114</td>\n",
       "      <td>-22.952934</td>\n",
       "      <td>0</td>\n",
       "    </tr>\n",
       "    <tr>\n",
       "      <th>11</th>\n",
       "      <td>24th Main</td>\n",
       "      <td>4.300000</td>\n",
       "      <td>10</td>\n",
       "      <td>409.300000</td>\n",
       "      <td>0.028908</td>\n",
       "      <td>0.003965</td>\n",
       "      <td>0.081378</td>\n",
       "      <td>0.289039</td>\n",
       "      <td>0.104700</td>\n",
       "      <td>0.492010</td>\n",
       "      <td>-28.374153</td>\n",
       "      <td>-28.099382</td>\n",
       "      <td>0</td>\n",
       "    </tr>\n",
       "    <tr>\n",
       "      <th>14</th>\n",
       "      <td>36th Cross Coffee Mane</td>\n",
       "      <td>4.500000</td>\n",
       "      <td>13</td>\n",
       "      <td>392.846154</td>\n",
       "      <td>0.114733</td>\n",
       "      <td>0.098014</td>\n",
       "      <td>0.102865</td>\n",
       "      <td>0.273721</td>\n",
       "      <td>0.222960</td>\n",
       "      <td>0.187707</td>\n",
       "      <td>22.362080</td>\n",
       "      <td>-15.961496</td>\n",
       "      <td>0</td>\n",
       "    </tr>\n",
       "    <tr>\n",
       "      <th>31</th>\n",
       "      <td>Aagaman Veg</td>\n",
       "      <td>4.272727</td>\n",
       "      <td>11</td>\n",
       "      <td>535.727273</td>\n",
       "      <td>0.083744</td>\n",
       "      <td>0.005659</td>\n",
       "      <td>0.139394</td>\n",
       "      <td>0.301278</td>\n",
       "      <td>0.154084</td>\n",
       "      <td>0.315841</td>\n",
       "      <td>-22.069731</td>\n",
       "      <td>-25.535416</td>\n",
       "      <td>0</td>\n",
       "    </tr>\n",
       "    <tr>\n",
       "      <th>75</th>\n",
       "      <td>Ambika Vegetarian Hotel</td>\n",
       "      <td>4.100000</td>\n",
       "      <td>10</td>\n",
       "      <td>230.500000</td>\n",
       "      <td>0.113184</td>\n",
       "      <td>0.133791</td>\n",
       "      <td>0.092414</td>\n",
       "      <td>0.369068</td>\n",
       "      <td>0.092991</td>\n",
       "      <td>0.198551</td>\n",
       "      <td>-17.118750</td>\n",
       "      <td>-14.459650</td>\n",
       "      <td>0</td>\n",
       "    </tr>\n",
       "    <tr>\n",
       "      <th>94</th>\n",
       "      <td>Annalakshmi</td>\n",
       "      <td>4.411765</td>\n",
       "      <td>17</td>\n",
       "      <td>429.941176</td>\n",
       "      <td>0.161815</td>\n",
       "      <td>0.053325</td>\n",
       "      <td>0.030559</td>\n",
       "      <td>0.364184</td>\n",
       "      <td>0.226964</td>\n",
       "      <td>0.163153</td>\n",
       "      <td>-6.245864</td>\n",
       "      <td>-14.408498</td>\n",
       "      <td>0</td>\n",
       "    </tr>\n",
       "    <tr>\n",
       "      <th>102</th>\n",
       "      <td>Apna Veg Dhaba</td>\n",
       "      <td>4.785714</td>\n",
       "      <td>14</td>\n",
       "      <td>182.785714</td>\n",
       "      <td>0.077064</td>\n",
       "      <td>0.013869</td>\n",
       "      <td>0.018197</td>\n",
       "      <td>0.209025</td>\n",
       "      <td>0.370719</td>\n",
       "      <td>0.168270</td>\n",
       "      <td>9.365179</td>\n",
       "      <td>-20.691158</td>\n",
       "      <td>0</td>\n",
       "    </tr>\n",
       "    <tr>\n",
       "      <th>115</th>\n",
       "      <td>Atithi</td>\n",
       "      <td>4.161905</td>\n",
       "      <td>105</td>\n",
       "      <td>351.323810</td>\n",
       "      <td>0.065159</td>\n",
       "      <td>0.024607</td>\n",
       "      <td>0.063461</td>\n",
       "      <td>0.359609</td>\n",
       "      <td>0.133011</td>\n",
       "      <td>0.316058</td>\n",
       "      <td>-24.297810</td>\n",
       "      <td>-22.682806</td>\n",
       "      <td>0</td>\n",
       "    </tr>\n",
       "    <tr>\n",
       "      <th>120</th>\n",
       "      <td>Axomi   Taste of Assam</td>\n",
       "      <td>4.187500</td>\n",
       "      <td>16</td>\n",
       "      <td>557.875000</td>\n",
       "      <td>0.185544</td>\n",
       "      <td>0.030528</td>\n",
       "      <td>0.007977</td>\n",
       "      <td>0.362800</td>\n",
       "      <td>0.320139</td>\n",
       "      <td>0.093012</td>\n",
       "      <td>6.434314</td>\n",
       "      <td>-14.333488</td>\n",
       "      <td>0</td>\n",
       "    </tr>\n",
       "    <tr>\n",
       "      <th>143</th>\n",
       "      <td>Banjara Melting Pot</td>\n",
       "      <td>4.333333</td>\n",
       "      <td>12</td>\n",
       "      <td>307.083333</td>\n",
       "      <td>0.045144</td>\n",
       "      <td>0.108513</td>\n",
       "      <td>0.125641</td>\n",
       "      <td>0.315274</td>\n",
       "      <td>0.130752</td>\n",
       "      <td>0.274676</td>\n",
       "      <td>-22.793720</td>\n",
       "      <td>-24.444019</td>\n",
       "      <td>0</td>\n",
       "    </tr>\n",
       "    <tr>\n",
       "      <th>144</th>\n",
       "      <td>Barbecoa</td>\n",
       "      <td>4.366667</td>\n",
       "      <td>45</td>\n",
       "      <td>549.511111</td>\n",
       "      <td>0.081911</td>\n",
       "      <td>0.022193</td>\n",
       "      <td>0.070931</td>\n",
       "      <td>0.373818</td>\n",
       "      <td>0.063684</td>\n",
       "      <td>0.343018</td>\n",
       "      <td>-26.070034</td>\n",
       "      <td>-23.318111</td>\n",
       "      <td>0</td>\n",
       "    </tr>\n",
       "    <tr>\n",
       "      <th>145</th>\n",
       "      <td>Barbecue by Punjab Grill</td>\n",
       "      <td>4.535714</td>\n",
       "      <td>28</td>\n",
       "      <td>624.250000</td>\n",
       "      <td>0.055757</td>\n",
       "      <td>0.028115</td>\n",
       "      <td>0.065378</td>\n",
       "      <td>0.493933</td>\n",
       "      <td>0.042466</td>\n",
       "      <td>0.314350</td>\n",
       "      <td>-29.363384</td>\n",
       "      <td>-16.616871</td>\n",
       "      <td>0</td>\n",
       "    </tr>\n",
       "    <tr>\n",
       "      <th>211</th>\n",
       "      <td>Bonsouth</td>\n",
       "      <td>4.583333</td>\n",
       "      <td>36</td>\n",
       "      <td>449.944444</td>\n",
       "      <td>0.057571</td>\n",
       "      <td>0.013740</td>\n",
       "      <td>0.088931</td>\n",
       "      <td>0.379785</td>\n",
       "      <td>0.065255</td>\n",
       "      <td>0.311385</td>\n",
       "      <td>-25.405945</td>\n",
       "      <td>-22.441025</td>\n",
       "      <td>0</td>\n",
       "    </tr>\n",
       "    <tr>\n",
       "      <th>231</th>\n",
       "      <td>Cable Car</td>\n",
       "      <td>4.526316</td>\n",
       "      <td>38</td>\n",
       "      <td>527.315789</td>\n",
       "      <td>0.065368</td>\n",
       "      <td>0.023024</td>\n",
       "      <td>0.050298</td>\n",
       "      <td>0.359308</td>\n",
       "      <td>0.091769</td>\n",
       "      <td>0.410233</td>\n",
       "      <td>-27.700151</td>\n",
       "      <td>-25.088932</td>\n",
       "      <td>0</td>\n",
       "    </tr>\n",
       "    <tr>\n",
       "      <th>241</th>\n",
       "      <td>Canopy</td>\n",
       "      <td>4.000000</td>\n",
       "      <td>19</td>\n",
       "      <td>267.368421</td>\n",
       "      <td>0.057229</td>\n",
       "      <td>0.078417</td>\n",
       "      <td>0.011663</td>\n",
       "      <td>0.407858</td>\n",
       "      <td>0.143836</td>\n",
       "      <td>0.248365</td>\n",
       "      <td>-18.096756</td>\n",
       "      <td>-16.895039</td>\n",
       "      <td>0</td>\n",
       "    </tr>\n",
       "    <tr>\n",
       "      <th>251</th>\n",
       "      <td>Chaavadi</td>\n",
       "      <td>4.700000</td>\n",
       "      <td>10</td>\n",
       "      <td>230.800000</td>\n",
       "      <td>0.089468</td>\n",
       "      <td>0.005451</td>\n",
       "      <td>0.059808</td>\n",
       "      <td>0.485870</td>\n",
       "      <td>0.237128</td>\n",
       "      <td>0.022275</td>\n",
       "      <td>-1.943179</td>\n",
       "      <td>-16.942698</td>\n",
       "      <td>0</td>\n",
       "    </tr>\n",
       "    <tr>\n",
       "      <th>257</th>\n",
       "      <td>Chattorey   The Family Restaurant</td>\n",
       "      <td>4.846154</td>\n",
       "      <td>13</td>\n",
       "      <td>100.846154</td>\n",
       "      <td>0.094461</td>\n",
       "      <td>0.016408</td>\n",
       "      <td>0.188796</td>\n",
       "      <td>0.239222</td>\n",
       "      <td>0.214325</td>\n",
       "      <td>0.092942</td>\n",
       "      <td>17.023979</td>\n",
       "      <td>-13.747342</td>\n",
       "      <td>0</td>\n",
       "    </tr>\n",
       "    <tr>\n",
       "      <th>275</th>\n",
       "      <td>China Bistro   Lounge</td>\n",
       "      <td>4.100000</td>\n",
       "      <td>10</td>\n",
       "      <td>536.100000</td>\n",
       "      <td>0.111785</td>\n",
       "      <td>0.023579</td>\n",
       "      <td>0.004314</td>\n",
       "      <td>0.508459</td>\n",
       "      <td>0.005731</td>\n",
       "      <td>0.346132</td>\n",
       "      <td>-31.538816</td>\n",
       "      <td>-17.791498</td>\n",
       "      <td>0</td>\n",
       "    </tr>\n",
       "    <tr>\n",
       "      <th>297</th>\n",
       "      <td>Chutney Chang</td>\n",
       "      <td>4.296296</td>\n",
       "      <td>27</td>\n",
       "      <td>522.296296</td>\n",
       "      <td>0.012192</td>\n",
       "      <td>0.051321</td>\n",
       "      <td>0.016251</td>\n",
       "      <td>0.413566</td>\n",
       "      <td>0.032691</td>\n",
       "      <td>0.473980</td>\n",
       "      <td>-30.733665</td>\n",
       "      <td>-25.097790</td>\n",
       "      <td>0</td>\n",
       "    </tr>\n",
       "    <tr>\n",
       "      <th>356</th>\n",
       "      <td>Desi Foodizzz</td>\n",
       "      <td>4.638889</td>\n",
       "      <td>18</td>\n",
       "      <td>269.000000</td>\n",
       "      <td>0.137025</td>\n",
       "      <td>0.034711</td>\n",
       "      <td>0.082354</td>\n",
       "      <td>0.336239</td>\n",
       "      <td>0.357183</td>\n",
       "      <td>0.052488</td>\n",
       "      <td>9.849174</td>\n",
       "      <td>-15.876904</td>\n",
       "      <td>0</td>\n",
       "    </tr>\n",
       "    <tr>\n",
       "      <th>367</th>\n",
       "      <td>Dilish Kitchens</td>\n",
       "      <td>4.366667</td>\n",
       "      <td>15</td>\n",
       "      <td>465.200000</td>\n",
       "      <td>0.126874</td>\n",
       "      <td>0.085424</td>\n",
       "      <td>0.089345</td>\n",
       "      <td>0.259730</td>\n",
       "      <td>0.231347</td>\n",
       "      <td>0.207280</td>\n",
       "      <td>22.053328</td>\n",
       "      <td>-16.062582</td>\n",
       "      <td>0</td>\n",
       "    </tr>\n",
       "    <tr>\n",
       "      <th>391</th>\n",
       "      <td>Elements   Mapple Express</td>\n",
       "      <td>3.961538</td>\n",
       "      <td>13</td>\n",
       "      <td>216.923077</td>\n",
       "      <td>0.158167</td>\n",
       "      <td>0.009820</td>\n",
       "      <td>0.058375</td>\n",
       "      <td>0.444618</td>\n",
       "      <td>0.083958</td>\n",
       "      <td>0.245061</td>\n",
       "      <td>-22.293596</td>\n",
       "      <td>-15.222116</td>\n",
       "      <td>0</td>\n",
       "    </tr>\n",
       "    <tr>\n",
       "      <th>403</th>\n",
       "      <td>Euki</td>\n",
       "      <td>4.100000</td>\n",
       "      <td>10</td>\n",
       "      <td>401.600000</td>\n",
       "      <td>0.129719</td>\n",
       "      <td>0.007649</td>\n",
       "      <td>0.183884</td>\n",
       "      <td>0.349285</td>\n",
       "      <td>0.066556</td>\n",
       "      <td>0.262906</td>\n",
       "      <td>-19.821508</td>\n",
       "      <td>-24.279202</td>\n",
       "      <td>0</td>\n",
       "    </tr>\n",
       "    <tr>\n",
       "      <th>421</th>\n",
       "      <td>Flavours   Octave Hotel   Spa</td>\n",
       "      <td>4.115385</td>\n",
       "      <td>65</td>\n",
       "      <td>359.030769</td>\n",
       "      <td>0.065225</td>\n",
       "      <td>0.025992</td>\n",
       "      <td>0.082933</td>\n",
       "      <td>0.342239</td>\n",
       "      <td>0.134801</td>\n",
       "      <td>0.287272</td>\n",
       "      <td>-23.694464</td>\n",
       "      <td>-23.205828</td>\n",
       "      <td>0</td>\n",
       "    </tr>\n",
       "    <tr>\n",
       "      <th>447</th>\n",
       "      <td>Gandharva Family Restaurant</td>\n",
       "      <td>4.000000</td>\n",
       "      <td>12</td>\n",
       "      <td>251.166667</td>\n",
       "      <td>0.159037</td>\n",
       "      <td>0.056978</td>\n",
       "      <td>0.091833</td>\n",
       "      <td>0.250402</td>\n",
       "      <td>0.117775</td>\n",
       "      <td>0.323975</td>\n",
       "      <td>-18.615931</td>\n",
       "      <td>-27.755444</td>\n",
       "      <td>0</td>\n",
       "    </tr>\n",
       "    <tr>\n",
       "      <th>448</th>\n",
       "      <td>Ghar Ka Chulha</td>\n",
       "      <td>4.644444</td>\n",
       "      <td>45</td>\n",
       "      <td>141.400000</td>\n",
       "      <td>0.162594</td>\n",
       "      <td>0.027446</td>\n",
       "      <td>0.028240</td>\n",
       "      <td>0.284381</td>\n",
       "      <td>0.299124</td>\n",
       "      <td>0.131548</td>\n",
       "      <td>7.579789</td>\n",
       "      <td>-14.645809</td>\n",
       "      <td>0</td>\n",
       "    </tr>\n",
       "    <tr>\n",
       "      <th>456</th>\n",
       "      <td>Gokul Kuteera</td>\n",
       "      <td>4.158654</td>\n",
       "      <td>104</td>\n",
       "      <td>311.096154</td>\n",
       "      <td>0.088900</td>\n",
       "      <td>0.033564</td>\n",
       "      <td>0.072236</td>\n",
       "      <td>0.350822</td>\n",
       "      <td>0.107882</td>\n",
       "      <td>0.327366</td>\n",
       "      <td>-24.583624</td>\n",
       "      <td>-23.188908</td>\n",
       "      <td>0</td>\n",
       "    </tr>\n",
       "    <tr>\n",
       "      <th>466</th>\n",
       "      <td>Gramin</td>\n",
       "      <td>4.303030</td>\n",
       "      <td>66</td>\n",
       "      <td>489.121212</td>\n",
       "      <td>0.108637</td>\n",
       "      <td>0.056213</td>\n",
       "      <td>0.064963</td>\n",
       "      <td>0.374154</td>\n",
       "      <td>0.100146</td>\n",
       "      <td>0.295887</td>\n",
       "      <td>-23.802025</td>\n",
       "      <td>-21.781078</td>\n",
       "      <td>0</td>\n",
       "    </tr>\n",
       "    <tr>\n",
       "      <th>477</th>\n",
       "      <td>Gud Dhani</td>\n",
       "      <td>4.153846</td>\n",
       "      <td>13</td>\n",
       "      <td>300.538462</td>\n",
       "      <td>0.063968</td>\n",
       "      <td>0.017210</td>\n",
       "      <td>0.099375</td>\n",
       "      <td>0.319380</td>\n",
       "      <td>0.137882</td>\n",
       "      <td>0.362185</td>\n",
       "      <td>-24.635187</td>\n",
       "      <td>-24.620596</td>\n",
       "      <td>0</td>\n",
       "    </tr>\n",
       "    <tr>\n",
       "      <th>551</th>\n",
       "      <td>Hunger Camp</td>\n",
       "      <td>4.434783</td>\n",
       "      <td>23</td>\n",
       "      <td>515.434783</td>\n",
       "      <td>0.174984</td>\n",
       "      <td>0.072553</td>\n",
       "      <td>0.051816</td>\n",
       "      <td>0.408785</td>\n",
       "      <td>0.098187</td>\n",
       "      <td>0.193674</td>\n",
       "      <td>-18.581997</td>\n",
       "      <td>-14.136476</td>\n",
       "      <td>0</td>\n",
       "    </tr>\n",
       "    <tr>\n",
       "      <th>...</th>\n",
       "      <td>...</td>\n",
       "      <td>...</td>\n",
       "      <td>...</td>\n",
       "      <td>...</td>\n",
       "      <td>...</td>\n",
       "      <td>...</td>\n",
       "      <td>...</td>\n",
       "      <td>...</td>\n",
       "      <td>...</td>\n",
       "      <td>...</td>\n",
       "      <td>...</td>\n",
       "      <td>...</td>\n",
       "      <td>...</td>\n",
       "    </tr>\n",
       "    <tr>\n",
       "      <th>1094</th>\n",
       "      <td>Sea Lions BBQ   Grills</td>\n",
       "      <td>4.600000</td>\n",
       "      <td>30</td>\n",
       "      <td>553.766667</td>\n",
       "      <td>0.107297</td>\n",
       "      <td>0.026296</td>\n",
       "      <td>0.053031</td>\n",
       "      <td>0.313540</td>\n",
       "      <td>0.056684</td>\n",
       "      <td>0.443153</td>\n",
       "      <td>-28.096966</td>\n",
       "      <td>-26.488678</td>\n",
       "      <td>0</td>\n",
       "    </tr>\n",
       "    <tr>\n",
       "      <th>1156</th>\n",
       "      <td>Skyline Family Restaurant</td>\n",
       "      <td>4.772727</td>\n",
       "      <td>11</td>\n",
       "      <td>45.818182</td>\n",
       "      <td>0.051401</td>\n",
       "      <td>0.007297</td>\n",
       "      <td>0.162953</td>\n",
       "      <td>0.238032</td>\n",
       "      <td>0.281402</td>\n",
       "      <td>0.077097</td>\n",
       "      <td>17.118088</td>\n",
       "      <td>-14.195677</td>\n",
       "      <td>0</td>\n",
       "    </tr>\n",
       "    <tr>\n",
       "      <th>1173</th>\n",
       "      <td>Spice Affair</td>\n",
       "      <td>4.640000</td>\n",
       "      <td>25</td>\n",
       "      <td>550.920000</td>\n",
       "      <td>0.114327</td>\n",
       "      <td>0.039061</td>\n",
       "      <td>0.148771</td>\n",
       "      <td>0.338754</td>\n",
       "      <td>0.303025</td>\n",
       "      <td>0.056062</td>\n",
       "      <td>13.443060</td>\n",
       "      <td>-14.532578</td>\n",
       "      <td>0</td>\n",
       "    </tr>\n",
       "    <tr>\n",
       "      <th>1174</th>\n",
       "      <td>Spice Code</td>\n",
       "      <td>4.400000</td>\n",
       "      <td>15</td>\n",
       "      <td>369.733333</td>\n",
       "      <td>0.149102</td>\n",
       "      <td>0.006725</td>\n",
       "      <td>0.058726</td>\n",
       "      <td>0.227594</td>\n",
       "      <td>0.082124</td>\n",
       "      <td>0.275729</td>\n",
       "      <td>-17.747982</td>\n",
       "      <td>-27.484451</td>\n",
       "      <td>0</td>\n",
       "    </tr>\n",
       "    <tr>\n",
       "      <th>1185</th>\n",
       "      <td>Spicy Fingers</td>\n",
       "      <td>4.900000</td>\n",
       "      <td>10</td>\n",
       "      <td>192.000000</td>\n",
       "      <td>0.123543</td>\n",
       "      <td>0.016595</td>\n",
       "      <td>0.045858</td>\n",
       "      <td>0.449614</td>\n",
       "      <td>0.247340</td>\n",
       "      <td>0.117049</td>\n",
       "      <td>-4.158026</td>\n",
       "      <td>-16.158197</td>\n",
       "      <td>0</td>\n",
       "    </tr>\n",
       "    <tr>\n",
       "      <th>1186</th>\n",
       "      <td>Spicy Onion</td>\n",
       "      <td>4.833333</td>\n",
       "      <td>12</td>\n",
       "      <td>201.666667</td>\n",
       "      <td>0.197046</td>\n",
       "      <td>0.060808</td>\n",
       "      <td>0.025756</td>\n",
       "      <td>0.293689</td>\n",
       "      <td>0.328999</td>\n",
       "      <td>0.093701</td>\n",
       "      <td>8.236555</td>\n",
       "      <td>-13.665535</td>\n",
       "      <td>0</td>\n",
       "    </tr>\n",
       "    <tr>\n",
       "      <th>1193</th>\n",
       "      <td>Sri Krishna Sagar</td>\n",
       "      <td>4.586207</td>\n",
       "      <td>29</td>\n",
       "      <td>21.172414</td>\n",
       "      <td>0.082378</td>\n",
       "      <td>0.020380</td>\n",
       "      <td>0.193534</td>\n",
       "      <td>0.182461</td>\n",
       "      <td>0.266569</td>\n",
       "      <td>0.047781</td>\n",
       "      <td>17.732391</td>\n",
       "      <td>-13.788418</td>\n",
       "      <td>0</td>\n",
       "    </tr>\n",
       "    <tr>\n",
       "      <th>1211</th>\n",
       "      <td>Status</td>\n",
       "      <td>4.057692</td>\n",
       "      <td>52</td>\n",
       "      <td>296.980769</td>\n",
       "      <td>0.164154</td>\n",
       "      <td>0.040148</td>\n",
       "      <td>0.102581</td>\n",
       "      <td>0.319094</td>\n",
       "      <td>0.174163</td>\n",
       "      <td>0.199859</td>\n",
       "      <td>-12.051888</td>\n",
       "      <td>-14.734826</td>\n",
       "      <td>0</td>\n",
       "    </tr>\n",
       "    <tr>\n",
       "      <th>1214</th>\n",
       "      <td>Subz</td>\n",
       "      <td>4.352941</td>\n",
       "      <td>17</td>\n",
       "      <td>481.647059</td>\n",
       "      <td>0.021060</td>\n",
       "      <td>0.039002</td>\n",
       "      <td>0.123956</td>\n",
       "      <td>0.283964</td>\n",
       "      <td>0.078026</td>\n",
       "      <td>0.453992</td>\n",
       "      <td>-27.514099</td>\n",
       "      <td>-27.968313</td>\n",
       "      <td>0</td>\n",
       "    </tr>\n",
       "    <tr>\n",
       "      <th>1222</th>\n",
       "      <td>Suryawanshi</td>\n",
       "      <td>4.264706</td>\n",
       "      <td>34</td>\n",
       "      <td>513.500000</td>\n",
       "      <td>0.204706</td>\n",
       "      <td>0.044665</td>\n",
       "      <td>0.019492</td>\n",
       "      <td>0.348533</td>\n",
       "      <td>0.107271</td>\n",
       "      <td>0.275333</td>\n",
       "      <td>-20.050531</td>\n",
       "      <td>-19.716671</td>\n",
       "      <td>0</td>\n",
       "    </tr>\n",
       "    <tr>\n",
       "      <th>1226</th>\n",
       "      <td>Swad</td>\n",
       "      <td>4.210526</td>\n",
       "      <td>19</td>\n",
       "      <td>256.210526</td>\n",
       "      <td>0.095474</td>\n",
       "      <td>0.036552</td>\n",
       "      <td>0.065577</td>\n",
       "      <td>0.311418</td>\n",
       "      <td>0.282562</td>\n",
       "      <td>0.208418</td>\n",
       "      <td>6.769885</td>\n",
       "      <td>-21.392473</td>\n",
       "      <td>0</td>\n",
       "    </tr>\n",
       "    <tr>\n",
       "      <th>1230</th>\n",
       "      <td>Swad Restaurant</td>\n",
       "      <td>3.973684</td>\n",
       "      <td>38</td>\n",
       "      <td>211.131579</td>\n",
       "      <td>0.136512</td>\n",
       "      <td>0.022550</td>\n",
       "      <td>0.076943</td>\n",
       "      <td>0.241439</td>\n",
       "      <td>0.258935</td>\n",
       "      <td>0.184674</td>\n",
       "      <td>20.727762</td>\n",
       "      <td>-15.595728</td>\n",
       "      <td>0</td>\n",
       "    </tr>\n",
       "    <tr>\n",
       "      <th>1233</th>\n",
       "      <td>Swadisht Inn</td>\n",
       "      <td>5.000000</td>\n",
       "      <td>10</td>\n",
       "      <td>1529.600000</td>\n",
       "      <td>0.090378</td>\n",
       "      <td>0.012846</td>\n",
       "      <td>0.032569</td>\n",
       "      <td>0.327074</td>\n",
       "      <td>0.274708</td>\n",
       "      <td>0.262425</td>\n",
       "      <td>6.639348</td>\n",
       "      <td>-22.470167</td>\n",
       "      <td>0</td>\n",
       "    </tr>\n",
       "    <tr>\n",
       "      <th>1241</th>\n",
       "      <td>Swathi Deluxe Restaurant</td>\n",
       "      <td>4.333333</td>\n",
       "      <td>24</td>\n",
       "      <td>233.916667</td>\n",
       "      <td>0.131807</td>\n",
       "      <td>0.135646</td>\n",
       "      <td>0.063286</td>\n",
       "      <td>0.265077</td>\n",
       "      <td>0.166217</td>\n",
       "      <td>0.196300</td>\n",
       "      <td>23.499311</td>\n",
       "      <td>-16.976185</td>\n",
       "      <td>0</td>\n",
       "    </tr>\n",
       "    <tr>\n",
       "      <th>1258</th>\n",
       "      <td>Tandoor Hut</td>\n",
       "      <td>4.464286</td>\n",
       "      <td>14</td>\n",
       "      <td>358.000000</td>\n",
       "      <td>0.145861</td>\n",
       "      <td>0.110535</td>\n",
       "      <td>0.041262</td>\n",
       "      <td>0.384241</td>\n",
       "      <td>0.133214</td>\n",
       "      <td>0.184888</td>\n",
       "      <td>-17.521883</td>\n",
       "      <td>-14.671947</td>\n",
       "      <td>0</td>\n",
       "    </tr>\n",
       "    <tr>\n",
       "      <th>1260</th>\n",
       "      <td>Tandoori Bytes</td>\n",
       "      <td>4.769231</td>\n",
       "      <td>13</td>\n",
       "      <td>76.615385</td>\n",
       "      <td>0.073970</td>\n",
       "      <td>0.048449</td>\n",
       "      <td>0.018272</td>\n",
       "      <td>0.203897</td>\n",
       "      <td>0.121078</td>\n",
       "      <td>0.226641</td>\n",
       "      <td>-16.725035</td>\n",
       "      <td>-28.282377</td>\n",
       "      <td>0</td>\n",
       "    </tr>\n",
       "    <tr>\n",
       "      <th>1276</th>\n",
       "      <td>Teburu</td>\n",
       "      <td>4.578947</td>\n",
       "      <td>19</td>\n",
       "      <td>492.315789</td>\n",
       "      <td>0.127349</td>\n",
       "      <td>0.003665</td>\n",
       "      <td>0.018435</td>\n",
       "      <td>0.445909</td>\n",
       "      <td>0.144517</td>\n",
       "      <td>0.260124</td>\n",
       "      <td>-22.967558</td>\n",
       "      <td>-16.921368</td>\n",
       "      <td>0</td>\n",
       "    </tr>\n",
       "    <tr>\n",
       "      <th>1281</th>\n",
       "      <td>Thalaserry Food Court</td>\n",
       "      <td>4.900000</td>\n",
       "      <td>10</td>\n",
       "      <td>282.000000</td>\n",
       "      <td>0.138804</td>\n",
       "      <td>0.155898</td>\n",
       "      <td>0.137715</td>\n",
       "      <td>0.112325</td>\n",
       "      <td>0.264639</td>\n",
       "      <td>0.190620</td>\n",
       "      <td>26.842199</td>\n",
       "      <td>-15.060322</td>\n",
       "      <td>0</td>\n",
       "    </tr>\n",
       "    <tr>\n",
       "      <th>1290</th>\n",
       "      <td>The Asian Curry House</td>\n",
       "      <td>4.414634</td>\n",
       "      <td>41</td>\n",
       "      <td>640.195122</td>\n",
       "      <td>0.142706</td>\n",
       "      <td>0.006050</td>\n",
       "      <td>0.074936</td>\n",
       "      <td>0.437027</td>\n",
       "      <td>0.090412</td>\n",
       "      <td>0.248869</td>\n",
       "      <td>-22.346638</td>\n",
       "      <td>-14.898044</td>\n",
       "      <td>0</td>\n",
       "    </tr>\n",
       "    <tr>\n",
       "      <th>1295</th>\n",
       "      <td>The Big Barbeque</td>\n",
       "      <td>4.650000</td>\n",
       "      <td>20</td>\n",
       "      <td>398.850000</td>\n",
       "      <td>0.083269</td>\n",
       "      <td>0.072997</td>\n",
       "      <td>0.042335</td>\n",
       "      <td>0.345689</td>\n",
       "      <td>0.082688</td>\n",
       "      <td>0.373022</td>\n",
       "      <td>-26.275087</td>\n",
       "      <td>-24.884277</td>\n",
       "      <td>0</td>\n",
       "    </tr>\n",
       "    <tr>\n",
       "      <th>1304</th>\n",
       "      <td>The Creek   The Den Bengaluru</td>\n",
       "      <td>4.578947</td>\n",
       "      <td>19</td>\n",
       "      <td>461.947368</td>\n",
       "      <td>0.050446</td>\n",
       "      <td>0.007770</td>\n",
       "      <td>0.069353</td>\n",
       "      <td>0.497084</td>\n",
       "      <td>0.081433</td>\n",
       "      <td>0.293914</td>\n",
       "      <td>-28.884396</td>\n",
       "      <td>-14.266992</td>\n",
       "      <td>0</td>\n",
       "    </tr>\n",
       "    <tr>\n",
       "      <th>1316</th>\n",
       "      <td>The Globe Grub</td>\n",
       "      <td>4.459770</td>\n",
       "      <td>87</td>\n",
       "      <td>468.540230</td>\n",
       "      <td>0.050018</td>\n",
       "      <td>0.028624</td>\n",
       "      <td>0.063582</td>\n",
       "      <td>0.395400</td>\n",
       "      <td>0.093834</td>\n",
       "      <td>0.334060</td>\n",
       "      <td>-25.985561</td>\n",
       "      <td>-22.537558</td>\n",
       "      <td>0</td>\n",
       "    </tr>\n",
       "    <tr>\n",
       "      <th>1360</th>\n",
       "      <td>The Rasoi</td>\n",
       "      <td>4.300000</td>\n",
       "      <td>15</td>\n",
       "      <td>283.266667</td>\n",
       "      <td>0.199809</td>\n",
       "      <td>0.016696</td>\n",
       "      <td>0.128240</td>\n",
       "      <td>0.314383</td>\n",
       "      <td>0.076658</td>\n",
       "      <td>0.264213</td>\n",
       "      <td>-18.363785</td>\n",
       "      <td>-25.724569</td>\n",
       "      <td>0</td>\n",
       "    </tr>\n",
       "    <tr>\n",
       "      <th>1373</th>\n",
       "      <td>The Square Table</td>\n",
       "      <td>4.283333</td>\n",
       "      <td>30</td>\n",
       "      <td>503.966667</td>\n",
       "      <td>0.230632</td>\n",
       "      <td>0.064030</td>\n",
       "      <td>0.045807</td>\n",
       "      <td>0.313320</td>\n",
       "      <td>0.081803</td>\n",
       "      <td>0.264408</td>\n",
       "      <td>-19.198347</td>\n",
       "      <td>-20.617844</td>\n",
       "      <td>0</td>\n",
       "    </tr>\n",
       "    <tr>\n",
       "      <th>1376</th>\n",
       "      <td>The Taste Players</td>\n",
       "      <td>4.923077</td>\n",
       "      <td>13</td>\n",
       "      <td>300.538462</td>\n",
       "      <td>0.090056</td>\n",
       "      <td>0.033503</td>\n",
       "      <td>0.060663</td>\n",
       "      <td>0.303688</td>\n",
       "      <td>0.373770</td>\n",
       "      <td>0.138320</td>\n",
       "      <td>7.633604</td>\n",
       "      <td>-18.338646</td>\n",
       "      <td>0</td>\n",
       "    </tr>\n",
       "    <tr>\n",
       "      <th>1386</th>\n",
       "      <td>Thyme   Whisk</td>\n",
       "      <td>4.600000</td>\n",
       "      <td>10</td>\n",
       "      <td>709.000000</td>\n",
       "      <td>0.161906</td>\n",
       "      <td>0.010142</td>\n",
       "      <td>0.049765</td>\n",
       "      <td>0.417420</td>\n",
       "      <td>0.134250</td>\n",
       "      <td>0.226517</td>\n",
       "      <td>-20.834221</td>\n",
       "      <td>-14.769481</td>\n",
       "      <td>0</td>\n",
       "    </tr>\n",
       "    <tr>\n",
       "      <th>1413</th>\n",
       "      <td>Urban Spice</td>\n",
       "      <td>3.958333</td>\n",
       "      <td>12</td>\n",
       "      <td>399.000000</td>\n",
       "      <td>0.139109</td>\n",
       "      <td>0.115129</td>\n",
       "      <td>0.044417</td>\n",
       "      <td>0.291141</td>\n",
       "      <td>0.172544</td>\n",
       "      <td>0.237661</td>\n",
       "      <td>23.280943</td>\n",
       "      <td>-17.518429</td>\n",
       "      <td>0</td>\n",
       "    </tr>\n",
       "    <tr>\n",
       "      <th>1414</th>\n",
       "      <td>Urban Spoon Buffet Restaurant</td>\n",
       "      <td>4.547619</td>\n",
       "      <td>21</td>\n",
       "      <td>323.523810</td>\n",
       "      <td>0.019478</td>\n",
       "      <td>0.027476</td>\n",
       "      <td>0.077619</td>\n",
       "      <td>0.436862</td>\n",
       "      <td>0.077710</td>\n",
       "      <td>0.360855</td>\n",
       "      <td>-27.814930</td>\n",
       "      <td>-21.825254</td>\n",
       "      <td>0</td>\n",
       "    </tr>\n",
       "    <tr>\n",
       "      <th>1442</th>\n",
       "      <td>Village   The Soul of India</td>\n",
       "      <td>4.354839</td>\n",
       "      <td>31</td>\n",
       "      <td>516.387097</td>\n",
       "      <td>0.039719</td>\n",
       "      <td>0.019161</td>\n",
       "      <td>0.077325</td>\n",
       "      <td>0.468260</td>\n",
       "      <td>0.034621</td>\n",
       "      <td>0.360913</td>\n",
       "      <td>-29.402138</td>\n",
       "      <td>-20.257568</td>\n",
       "      <td>0</td>\n",
       "    </tr>\n",
       "    <tr>\n",
       "      <th>1469</th>\n",
       "      <td>Zaica Dine   Wine</td>\n",
       "      <td>4.157895</td>\n",
       "      <td>19</td>\n",
       "      <td>622.842105</td>\n",
       "      <td>0.071014</td>\n",
       "      <td>0.028256</td>\n",
       "      <td>0.004143</td>\n",
       "      <td>0.389372</td>\n",
       "      <td>0.069111</td>\n",
       "      <td>0.438104</td>\n",
       "      <td>-29.256317</td>\n",
       "      <td>-24.900221</td>\n",
       "      <td>0</td>\n",
       "    </tr>\n",
       "  </tbody>\n",
       "</table>\n",
       "<p>87 rows × 13 columns</p>\n",
       "</div>"
      ],
      "text/plain": [
       "                             restaurant    rating  review  review_length  \\\n",
       "7                                  1947  4.166667      48     388.958333   \n",
       "11                            24th Main  4.300000      10     409.300000   \n",
       "14               36th Cross Coffee Mane  4.500000      13     392.846154   \n",
       "31                          Aagaman Veg  4.272727      11     535.727273   \n",
       "75              Ambika Vegetarian Hotel  4.100000      10     230.500000   \n",
       "94                          Annalakshmi  4.411765      17     429.941176   \n",
       "102                      Apna Veg Dhaba  4.785714      14     182.785714   \n",
       "115                              Atithi  4.161905     105     351.323810   \n",
       "120              Axomi   Taste of Assam  4.187500      16     557.875000   \n",
       "143                 Banjara Melting Pot  4.333333      12     307.083333   \n",
       "144                            Barbecoa  4.366667      45     549.511111   \n",
       "145            Barbecue by Punjab Grill  4.535714      28     624.250000   \n",
       "211                            Bonsouth  4.583333      36     449.944444   \n",
       "231                           Cable Car  4.526316      38     527.315789   \n",
       "241                              Canopy  4.000000      19     267.368421   \n",
       "251                            Chaavadi  4.700000      10     230.800000   \n",
       "257   Chattorey   The Family Restaurant  4.846154      13     100.846154   \n",
       "275               China Bistro   Lounge  4.100000      10     536.100000   \n",
       "297                       Chutney Chang  4.296296      27     522.296296   \n",
       "356                       Desi Foodizzz  4.638889      18     269.000000   \n",
       "367                     Dilish Kitchens  4.366667      15     465.200000   \n",
       "391           Elements   Mapple Express  3.961538      13     216.923077   \n",
       "403                                Euki  4.100000      10     401.600000   \n",
       "421       Flavours   Octave Hotel   Spa  4.115385      65     359.030769   \n",
       "447         Gandharva Family Restaurant  4.000000      12     251.166667   \n",
       "448                      Ghar Ka Chulha  4.644444      45     141.400000   \n",
       "456                       Gokul Kuteera  4.158654     104     311.096154   \n",
       "466                              Gramin  4.303030      66     489.121212   \n",
       "477                           Gud Dhani  4.153846      13     300.538462   \n",
       "551                         Hunger Camp  4.434783      23     515.434783   \n",
       "...                                 ...       ...     ...            ...   \n",
       "1094             Sea Lions BBQ   Grills  4.600000      30     553.766667   \n",
       "1156          Skyline Family Restaurant  4.772727      11      45.818182   \n",
       "1173                       Spice Affair  4.640000      25     550.920000   \n",
       "1174                         Spice Code  4.400000      15     369.733333   \n",
       "1185                      Spicy Fingers  4.900000      10     192.000000   \n",
       "1186                        Spicy Onion  4.833333      12     201.666667   \n",
       "1193                  Sri Krishna Sagar  4.586207      29      21.172414   \n",
       "1211                             Status  4.057692      52     296.980769   \n",
       "1214                               Subz  4.352941      17     481.647059   \n",
       "1222                        Suryawanshi  4.264706      34     513.500000   \n",
       "1226                               Swad  4.210526      19     256.210526   \n",
       "1230                    Swad Restaurant  3.973684      38     211.131579   \n",
       "1233                       Swadisht Inn  5.000000      10    1529.600000   \n",
       "1241           Swathi Deluxe Restaurant  4.333333      24     233.916667   \n",
       "1258                        Tandoor Hut  4.464286      14     358.000000   \n",
       "1260                     Tandoori Bytes  4.769231      13      76.615385   \n",
       "1276                             Teburu  4.578947      19     492.315789   \n",
       "1281              Thalaserry Food Court  4.900000      10     282.000000   \n",
       "1290              The Asian Curry House  4.414634      41     640.195122   \n",
       "1295                   The Big Barbeque  4.650000      20     398.850000   \n",
       "1304      The Creek   The Den Bengaluru  4.578947      19     461.947368   \n",
       "1316                     The Globe Grub  4.459770      87     468.540230   \n",
       "1360                          The Rasoi  4.300000      15     283.266667   \n",
       "1373                   The Square Table  4.283333      30     503.966667   \n",
       "1376                  The Taste Players  4.923077      13     300.538462   \n",
       "1386                      Thyme   Whisk  4.600000      10     709.000000   \n",
       "1413                        Urban Spice  3.958333      12     399.000000   \n",
       "1414      Urban Spoon Buffet Restaurant  4.547619      21     323.523810   \n",
       "1442        Village   The Soul of India  4.354839      31     516.387097   \n",
       "1469                  Zaica Dine   Wine  4.157895      19     622.842105   \n",
       "\n",
       "      biryani_order  Mutton_Biryani  Ambience  Service_Staff  \\\n",
       "7          0.057836        0.030320  0.097409       0.382053   \n",
       "11         0.028908        0.003965  0.081378       0.289039   \n",
       "14         0.114733        0.098014  0.102865       0.273721   \n",
       "31         0.083744        0.005659  0.139394       0.301278   \n",
       "75         0.113184        0.133791  0.092414       0.369068   \n",
       "94         0.161815        0.053325  0.030559       0.364184   \n",
       "102        0.077064        0.013869  0.018197       0.209025   \n",
       "115        0.065159        0.024607  0.063461       0.359609   \n",
       "120        0.185544        0.030528  0.007977       0.362800   \n",
       "143        0.045144        0.108513  0.125641       0.315274   \n",
       "144        0.081911        0.022193  0.070931       0.373818   \n",
       "145        0.055757        0.028115  0.065378       0.493933   \n",
       "211        0.057571        0.013740  0.088931       0.379785   \n",
       "231        0.065368        0.023024  0.050298       0.359308   \n",
       "241        0.057229        0.078417  0.011663       0.407858   \n",
       "251        0.089468        0.005451  0.059808       0.485870   \n",
       "257        0.094461        0.016408  0.188796       0.239222   \n",
       "275        0.111785        0.023579  0.004314       0.508459   \n",
       "297        0.012192        0.051321  0.016251       0.413566   \n",
       "356        0.137025        0.034711  0.082354       0.336239   \n",
       "367        0.126874        0.085424  0.089345       0.259730   \n",
       "391        0.158167        0.009820  0.058375       0.444618   \n",
       "403        0.129719        0.007649  0.183884       0.349285   \n",
       "421        0.065225        0.025992  0.082933       0.342239   \n",
       "447        0.159037        0.056978  0.091833       0.250402   \n",
       "448        0.162594        0.027446  0.028240       0.284381   \n",
       "456        0.088900        0.033564  0.072236       0.350822   \n",
       "466        0.108637        0.056213  0.064963       0.374154   \n",
       "477        0.063968        0.017210  0.099375       0.319380   \n",
       "551        0.174984        0.072553  0.051816       0.408785   \n",
       "...             ...             ...       ...            ...   \n",
       "1094       0.107297        0.026296  0.053031       0.313540   \n",
       "1156       0.051401        0.007297  0.162953       0.238032   \n",
       "1173       0.114327        0.039061  0.148771       0.338754   \n",
       "1174       0.149102        0.006725  0.058726       0.227594   \n",
       "1185       0.123543        0.016595  0.045858       0.449614   \n",
       "1186       0.197046        0.060808  0.025756       0.293689   \n",
       "1193       0.082378        0.020380  0.193534       0.182461   \n",
       "1211       0.164154        0.040148  0.102581       0.319094   \n",
       "1214       0.021060        0.039002  0.123956       0.283964   \n",
       "1222       0.204706        0.044665  0.019492       0.348533   \n",
       "1226       0.095474        0.036552  0.065577       0.311418   \n",
       "1230       0.136512        0.022550  0.076943       0.241439   \n",
       "1233       0.090378        0.012846  0.032569       0.327074   \n",
       "1241       0.131807        0.135646  0.063286       0.265077   \n",
       "1258       0.145861        0.110535  0.041262       0.384241   \n",
       "1260       0.073970        0.048449  0.018272       0.203897   \n",
       "1276       0.127349        0.003665  0.018435       0.445909   \n",
       "1281       0.138804        0.155898  0.137715       0.112325   \n",
       "1290       0.142706        0.006050  0.074936       0.437027   \n",
       "1295       0.083269        0.072997  0.042335       0.345689   \n",
       "1304       0.050446        0.007770  0.069353       0.497084   \n",
       "1316       0.050018        0.028624  0.063582       0.395400   \n",
       "1360       0.199809        0.016696  0.128240       0.314383   \n",
       "1373       0.230632        0.064030  0.045807       0.313320   \n",
       "1376       0.090056        0.033503  0.060663       0.303688   \n",
       "1386       0.161906        0.010142  0.049765       0.417420   \n",
       "1413       0.139109        0.115129  0.044417       0.291141   \n",
       "1414       0.019478        0.027476  0.077619       0.436862   \n",
       "1442       0.039719        0.019161  0.077325       0.468260   \n",
       "1469       0.071014        0.028256  0.004143       0.389372   \n",
       "\n",
       "      Quality_Quantity    Buffet      tsne1      tsne2  label  \n",
       "7             0.099142  0.333241 -25.234114 -22.952934      0  \n",
       "11            0.104700  0.492010 -28.374153 -28.099382      0  \n",
       "14            0.222960  0.187707  22.362080 -15.961496      0  \n",
       "31            0.154084  0.315841 -22.069731 -25.535416      0  \n",
       "75            0.092991  0.198551 -17.118750 -14.459650      0  \n",
       "94            0.226964  0.163153  -6.245864 -14.408498      0  \n",
       "102           0.370719  0.168270   9.365179 -20.691158      0  \n",
       "115           0.133011  0.316058 -24.297810 -22.682806      0  \n",
       "120           0.320139  0.093012   6.434314 -14.333488      0  \n",
       "143           0.130752  0.274676 -22.793720 -24.444019      0  \n",
       "144           0.063684  0.343018 -26.070034 -23.318111      0  \n",
       "145           0.042466  0.314350 -29.363384 -16.616871      0  \n",
       "211           0.065255  0.311385 -25.405945 -22.441025      0  \n",
       "231           0.091769  0.410233 -27.700151 -25.088932      0  \n",
       "241           0.143836  0.248365 -18.096756 -16.895039      0  \n",
       "251           0.237128  0.022275  -1.943179 -16.942698      0  \n",
       "257           0.214325  0.092942  17.023979 -13.747342      0  \n",
       "275           0.005731  0.346132 -31.538816 -17.791498      0  \n",
       "297           0.032691  0.473980 -30.733665 -25.097790      0  \n",
       "356           0.357183  0.052488   9.849174 -15.876904      0  \n",
       "367           0.231347  0.207280  22.053328 -16.062582      0  \n",
       "391           0.083958  0.245061 -22.293596 -15.222116      0  \n",
       "403           0.066556  0.262906 -19.821508 -24.279202      0  \n",
       "421           0.134801  0.287272 -23.694464 -23.205828      0  \n",
       "447           0.117775  0.323975 -18.615931 -27.755444      0  \n",
       "448           0.299124  0.131548   7.579789 -14.645809      0  \n",
       "456           0.107882  0.327366 -24.583624 -23.188908      0  \n",
       "466           0.100146  0.295887 -23.802025 -21.781078      0  \n",
       "477           0.137882  0.362185 -24.635187 -24.620596      0  \n",
       "551           0.098187  0.193674 -18.581997 -14.136476      0  \n",
       "...                ...       ...        ...        ...    ...  \n",
       "1094          0.056684  0.443153 -28.096966 -26.488678      0  \n",
       "1156          0.281402  0.077097  17.118088 -14.195677      0  \n",
       "1173          0.303025  0.056062  13.443060 -14.532578      0  \n",
       "1174          0.082124  0.275729 -17.747982 -27.484451      0  \n",
       "1185          0.247340  0.117049  -4.158026 -16.158197      0  \n",
       "1186          0.328999  0.093701   8.236555 -13.665535      0  \n",
       "1193          0.266569  0.047781  17.732391 -13.788418      0  \n",
       "1211          0.174163  0.199859 -12.051888 -14.734826      0  \n",
       "1214          0.078026  0.453992 -27.514099 -27.968313      0  \n",
       "1222          0.107271  0.275333 -20.050531 -19.716671      0  \n",
       "1226          0.282562  0.208418   6.769885 -21.392473      0  \n",
       "1230          0.258935  0.184674  20.727762 -15.595728      0  \n",
       "1233          0.274708  0.262425   6.639348 -22.470167      0  \n",
       "1241          0.166217  0.196300  23.499311 -16.976185      0  \n",
       "1258          0.133214  0.184888 -17.521883 -14.671947      0  \n",
       "1260          0.121078  0.226641 -16.725035 -28.282377      0  \n",
       "1276          0.144517  0.260124 -22.967558 -16.921368      0  \n",
       "1281          0.264639  0.190620  26.842199 -15.060322      0  \n",
       "1290          0.090412  0.248869 -22.346638 -14.898044      0  \n",
       "1295          0.082688  0.373022 -26.275087 -24.884277      0  \n",
       "1304          0.081433  0.293914 -28.884396 -14.266992      0  \n",
       "1316          0.093834  0.334060 -25.985561 -22.537558      0  \n",
       "1360          0.076658  0.264213 -18.363785 -25.724569      0  \n",
       "1373          0.081803  0.264408 -19.198347 -20.617844      0  \n",
       "1376          0.373770  0.138320   7.633604 -18.338646      0  \n",
       "1386          0.134250  0.226517 -20.834221 -14.769481      0  \n",
       "1413          0.172544  0.237661  23.280943 -17.518429      0  \n",
       "1414          0.077710  0.360855 -27.814930 -21.825254      0  \n",
       "1442          0.034621  0.360913 -29.402138 -20.257568      0  \n",
       "1469          0.069111  0.438104 -29.256317 -24.900221      0  \n",
       "\n",
       "[87 rows x 13 columns]"
      ]
     },
     "execution_count": 197,
     "metadata": {},
     "output_type": "execute_result"
    }
   ],
   "source": [
    "df11[(df11.review >=10) & (df11.label == 0)]"
   ]
  },
  {
   "cell_type": "code",
   "execution_count": null,
   "metadata": {
    "ExecuteTime": {
     "end_time": "2020-03-26T14:36:57.865358Z",
     "start_time": "2020-03-26T14:36:57.256373Z"
    }
   },
   "outputs": [],
   "source": []
  },
  {
   "cell_type": "code",
   "execution_count": 206,
   "metadata": {
    "ExecuteTime": {
     "end_time": "2020-03-26T14:37:29.733035Z",
     "start_time": "2020-03-26T14:37:29.663222Z"
    }
   },
   "outputs": [],
   "source": [
    "df11 = df11[df11.review>=10]"
   ]
  },
  {
   "cell_type": "code",
   "execution_count": 207,
   "metadata": {
    "ExecuteTime": {
     "end_time": "2020-03-26T14:38:34.363922Z",
     "start_time": "2020-03-26T14:38:34.314026Z"
    }
   },
   "outputs": [],
   "source": [
    "df11.reset_index(inplace = True,drop = 'index')"
   ]
  },
  {
   "cell_type": "code",
   "execution_count": 209,
   "metadata": {
    "ExecuteTime": {
     "end_time": "2020-03-26T14:39:51.610570Z",
     "start_time": "2020-03-26T14:39:51.571671Z"
    }
   },
   "outputs": [],
   "source": [
    "df11.columns = ['restaurant', 'rating', 'review', 'review_length', 'biryani_order',\n",
    "       'Biryani', 'Ambience', 'Service', 'Quality',\n",
    "       'Buffet', 'tsne1', 'tsne2', 'label']"
   ]
  },
  {
   "cell_type": "code",
   "execution_count": 210,
   "metadata": {
    "ExecuteTime": {
     "end_time": "2020-03-26T14:39:57.422456Z",
     "start_time": "2020-03-26T14:39:57.399515Z"
    }
   },
   "outputs": [],
   "source": [
    "df11.to_csv('Pos_review_summary.csv',index=False)"
   ]
  },
  {
   "cell_type": "code",
   "execution_count": 203,
   "metadata": {
    "ExecuteTime": {
     "end_time": "2020-03-26T12:26:05.003781Z",
     "start_time": "2020-03-26T12:26:04.968843Z"
    }
   },
   "outputs": [],
   "source": [
    "df12.to_csv('Neg_review_summary.csv',index=False)"
   ]
  },
  {
   "cell_type": "code",
   "execution_count": null,
   "metadata": {},
   "outputs": [],
   "source": []
  }
 ],
 "metadata": {
  "kernelspec": {
   "display_name": "Python 3",
   "language": "python",
   "name": "python3"
  },
  "language_info": {
   "codemirror_mode": {
    "name": "ipython",
    "version": 3
   },
   "file_extension": ".py",
   "mimetype": "text/x-python",
   "name": "python",
   "nbconvert_exporter": "python",
   "pygments_lexer": "ipython3",
   "version": "3.7.3"
  },
  "toc": {
   "base_numbering": 1,
   "nav_menu": {},
   "number_sections": true,
   "sideBar": true,
   "skip_h1_title": false,
   "title_cell": "Table of Contents",
   "title_sidebar": "Contents",
   "toc_cell": false,
   "toc_position": {},
   "toc_section_display": true,
   "toc_window_display": false
  }
 },
 "nbformat": 4,
 "nbformat_minor": 2
}
