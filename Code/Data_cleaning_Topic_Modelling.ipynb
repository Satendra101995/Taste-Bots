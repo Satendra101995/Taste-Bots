{
 "cells": [
  {
   "cell_type": "code",
   "execution_count": 2,
   "metadata": {
    "ExecuteTime": {
     "end_time": "2020-03-19T14:32:11.365780Z",
     "start_time": "2020-03-19T14:32:05.209439Z"
    }
   },
   "outputs": [
    {
     "name": "stderr",
     "output_type": "stream",
     "text": [
      "[nltk_data] Downloading package stopwords to\n",
      "[nltk_data]     C:\\Users\\91907\\AppData\\Roaming\\nltk_data...\n",
      "[nltk_data]   Package stopwords is already up-to-date!\n"
     ]
    }
   ],
   "source": [
    "import pandas as pd\n",
    "import nltk\n",
    "from nltk.tokenize import word_tokenize\n",
    "nltk.download('stopwords')\n",
    "from nltk.corpus import stopwords\n",
    "import re\n",
    "import seaborn as sns\n",
    "import matplotlib.pyplot as plt\n",
    "import numpy as np\n",
    "from pprint import pprint"
   ]
  },
  {
   "cell_type": "code",
   "execution_count": 3,
   "metadata": {
    "ExecuteTime": {
     "end_time": "2020-03-19T14:32:22.950988Z",
     "start_time": "2020-03-19T14:32:12.240881Z"
    }
   },
   "outputs": [],
   "source": [
    "df = pd.read_csv('zomato.csv')"
   ]
  },
  {
   "cell_type": "code",
   "execution_count": 4,
   "metadata": {
    "ExecuteTime": {
     "end_time": "2020-03-19T14:32:25.676347Z",
     "start_time": "2020-03-19T14:32:25.356604Z"
    }
   },
   "outputs": [
    {
     "data": {
      "text/html": [
       "<div>\n",
       "<style scoped>\n",
       "    .dataframe tbody tr th:only-of-type {\n",
       "        vertical-align: middle;\n",
       "    }\n",
       "\n",
       "    .dataframe tbody tr th {\n",
       "        vertical-align: top;\n",
       "    }\n",
       "\n",
       "    .dataframe thead th {\n",
       "        text-align: right;\n",
       "    }\n",
       "</style>\n",
       "<table border=\"1\" class=\"dataframe\">\n",
       "  <thead>\n",
       "    <tr style=\"text-align: right;\">\n",
       "      <th></th>\n",
       "      <th>url</th>\n",
       "      <th>address</th>\n",
       "      <th>name</th>\n",
       "      <th>online_order</th>\n",
       "      <th>book_table</th>\n",
       "      <th>rate</th>\n",
       "      <th>votes</th>\n",
       "      <th>phone</th>\n",
       "      <th>location</th>\n",
       "      <th>rest_type</th>\n",
       "      <th>dish_liked</th>\n",
       "      <th>cuisines</th>\n",
       "      <th>approx_cost(for two people)</th>\n",
       "      <th>reviews_list</th>\n",
       "      <th>menu_item</th>\n",
       "      <th>listed_in(type)</th>\n",
       "      <th>listed_in(city)</th>\n",
       "    </tr>\n",
       "  </thead>\n",
       "  <tbody>\n",
       "    <tr>\n",
       "      <th>0</th>\n",
       "      <td>https://www.zomato.com/bangalore/jalsa-banasha...</td>\n",
       "      <td>942, 21st Main Road, 2nd Stage, Banashankari, ...</td>\n",
       "      <td>Jalsa</td>\n",
       "      <td>Yes</td>\n",
       "      <td>Yes</td>\n",
       "      <td>4.1/5</td>\n",
       "      <td>775</td>\n",
       "      <td>080 42297555\\r\\n+91 9743772233</td>\n",
       "      <td>Banashankari</td>\n",
       "      <td>Casual Dining</td>\n",
       "      <td>Pasta, Lunch Buffet, Masala Papad, Paneer Laja...</td>\n",
       "      <td>North Indian, Mughlai, Chinese</td>\n",
       "      <td>800</td>\n",
       "      <td>[('Rated 4.0', 'RATED\\n  A beautiful place to ...</td>\n",
       "      <td>[]</td>\n",
       "      <td>Buffet</td>\n",
       "      <td>Banashankari</td>\n",
       "    </tr>\n",
       "    <tr>\n",
       "      <th>1</th>\n",
       "      <td>https://www.zomato.com/bangalore/spice-elephan...</td>\n",
       "      <td>2nd Floor, 80 Feet Road, Near Big Bazaar, 6th ...</td>\n",
       "      <td>Spice Elephant</td>\n",
       "      <td>Yes</td>\n",
       "      <td>No</td>\n",
       "      <td>4.1/5</td>\n",
       "      <td>787</td>\n",
       "      <td>080 41714161</td>\n",
       "      <td>Banashankari</td>\n",
       "      <td>Casual Dining</td>\n",
       "      <td>Momos, Lunch Buffet, Chocolate Nirvana, Thai G...</td>\n",
       "      <td>Chinese, North Indian, Thai</td>\n",
       "      <td>800</td>\n",
       "      <td>[('Rated 4.0', 'RATED\\n  Had been here for din...</td>\n",
       "      <td>[]</td>\n",
       "      <td>Buffet</td>\n",
       "      <td>Banashankari</td>\n",
       "    </tr>\n",
       "    <tr>\n",
       "      <th>2</th>\n",
       "      <td>https://www.zomato.com/SanchurroBangalore?cont...</td>\n",
       "      <td>1112, Next to KIMS Medical College, 17th Cross...</td>\n",
       "      <td>San Churro Cafe</td>\n",
       "      <td>Yes</td>\n",
       "      <td>No</td>\n",
       "      <td>3.8/5</td>\n",
       "      <td>918</td>\n",
       "      <td>+91 9663487993</td>\n",
       "      <td>Banashankari</td>\n",
       "      <td>Cafe, Casual Dining</td>\n",
       "      <td>Churros, Cannelloni, Minestrone Soup, Hot Choc...</td>\n",
       "      <td>Cafe, Mexican, Italian</td>\n",
       "      <td>800</td>\n",
       "      <td>[('Rated 3.0', \"RATED\\n  Ambience is not that ...</td>\n",
       "      <td>[]</td>\n",
       "      <td>Buffet</td>\n",
       "      <td>Banashankari</td>\n",
       "    </tr>\n",
       "    <tr>\n",
       "      <th>3</th>\n",
       "      <td>https://www.zomato.com/bangalore/addhuri-udupi...</td>\n",
       "      <td>1st Floor, Annakuteera, 3rd Stage, Banashankar...</td>\n",
       "      <td>Addhuri Udupi Bhojana</td>\n",
       "      <td>No</td>\n",
       "      <td>No</td>\n",
       "      <td>3.7/5</td>\n",
       "      <td>88</td>\n",
       "      <td>+91 9620009302</td>\n",
       "      <td>Banashankari</td>\n",
       "      <td>Quick Bites</td>\n",
       "      <td>Masala Dosa</td>\n",
       "      <td>South Indian, North Indian</td>\n",
       "      <td>300</td>\n",
       "      <td>[('Rated 4.0', \"RATED\\n  Great food and proper...</td>\n",
       "      <td>[]</td>\n",
       "      <td>Buffet</td>\n",
       "      <td>Banashankari</td>\n",
       "    </tr>\n",
       "    <tr>\n",
       "      <th>4</th>\n",
       "      <td>https://www.zomato.com/bangalore/grand-village...</td>\n",
       "      <td>10, 3rd Floor, Lakshmi Associates, Gandhi Baza...</td>\n",
       "      <td>Grand Village</td>\n",
       "      <td>No</td>\n",
       "      <td>No</td>\n",
       "      <td>3.8/5</td>\n",
       "      <td>166</td>\n",
       "      <td>+91 8026612447\\r\\n+91 9901210005</td>\n",
       "      <td>Basavanagudi</td>\n",
       "      <td>Casual Dining</td>\n",
       "      <td>Panipuri, Gol Gappe</td>\n",
       "      <td>North Indian, Rajasthani</td>\n",
       "      <td>600</td>\n",
       "      <td>[('Rated 4.0', 'RATED\\n  Very good restaurant ...</td>\n",
       "      <td>[]</td>\n",
       "      <td>Buffet</td>\n",
       "      <td>Banashankari</td>\n",
       "    </tr>\n",
       "  </tbody>\n",
       "</table>\n",
       "</div>"
      ],
      "text/plain": [
       "                                                 url  \\\n",
       "0  https://www.zomato.com/bangalore/jalsa-banasha...   \n",
       "1  https://www.zomato.com/bangalore/spice-elephan...   \n",
       "2  https://www.zomato.com/SanchurroBangalore?cont...   \n",
       "3  https://www.zomato.com/bangalore/addhuri-udupi...   \n",
       "4  https://www.zomato.com/bangalore/grand-village...   \n",
       "\n",
       "                                             address                   name  \\\n",
       "0  942, 21st Main Road, 2nd Stage, Banashankari, ...                  Jalsa   \n",
       "1  2nd Floor, 80 Feet Road, Near Big Bazaar, 6th ...         Spice Elephant   \n",
       "2  1112, Next to KIMS Medical College, 17th Cross...        San Churro Cafe   \n",
       "3  1st Floor, Annakuteera, 3rd Stage, Banashankar...  Addhuri Udupi Bhojana   \n",
       "4  10, 3rd Floor, Lakshmi Associates, Gandhi Baza...          Grand Village   \n",
       "\n",
       "  online_order book_table   rate  votes                             phone  \\\n",
       "0          Yes        Yes  4.1/5    775    080 42297555\\r\\n+91 9743772233   \n",
       "1          Yes         No  4.1/5    787                      080 41714161   \n",
       "2          Yes         No  3.8/5    918                    +91 9663487993   \n",
       "3           No         No  3.7/5     88                    +91 9620009302   \n",
       "4           No         No  3.8/5    166  +91 8026612447\\r\\n+91 9901210005   \n",
       "\n",
       "       location            rest_type  \\\n",
       "0  Banashankari        Casual Dining   \n",
       "1  Banashankari        Casual Dining   \n",
       "2  Banashankari  Cafe, Casual Dining   \n",
       "3  Banashankari          Quick Bites   \n",
       "4  Basavanagudi        Casual Dining   \n",
       "\n",
       "                                          dish_liked  \\\n",
       "0  Pasta, Lunch Buffet, Masala Papad, Paneer Laja...   \n",
       "1  Momos, Lunch Buffet, Chocolate Nirvana, Thai G...   \n",
       "2  Churros, Cannelloni, Minestrone Soup, Hot Choc...   \n",
       "3                                        Masala Dosa   \n",
       "4                                Panipuri, Gol Gappe   \n",
       "\n",
       "                         cuisines approx_cost(for two people)  \\\n",
       "0  North Indian, Mughlai, Chinese                         800   \n",
       "1     Chinese, North Indian, Thai                         800   \n",
       "2          Cafe, Mexican, Italian                         800   \n",
       "3      South Indian, North Indian                         300   \n",
       "4        North Indian, Rajasthani                         600   \n",
       "\n",
       "                                        reviews_list menu_item  \\\n",
       "0  [('Rated 4.0', 'RATED\\n  A beautiful place to ...        []   \n",
       "1  [('Rated 4.0', 'RATED\\n  Had been here for din...        []   \n",
       "2  [('Rated 3.0', \"RATED\\n  Ambience is not that ...        []   \n",
       "3  [('Rated 4.0', \"RATED\\n  Great food and proper...        []   \n",
       "4  [('Rated 4.0', 'RATED\\n  Very good restaurant ...        []   \n",
       "\n",
       "  listed_in(type) listed_in(city)  \n",
       "0          Buffet    Banashankari  \n",
       "1          Buffet    Banashankari  \n",
       "2          Buffet    Banashankari  \n",
       "3          Buffet    Banashankari  \n",
       "4          Buffet    Banashankari  "
      ]
     },
     "execution_count": 4,
     "metadata": {},
     "output_type": "execute_result"
    }
   ],
   "source": [
    "df.head()"
   ]
  },
  {
   "cell_type": "code",
   "execution_count": 5,
   "metadata": {
    "ExecuteTime": {
     "end_time": "2020-03-19T14:32:29.816776Z",
     "start_time": "2020-03-19T14:32:29.812786Z"
    }
   },
   "outputs": [],
   "source": [
    "col = ['url','address','phone','menu_item','listed_in(type)','listed_in(city)']"
   ]
  },
  {
   "cell_type": "code",
   "execution_count": 6,
   "metadata": {
    "ExecuteTime": {
     "end_time": "2020-03-19T14:32:31.156144Z",
     "start_time": "2020-03-19T14:32:31.140186Z"
    }
   },
   "outputs": [],
   "source": [
    "df = df.drop(labels = col,axis = 1)"
   ]
  },
  {
   "cell_type": "code",
   "execution_count": 8,
   "metadata": {
    "ExecuteTime": {
     "end_time": "2020-03-19T14:32:36.396020Z",
     "start_time": "2020-03-19T14:32:36.392003Z"
    }
   },
   "outputs": [],
   "source": [
    "# df.reviews_list[1]"
   ]
  },
  {
   "cell_type": "code",
   "execution_count": 9,
   "metadata": {
    "ExecuteTime": {
     "end_time": "2020-03-19T14:32:40.489033Z",
     "start_time": "2020-03-19T14:32:40.486042Z"
    }
   },
   "outputs": [],
   "source": [
    "# pattern = \"\\(\\\\'.+\\)\\\\'\\)\"\n",
    "# re.findall(pattern,df.reviews_list[1])\n",
    "# df[df.name=='Jalsa']"
   ]
  },
  {
   "cell_type": "code",
   "execution_count": 10,
   "metadata": {
    "ExecuteTime": {
     "end_time": "2020-03-19T14:34:27.623869Z",
     "start_time": "2020-03-19T14:34:27.613902Z"
    }
   },
   "outputs": [],
   "source": [
    "df_review = df[['name','rest_type','reviews_list']]\n",
    "df_review.reset_index(drop = 'index',inplace = True)"
   ]
  },
  {
   "cell_type": "code",
   "execution_count": 12,
   "metadata": {
    "ExecuteTime": {
     "end_time": "2020-03-19T14:35:15.940825Z",
     "start_time": "2020-03-19T14:35:15.930850Z"
    }
   },
   "outputs": [
    {
     "data": {
      "text/html": [
       "<div>\n",
       "<style scoped>\n",
       "    .dataframe tbody tr th:only-of-type {\n",
       "        vertical-align: middle;\n",
       "    }\n",
       "\n",
       "    .dataframe tbody tr th {\n",
       "        vertical-align: top;\n",
       "    }\n",
       "\n",
       "    .dataframe thead th {\n",
       "        text-align: right;\n",
       "    }\n",
       "</style>\n",
       "<table border=\"1\" class=\"dataframe\">\n",
       "  <thead>\n",
       "    <tr style=\"text-align: right;\">\n",
       "      <th></th>\n",
       "      <th>name</th>\n",
       "      <th>rest_type</th>\n",
       "      <th>reviews_list</th>\n",
       "    </tr>\n",
       "  </thead>\n",
       "  <tbody>\n",
       "    <tr>\n",
       "      <th>0</th>\n",
       "      <td>Jalsa</td>\n",
       "      <td>Casual Dining</td>\n",
       "      <td>[('Rated 4.0', 'RATED\\n  A beautiful place to ...</td>\n",
       "    </tr>\n",
       "    <tr>\n",
       "      <th>1</th>\n",
       "      <td>Spice Elephant</td>\n",
       "      <td>Casual Dining</td>\n",
       "      <td>[('Rated 4.0', 'RATED\\n  Had been here for din...</td>\n",
       "    </tr>\n",
       "    <tr>\n",
       "      <th>2</th>\n",
       "      <td>San Churro Cafe</td>\n",
       "      <td>Cafe, Casual Dining</td>\n",
       "      <td>[('Rated 3.0', \"RATED\\n  Ambience is not that ...</td>\n",
       "    </tr>\n",
       "    <tr>\n",
       "      <th>3</th>\n",
       "      <td>Addhuri Udupi Bhojana</td>\n",
       "      <td>Quick Bites</td>\n",
       "      <td>[('Rated 4.0', \"RATED\\n  Great food and proper...</td>\n",
       "    </tr>\n",
       "    <tr>\n",
       "      <th>4</th>\n",
       "      <td>Grand Village</td>\n",
       "      <td>Casual Dining</td>\n",
       "      <td>[('Rated 4.0', 'RATED\\n  Very good restaurant ...</td>\n",
       "    </tr>\n",
       "  </tbody>\n",
       "</table>\n",
       "</div>"
      ],
      "text/plain": [
       "                    name            rest_type  \\\n",
       "0                  Jalsa        Casual Dining   \n",
       "1         Spice Elephant        Casual Dining   \n",
       "2        San Churro Cafe  Cafe, Casual Dining   \n",
       "3  Addhuri Udupi Bhojana          Quick Bites   \n",
       "4          Grand Village        Casual Dining   \n",
       "\n",
       "                                        reviews_list  \n",
       "0  [('Rated 4.0', 'RATED\\n  A beautiful place to ...  \n",
       "1  [('Rated 4.0', 'RATED\\n  Had been here for din...  \n",
       "2  [('Rated 3.0', \"RATED\\n  Ambience is not that ...  \n",
       "3  [('Rated 4.0', \"RATED\\n  Great food and proper...  \n",
       "4  [('Rated 4.0', 'RATED\\n  Very good restaurant ...  "
      ]
     },
     "execution_count": 12,
     "metadata": {},
     "output_type": "execute_result"
    }
   ],
   "source": [
    "df_review.head()"
   ]
  },
  {
   "cell_type": "code",
   "execution_count": 15,
   "metadata": {
    "ExecuteTime": {
     "end_time": "2020-03-19T14:36:27.263023Z",
     "start_time": "2020-03-19T14:36:23.829911Z"
    }
   },
   "outputs": [],
   "source": [
    "df_review.reviews_list.replace(to_replace=r'\\\\n',value=' ',regex=True,inplace=True)\n",
    "df_review.reviews_list.replace(to_replace=r\"'\\(',\",value=' ',regex=True,inplace=True)\n",
    "df_review.reviews_list.replace(to_replace=r'\"',value=\"'\",regex=True,inplace=True)\n",
    "# df_casual_sample.replace(to_replace=r\"\\(\\'Rated \\d\\.0\\'\\,\",value='',regex=True,inplace=True)\n",
    "# df_casual_sample.replace(to_replace=r\"[^a-zA-Z]\",value=' ',regex=True,inplace=True)\n",
    "# df_casual_sample.replace(to_replace=r\"\\s+\",value=' ',regex=True,inplace=True)"
   ]
  },
  {
   "cell_type": "code",
   "execution_count": 97,
   "metadata": {
    "ExecuteTime": {
     "end_time": "2020-03-13T07:46:09.571543Z",
     "start_time": "2020-03-13T07:46:09.471355Z"
    },
    "scrolled": true
   },
   "outputs": [],
   "source": [
    "# df_casual_review.replace(to_replace=r\"'\\(',\",value=' ',regex=True,inplace=True)"
   ]
  },
  {
   "cell_type": "code",
   "execution_count": 98,
   "metadata": {
    "ExecuteTime": {
     "end_time": "2020-03-13T07:46:11.180247Z",
     "start_time": "2020-03-13T07:46:10.724216Z"
    }
   },
   "outputs": [],
   "source": [
    "# df_casual_review.replace(to_replace=r'\"',value=\"'\",regex=True,inplace=True)"
   ]
  },
  {
   "cell_type": "code",
   "execution_count": 16,
   "metadata": {
    "ExecuteTime": {
     "end_time": "2020-03-19T14:36:40.340209Z",
     "start_time": "2020-03-19T14:36:40.283362Z"
    }
   },
   "outputs": [
    {
     "data": {
      "text/html": [
       "<div>\n",
       "<style scoped>\n",
       "    .dataframe tbody tr th:only-of-type {\n",
       "        vertical-align: middle;\n",
       "    }\n",
       "\n",
       "    .dataframe tbody tr th {\n",
       "        vertical-align: top;\n",
       "    }\n",
       "\n",
       "    .dataframe thead th {\n",
       "        text-align: right;\n",
       "    }\n",
       "</style>\n",
       "<table border=\"1\" class=\"dataframe\">\n",
       "  <thead>\n",
       "    <tr style=\"text-align: right;\">\n",
       "      <th></th>\n",
       "      <th>name</th>\n",
       "      <th>rest_type</th>\n",
       "      <th>reviews_list</th>\n",
       "    </tr>\n",
       "  </thead>\n",
       "  <tbody>\n",
       "    <tr>\n",
       "      <th>0</th>\n",
       "      <td>Jalsa</td>\n",
       "      <td>Casual Dining</td>\n",
       "      <td>[('Rated 4.0', 'RATED   A beautiful place to d...</td>\n",
       "    </tr>\n",
       "    <tr>\n",
       "      <th>1</th>\n",
       "      <td>Spice Elephant</td>\n",
       "      <td>Casual Dining</td>\n",
       "      <td>[('Rated 4.0', 'RATED   Had been here for dinn...</td>\n",
       "    </tr>\n",
       "    <tr>\n",
       "      <th>2</th>\n",
       "      <td>San Churro Cafe</td>\n",
       "      <td>Cafe, Casual Dining</td>\n",
       "      <td>[('Rated 3.0', 'RATED   Ambience is not that g...</td>\n",
       "    </tr>\n",
       "    <tr>\n",
       "      <th>3</th>\n",
       "      <td>Addhuri Udupi Bhojana</td>\n",
       "      <td>Quick Bites</td>\n",
       "      <td>[('Rated 4.0', 'RATED   Great food and proper ...</td>\n",
       "    </tr>\n",
       "    <tr>\n",
       "      <th>4</th>\n",
       "      <td>Grand Village</td>\n",
       "      <td>Casual Dining</td>\n",
       "      <td>[('Rated 4.0', 'RATED   Very good restaurant i...</td>\n",
       "    </tr>\n",
       "  </tbody>\n",
       "</table>\n",
       "</div>"
      ],
      "text/plain": [
       "                    name            rest_type  \\\n",
       "0                  Jalsa        Casual Dining   \n",
       "1         Spice Elephant        Casual Dining   \n",
       "2        San Churro Cafe  Cafe, Casual Dining   \n",
       "3  Addhuri Udupi Bhojana          Quick Bites   \n",
       "4          Grand Village        Casual Dining   \n",
       "\n",
       "                                        reviews_list  \n",
       "0  [('Rated 4.0', 'RATED   A beautiful place to d...  \n",
       "1  [('Rated 4.0', 'RATED   Had been here for dinn...  \n",
       "2  [('Rated 3.0', 'RATED   Ambience is not that g...  \n",
       "3  [('Rated 4.0', 'RATED   Great food and proper ...  \n",
       "4  [('Rated 4.0', 'RATED   Very good restaurant i...  "
      ]
     },
     "execution_count": 16,
     "metadata": {},
     "output_type": "execute_result"
    }
   ],
   "source": [
    "df_review.head()"
   ]
  },
  {
   "cell_type": "code",
   "execution_count": 101,
   "metadata": {
    "ExecuteTime": {
     "end_time": "2020-03-13T07:46:24.639171Z",
     "start_time": "2020-03-13T07:46:24.612789Z"
    }
   },
   "outputs": [
    {
     "data": {
      "text/plain": [
       "\" 'RATED   The ambience is really nice, staff is courteous. The price is pretty high for the quantity, but overall the experience was fine. The quality of food is nice but nothing extraordinary. They also have buffet(only veg)'), (\""
      ]
     },
     "execution_count": 101,
     "metadata": {},
     "output_type": "execute_result"
    }
   ],
   "source": [
    "# re.split(\"'Rated \",df_casual_review.reviews_list[1])[2].split(\"',\")[1]"
   ]
  },
  {
   "cell_type": "code",
   "execution_count": 46,
   "metadata": {
    "ExecuteTime": {
     "end_time": "2020-03-13T07:31:01.341170Z",
     "start_time": "2020-03-13T07:31:01.302936Z"
    }
   },
   "outputs": [],
   "source": [
    "# (len(re.split(\"'Rated \",df_casual_review.reviews_list[1]))-1)"
   ]
  },
  {
   "cell_type": "code",
   "execution_count": 18,
   "metadata": {
    "ExecuteTime": {
     "end_time": "2020-03-19T14:48:31.509168Z",
     "start_time": "2020-03-19T14:39:32.615407Z"
    }
   },
   "outputs": [],
   "source": [
    "star = []\n",
    "review = []\n",
    "restaurant = []\n",
    "restaurant_type = []\n",
    "for i in range(len(df_review)):\n",
    "    for j in range(len(re.split(\"'Rated \",df_review.reviews_list[i]))-1):\n",
    "        restaurant.append(df_review.name[i])\n",
    "        restaurant_type.append(df_review.rest_type[i])\n",
    "        star.append(re.split(\"'Rated \",df_review.reviews_list[i])[j+1].split(\"',\")[0])\n",
    "        review.append(re.split(\"'Rated \",df_review.reviews_list[i])[j+1].split(\"',\")[1])"
   ]
  },
  {
   "cell_type": "code",
   "execution_count": 19,
   "metadata": {
    "ExecuteTime": {
     "end_time": "2020-03-19T14:50:54.518157Z",
     "start_time": "2020-03-19T14:50:54.369149Z"
    }
   },
   "outputs": [],
   "source": [
    "# review"
   ]
  },
  {
   "cell_type": "code",
   "execution_count": 20,
   "metadata": {
    "ExecuteTime": {
     "end_time": "2020-03-19T14:54:23.085714Z",
     "start_time": "2020-03-19T14:50:58.284833Z"
    }
   },
   "outputs": [],
   "source": [
    "data = pd.DataFrame([restaurant,restaurant_type,star,review])"
   ]
  },
  {
   "cell_type": "code",
   "execution_count": 21,
   "metadata": {
    "ExecuteTime": {
     "end_time": "2020-03-19T14:54:23.265942Z",
     "start_time": "2020-03-19T14:54:23.088790Z"
    }
   },
   "outputs": [],
   "source": [
    "data = data.T"
   ]
  },
  {
   "cell_type": "code",
   "execution_count": 22,
   "metadata": {
    "ExecuteTime": {
     "end_time": "2020-03-19T14:54:23.282888Z",
     "start_time": "2020-03-19T14:54:23.270798Z"
    }
   },
   "outputs": [],
   "source": [
    "data.columns = ['restaurant','restaurant_type','rating','review']"
   ]
  },
  {
   "cell_type": "code",
   "execution_count": 23,
   "metadata": {
    "ExecuteTime": {
     "end_time": "2020-03-19T14:57:23.552143Z",
     "start_time": "2020-03-19T14:57:16.554722Z"
    }
   },
   "outputs": [],
   "source": [
    "data.review.replace(to_replace=r\" 'RATED   \",value='',regex=True,inplace=True)\n",
    "data.review.replace(to_replace=r\"'\\), \\(\",value='',regex=True,inplace=True)"
   ]
  },
  {
   "cell_type": "code",
   "execution_count": 31,
   "metadata": {
    "ExecuteTime": {
     "end_time": "2020-03-19T15:02:32.900852Z",
     "start_time": "2020-03-19T15:01:42.507455Z"
    }
   },
   "outputs": [],
   "source": [
    "data.review.replace(to_replace=r\"[^a-zA-Z0-9']\",value=' ',regex=True,inplace = True)\n",
    "# data.rating = pd.to_numeric(data.rating)\n",
    "# data.review = data.review.astype(str)"
   ]
  },
  {
   "cell_type": "code",
   "execution_count": 32,
   "metadata": {
    "ExecuteTime": {
     "end_time": "2020-03-19T15:02:37.340731Z",
     "start_time": "2020-03-19T15:02:37.281889Z"
    }
   },
   "outputs": [
    {
     "data": {
      "text/html": [
       "<div>\n",
       "<style scoped>\n",
       "    .dataframe tbody tr th:only-of-type {\n",
       "        vertical-align: middle;\n",
       "    }\n",
       "\n",
       "    .dataframe tbody tr th {\n",
       "        vertical-align: top;\n",
       "    }\n",
       "\n",
       "    .dataframe thead th {\n",
       "        text-align: right;\n",
       "    }\n",
       "</style>\n",
       "<table border=\"1\" class=\"dataframe\">\n",
       "  <thead>\n",
       "    <tr style=\"text-align: right;\">\n",
       "      <th></th>\n",
       "      <th>restaurant</th>\n",
       "      <th>restaurant_type</th>\n",
       "      <th>rating</th>\n",
       "      <th>review</th>\n",
       "    </tr>\n",
       "  </thead>\n",
       "  <tbody>\n",
       "    <tr>\n",
       "      <th>0</th>\n",
       "      <td>Jalsa</td>\n",
       "      <td>Casual Dining</td>\n",
       "      <td>4.0</td>\n",
       "      <td>A beautiful place to dine in The interiors tak...</td>\n",
       "    </tr>\n",
       "    <tr>\n",
       "      <th>1</th>\n",
       "      <td>Jalsa</td>\n",
       "      <td>Casual Dining</td>\n",
       "      <td>4.0</td>\n",
       "      <td>I was here for dinner with my family on a week...</td>\n",
       "    </tr>\n",
       "    <tr>\n",
       "      <th>2</th>\n",
       "      <td>Jalsa</td>\n",
       "      <td>Casual Dining</td>\n",
       "      <td>2.0</td>\n",
       "      <td>Its a restaurant near to Banashankari BDA  Me ...</td>\n",
       "    </tr>\n",
       "    <tr>\n",
       "      <th>3</th>\n",
       "      <td>Jalsa</td>\n",
       "      <td>Casual Dining</td>\n",
       "      <td>4.0</td>\n",
       "      <td>We went here on a weekend and one of us had th...</td>\n",
       "    </tr>\n",
       "    <tr>\n",
       "      <th>4</th>\n",
       "      <td>Jalsa</td>\n",
       "      <td>Casual Dining</td>\n",
       "      <td>5.0</td>\n",
       "      <td>The best thing about the place is it   x83   x...</td>\n",
       "    </tr>\n",
       "    <tr>\n",
       "      <th>5</th>\n",
       "      <td>Jalsa</td>\n",
       "      <td>Casual Dining</td>\n",
       "      <td>5.0</td>\n",
       "      <td>Great food and pleasant ambience  Expensive bu...</td>\n",
       "    </tr>\n",
       "    <tr>\n",
       "      <th>6</th>\n",
       "      <td>Jalsa</td>\n",
       "      <td>Casual Dining</td>\n",
       "      <td>4.0</td>\n",
       "      <td>Good ambience with tasty food  Cheese chilli p...</td>\n",
       "    </tr>\n",
       "    <tr>\n",
       "      <th>7</th>\n",
       "      <td>Jalsa</td>\n",
       "      <td>Casual Dining</td>\n",
       "      <td>4.0</td>\n",
       "      <td>You can   x83   x83   x82   x82   x83   x82   ...</td>\n",
       "    </tr>\n",
       "    <tr>\n",
       "      <th>8</th>\n",
       "      <td>Jalsa</td>\n",
       "      <td>Casual Dining</td>\n",
       "      <td>5.0</td>\n",
       "      <td>Overdelighted by the service and food provided...</td>\n",
       "    </tr>\n",
       "    <tr>\n",
       "      <th>9</th>\n",
       "      <td>Jalsa</td>\n",
       "      <td>Casual Dining</td>\n",
       "      <td>4.0</td>\n",
       "      <td>The place is nice and comfortable  Food wise a...</td>\n",
       "    </tr>\n",
       "    <tr>\n",
       "      <th>10</th>\n",
       "      <td>Jalsa</td>\n",
       "      <td>Casual Dining</td>\n",
       "      <td>4.0</td>\n",
       "      <td>The place is nice and comfortable  Food wise a...</td>\n",
       "    </tr>\n",
       "    <tr>\n",
       "      <th>11</th>\n",
       "      <td>Jalsa</td>\n",
       "      <td>Casual Dining</td>\n",
       "      <td>4.0</td>\n",
       "      <td>The place is nice and comfortable  Food wise a...</td>\n",
       "    </tr>\n",
       "    <tr>\n",
       "      <th>12</th>\n",
       "      <td>Spice Elephant</td>\n",
       "      <td>Casual Dining</td>\n",
       "      <td>4.0</td>\n",
       "      <td>Had been here for dinner with family  Turned o...</td>\n",
       "    </tr>\n",
       "    <tr>\n",
       "      <th>13</th>\n",
       "      <td>Spice Elephant</td>\n",
       "      <td>Casual Dining</td>\n",
       "      <td>3.0</td>\n",
       "      <td>The ambience is really nice  staff is courteou...</td>\n",
       "    </tr>\n",
       "    <tr>\n",
       "      <th>14</th>\n",
       "      <td>Spice Elephant</td>\n",
       "      <td>Casual Dining</td>\n",
       "      <td>3.0</td>\n",
       "      <td>I felt good is little expensive for the quanti...</td>\n",
       "    </tr>\n",
       "    <tr>\n",
       "      <th>15</th>\n",
       "      <td>Spice Elephant</td>\n",
       "      <td>Casual Dining</td>\n",
       "      <td>4.0</td>\n",
       "      <td>I was looking for a quite place to spend some ...</td>\n",
       "    </tr>\n",
       "    <tr>\n",
       "      <th>16</th>\n",
       "      <td>Spice Elephant</td>\n",
       "      <td>Casual Dining</td>\n",
       "      <td>4.0</td>\n",
       "      <td>Nice place to dine and has a good ambiance    ...</td>\n",
       "    </tr>\n",
       "    <tr>\n",
       "      <th>17</th>\n",
       "      <td>Spice Elephant</td>\n",
       "      <td>Casual Dining</td>\n",
       "      <td>5.0</td>\n",
       "      <td>This place just cool   with good ambience and ...</td>\n",
       "    </tr>\n",
       "    <tr>\n",
       "      <th>18</th>\n",
       "      <td>Spice Elephant</td>\n",
       "      <td>Casual Dining</td>\n",
       "      <td>4.0</td>\n",
       "      <td>Quiet a good family type of place   too calm a...</td>\n",
       "    </tr>\n",
       "    <tr>\n",
       "      <th>19</th>\n",
       "      <td>Spice Elephant</td>\n",
       "      <td>Casual Dining</td>\n",
       "      <td>2.0</td>\n",
       "      <td>I had a very bad experience here  I don't know...</td>\n",
       "    </tr>\n",
       "    <tr>\n",
       "      <th>20</th>\n",
       "      <td>Spice Elephant</td>\n",
       "      <td>Casual Dining</td>\n",
       "      <td>4.0</td>\n",
       "      <td>Food  8 10 Ambience 8 10 Staff 8 10 One of the...</td>\n",
       "    </tr>\n",
       "    <tr>\n",
       "      <th>21</th>\n",
       "      <td>Spice Elephant</td>\n",
       "      <td>Casual Dining</td>\n",
       "      <td>3.0</td>\n",
       "      <td>A decent place for a family lunch or dinner   ...</td>\n",
       "    </tr>\n",
       "    <tr>\n",
       "      <th>22</th>\n",
       "      <td>Spice Elephant</td>\n",
       "      <td>Casual Dining</td>\n",
       "      <td>4.0</td>\n",
       "      <td>Great place to have a heavy lunch  Good servic...</td>\n",
       "    </tr>\n",
       "    <tr>\n",
       "      <th>23</th>\n",
       "      <td>Spice Elephant</td>\n",
       "      <td>Casual Dining</td>\n",
       "      <td>4.0</td>\n",
       "      <td>Its the one restaurant near katriguppe that i ...</td>\n",
       "    </tr>\n",
       "    <tr>\n",
       "      <th>24</th>\n",
       "      <td>Spice Elephant</td>\n",
       "      <td>Casual Dining</td>\n",
       "      <td>2.0</td>\n",
       "      <td>Spice elephant soup SPL  almost manchow flavou...</td>\n",
       "    </tr>\n",
       "    <tr>\n",
       "      <th>25</th>\n",
       "      <td>Spice Elephant</td>\n",
       "      <td>Casual Dining</td>\n",
       "      <td>4.0</td>\n",
       "      <td>Zomato gold partner at this price  It was insa...</td>\n",
       "    </tr>\n",
       "    <tr>\n",
       "      <th>26</th>\n",
       "      <td>San Churro Cafe</td>\n",
       "      <td>Cafe, Casual Dining</td>\n",
       "      <td>3.0</td>\n",
       "      <td>Ambience is not that good enough and it's not ...</td>\n",
       "    </tr>\n",
       "    <tr>\n",
       "      <th>27</th>\n",
       "      <td>San Churro Cafe</td>\n",
       "      <td>Cafe, Casual Dining</td>\n",
       "      <td>3.0</td>\n",
       "      <td>Went there for a quick bite with friends  The ...</td>\n",
       "    </tr>\n",
       "    <tr>\n",
       "      <th>28</th>\n",
       "      <td>San Churro Cafe</td>\n",
       "      <td>Cafe, Casual Dining</td>\n",
       "      <td>4.0</td>\n",
       "      <td>First of all  a big thanks to the staff of thi...</td>\n",
       "    </tr>\n",
       "    <tr>\n",
       "      <th>29</th>\n",
       "      <td>San Churro Cafe</td>\n",
       "      <td>Cafe, Casual Dining</td>\n",
       "      <td>3.0</td>\n",
       "      <td>A place for people who love churos  Otherwise ...</td>\n",
       "    </tr>\n",
       "    <tr>\n",
       "      <th>30</th>\n",
       "      <td>San Churro Cafe</td>\n",
       "      <td>Cafe, Casual Dining</td>\n",
       "      <td>3.0</td>\n",
       "      <td>Have been visiting this place since years  The...</td>\n",
       "    </tr>\n",
       "    <tr>\n",
       "      <th>31</th>\n",
       "      <td>San Churro Cafe</td>\n",
       "      <td>Cafe, Casual Dining</td>\n",
       "      <td>1.0</td>\n",
       "      <td>Really disappointed with the place   Seems lik...</td>\n",
       "    </tr>\n",
       "    <tr>\n",
       "      <th>32</th>\n",
       "      <td>San Churro Cafe</td>\n",
       "      <td>Cafe, Casual Dining</td>\n",
       "      <td>3.0</td>\n",
       "      <td>Congested atmosphere due to smoke from kitchen...</td>\n",
       "    </tr>\n",
       "    <tr>\n",
       "      <th>33</th>\n",
       "      <td>San Churro Cafe</td>\n",
       "      <td>Cafe, Casual Dining</td>\n",
       "      <td>1.0</td>\n",
       "      <td>Cockroaches    I Repeat cockroaches  Bakasura ...</td>\n",
       "    </tr>\n",
       "    <tr>\n",
       "      <th>34</th>\n",
       "      <td>San Churro Cafe</td>\n",
       "      <td>Cafe, Casual Dining</td>\n",
       "      <td>4.0</td>\n",
       "      <td>A nice place to hangout  this place looks prof...</td>\n",
       "    </tr>\n",
       "    <tr>\n",
       "      <th>35</th>\n",
       "      <td>San Churro Cafe</td>\n",
       "      <td>Cafe, Casual Dining</td>\n",
       "      <td>4.0</td>\n",
       "      <td>1  pizza mocktails shakes and churros really v...</td>\n",
       "    </tr>\n",
       "    <tr>\n",
       "      <th>36</th>\n",
       "      <td>San Churro Cafe</td>\n",
       "      <td>Cafe, Casual Dining</td>\n",
       "      <td>3.0</td>\n",
       "      <td>One of my favourite places that I often visit ...</td>\n",
       "    </tr>\n",
       "    <tr>\n",
       "      <th>37</th>\n",
       "      <td>San Churro Cafe</td>\n",
       "      <td>Cafe, Casual Dining</td>\n",
       "      <td>4.0</td>\n",
       "      <td>Visited this place long before  place come to ...</td>\n",
       "    </tr>\n",
       "    <tr>\n",
       "      <th>38</th>\n",
       "      <td>San Churro Cafe</td>\n",
       "      <td>Cafe, Casual Dining</td>\n",
       "      <td>4.0</td>\n",
       "      <td>Spain pictures of Churros triggered Nostalgia ...</td>\n",
       "    </tr>\n",
       "    <tr>\n",
       "      <th>39</th>\n",
       "      <td>San Churro Cafe</td>\n",
       "      <td>Cafe, Casual Dining</td>\n",
       "      <td>3.0</td>\n",
       "      <td>x83   x83   x82   x82   x83   x82   x82   x...</td>\n",
       "    </tr>\n",
       "  </tbody>\n",
       "</table>\n",
       "</div>"
      ],
      "text/plain": [
       "         restaurant      restaurant_type  rating  \\\n",
       "0             Jalsa        Casual Dining     4.0   \n",
       "1             Jalsa        Casual Dining     4.0   \n",
       "2             Jalsa        Casual Dining     2.0   \n",
       "3             Jalsa        Casual Dining     4.0   \n",
       "4             Jalsa        Casual Dining     5.0   \n",
       "5             Jalsa        Casual Dining     5.0   \n",
       "6             Jalsa        Casual Dining     4.0   \n",
       "7             Jalsa        Casual Dining     4.0   \n",
       "8             Jalsa        Casual Dining     5.0   \n",
       "9             Jalsa        Casual Dining     4.0   \n",
       "10            Jalsa        Casual Dining     4.0   \n",
       "11            Jalsa        Casual Dining     4.0   \n",
       "12   Spice Elephant        Casual Dining     4.0   \n",
       "13   Spice Elephant        Casual Dining     3.0   \n",
       "14   Spice Elephant        Casual Dining     3.0   \n",
       "15   Spice Elephant        Casual Dining     4.0   \n",
       "16   Spice Elephant        Casual Dining     4.0   \n",
       "17   Spice Elephant        Casual Dining     5.0   \n",
       "18   Spice Elephant        Casual Dining     4.0   \n",
       "19   Spice Elephant        Casual Dining     2.0   \n",
       "20   Spice Elephant        Casual Dining     4.0   \n",
       "21   Spice Elephant        Casual Dining     3.0   \n",
       "22   Spice Elephant        Casual Dining     4.0   \n",
       "23   Spice Elephant        Casual Dining     4.0   \n",
       "24   Spice Elephant        Casual Dining     2.0   \n",
       "25   Spice Elephant        Casual Dining     4.0   \n",
       "26  San Churro Cafe  Cafe, Casual Dining     3.0   \n",
       "27  San Churro Cafe  Cafe, Casual Dining     3.0   \n",
       "28  San Churro Cafe  Cafe, Casual Dining     4.0   \n",
       "29  San Churro Cafe  Cafe, Casual Dining     3.0   \n",
       "30  San Churro Cafe  Cafe, Casual Dining     3.0   \n",
       "31  San Churro Cafe  Cafe, Casual Dining     1.0   \n",
       "32  San Churro Cafe  Cafe, Casual Dining     3.0   \n",
       "33  San Churro Cafe  Cafe, Casual Dining     1.0   \n",
       "34  San Churro Cafe  Cafe, Casual Dining     4.0   \n",
       "35  San Churro Cafe  Cafe, Casual Dining     4.0   \n",
       "36  San Churro Cafe  Cafe, Casual Dining     3.0   \n",
       "37  San Churro Cafe  Cafe, Casual Dining     4.0   \n",
       "38  San Churro Cafe  Cafe, Casual Dining     4.0   \n",
       "39  San Churro Cafe  Cafe, Casual Dining     3.0   \n",
       "\n",
       "                                               review  \n",
       "0   A beautiful place to dine in The interiors tak...  \n",
       "1   I was here for dinner with my family on a week...  \n",
       "2   Its a restaurant near to Banashankari BDA  Me ...  \n",
       "3   We went here on a weekend and one of us had th...  \n",
       "4   The best thing about the place is it   x83   x...  \n",
       "5   Great food and pleasant ambience  Expensive bu...  \n",
       "6   Good ambience with tasty food  Cheese chilli p...  \n",
       "7   You can   x83   x83   x82   x82   x83   x82   ...  \n",
       "8   Overdelighted by the service and food provided...  \n",
       "9   The place is nice and comfortable  Food wise a...  \n",
       "10  The place is nice and comfortable  Food wise a...  \n",
       "11  The place is nice and comfortable  Food wise a...  \n",
       "12  Had been here for dinner with family  Turned o...  \n",
       "13  The ambience is really nice  staff is courteou...  \n",
       "14  I felt good is little expensive for the quanti...  \n",
       "15  I was looking for a quite place to spend some ...  \n",
       "16  Nice place to dine and has a good ambiance    ...  \n",
       "17  This place just cool   with good ambience and ...  \n",
       "18  Quiet a good family type of place   too calm a...  \n",
       "19  I had a very bad experience here  I don't know...  \n",
       "20  Food  8 10 Ambience 8 10 Staff 8 10 One of the...  \n",
       "21  A decent place for a family lunch or dinner   ...  \n",
       "22  Great place to have a heavy lunch  Good servic...  \n",
       "23  Its the one restaurant near katriguppe that i ...  \n",
       "24  Spice elephant soup SPL  almost manchow flavou...  \n",
       "25  Zomato gold partner at this price  It was insa...  \n",
       "26  Ambience is not that good enough and it's not ...  \n",
       "27  Went there for a quick bite with friends  The ...  \n",
       "28  First of all  a big thanks to the staff of thi...  \n",
       "29  A place for people who love churos  Otherwise ...  \n",
       "30  Have been visiting this place since years  The...  \n",
       "31  Really disappointed with the place   Seems lik...  \n",
       "32  Congested atmosphere due to smoke from kitchen...  \n",
       "33  Cockroaches    I Repeat cockroaches  Bakasura ...  \n",
       "34  A nice place to hangout  this place looks prof...  \n",
       "35  1  pizza mocktails shakes and churros really v...  \n",
       "36  One of my favourite places that I often visit ...  \n",
       "37  Visited this place long before  place come to ...  \n",
       "38  Spain pictures of Churros triggered Nostalgia ...  \n",
       "39     x83   x83   x82   x82   x83   x82   x82   x...  "
      ]
     },
     "execution_count": 32,
     "metadata": {},
     "output_type": "execute_result"
    }
   ],
   "source": [
    "data.head(40)"
   ]
  },
  {
   "cell_type": "code",
   "execution_count": 34,
   "metadata": {
    "ExecuteTime": {
     "end_time": "2020-03-19T15:03:11.525556Z",
     "start_time": "2020-03-19T15:03:09.207348Z"
    }
   },
   "outputs": [],
   "source": [
    "data.restaurant.replace(to_replace=r\"[^a-zA-Z0-9']\",value=' ',regex=True,inplace = True)"
   ]
  },
  {
   "cell_type": "code",
   "execution_count": 35,
   "metadata": {
    "ExecuteTime": {
     "end_time": "2020-03-19T15:03:18.388377Z",
     "start_time": "2020-03-19T15:03:15.913627Z"
    }
   },
   "outputs": [],
   "source": [
    "data_unique = data.drop_duplicates().reset_index(drop = 'index')"
   ]
  },
  {
   "cell_type": "code",
   "execution_count": 36,
   "metadata": {
    "ExecuteTime": {
     "end_time": "2020-03-19T15:03:54.419594Z",
     "start_time": "2020-03-19T15:03:51.672998Z"
    }
   },
   "outputs": [],
   "source": [
    "data_unique.to_csv('data_unique.csv',encoding='UTF-8',index=False)"
   ]
  }
 ],
 "metadata": {
  "kernelspec": {
   "display_name": "Python 3",
   "language": "python",
   "name": "python3"
  },
  "language_info": {
   "codemirror_mode": {
    "name": "ipython",
    "version": 3
   },
   "file_extension": ".py",
   "mimetype": "text/x-python",
   "name": "python",
   "nbconvert_exporter": "python",
   "pygments_lexer": "ipython3",
   "version": "3.7.3"
  },
  "toc": {
   "base_numbering": 1,
   "nav_menu": {},
   "number_sections": true,
   "sideBar": true,
   "skip_h1_title": false,
   "title_cell": "Table of Contents",
   "title_sidebar": "Contents",
   "toc_cell": false,
   "toc_position": {},
   "toc_section_display": true,
   "toc_window_display": false
  }
 },
 "nbformat": 4,
 "nbformat_minor": 2
}
